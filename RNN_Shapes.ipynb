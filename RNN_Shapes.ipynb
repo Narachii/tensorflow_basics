{
  "nbformat": 4,
  "nbformat_minor": 0,
  "metadata": {
    "colab": {
      "name": "RNN_Shapes.ipynb",
      "provenance": [],
      "authorship_tag": "ABX9TyOdzv5L3K9qjqJZ5R4xZtvO",
      "include_colab_link": true
    },
    "kernelspec": {
      "name": "python3",
      "display_name": "Python 3"
    }
  },
  "cells": [
    {
      "cell_type": "markdown",
      "metadata": {
        "id": "view-in-github",
        "colab_type": "text"
      },
      "source": [
        "<a href=\"https://colab.research.google.com/github/Narachii/tensorflow_basics/blob/sequence_model/RNN_Shapes.ipynb\" target=\"_parent\"><img src=\"https://colab.research.google.com/assets/colab-badge.svg\" alt=\"Open In Colab\"/></a>"
      ]
    },
    {
      "cell_type": "code",
      "metadata": {
        "id": "-BYtQHv5YYJb",
        "colab_type": "code",
        "colab": {}
      },
      "source": [
        "import tensorflow as tf"
      ],
      "execution_count": 0,
      "outputs": []
    },
    {
      "cell_type": "code",
      "metadata": {
        "id": "iouJgKwnawTa",
        "colab_type": "code",
        "colab": {}
      },
      "source": [
        "from tensorflow.keras.layers import Input, SimpleRNN, Dense, Flatten\n",
        "from tensorflow.keras.models import Model\n",
        "from tensorflow.keras.optimizers import SGD, Adam\n",
        "\n",
        "import numpy as np\n",
        "import pandas as pd\n",
        "import matplotlib.pyplot as plt"
      ],
      "execution_count": 0,
      "outputs": []
    },
    {
      "cell_type": "code",
      "metadata": {
        "id": "_EvhVSdRbBMR",
        "colab_type": "code",
        "colab": {}
      },
      "source": [
        "# N = number of samples\n",
        "# T = sequence length\n",
        "# D = number of input features\n",
        "# M = number of hidden units\n",
        "# K = number of output units"
      ],
      "execution_count": 0,
      "outputs": []
    },
    {
      "cell_type": "code",
      "metadata": {
        "id": "Z3fAJx9pbJxs",
        "colab_type": "code",
        "colab": {}
      },
      "source": [
        "N = 1\n",
        "T = 10\n",
        "D = 3\n",
        "K = 2\n",
        "X = np.random.randn(N, T, D) # Rnn requires 3D array"
      ],
      "execution_count": 0,
      "outputs": []
    },
    {
      "cell_type": "code",
      "metadata": {
        "id": "sfoJlufybDo5",
        "colab_type": "code",
        "colab": {}
      },
      "source": [
        "M = 5 # number of hidden units\n",
        "i = Input(shape=(T, D)) # N is taken care by Keras\n",
        "x = SimpleRNN(M)(i)\n",
        "x = Dense(K)(x)\n",
        "\n",
        "model = Model(i, x)"
      ],
      "execution_count": 0,
      "outputs": []
    },
    {
      "cell_type": "code",
      "metadata": {
        "id": "Up5dNIYMbf4y",
        "colab_type": "code",
        "colab": {
          "base_uri": "https://localhost:8080/",
          "height": 34
        },
        "outputId": "06e5172b-e2a3-4b3a-876f-76cea584a865"
      },
      "source": [
        "# Get the output\n",
        "Yhat = model.predict(X)\n",
        "print(Yhat)"
      ],
      "execution_count": 9,
      "outputs": [
        {
          "output_type": "stream",
          "text": [
            "[[-0.01013584  0.0394633 ]]\n"
          ],
          "name": "stdout"
        }
      ]
    },
    {
      "cell_type": "code",
      "metadata": {
        "id": "JK8IomaBb1jh",
        "colab_type": "code",
        "colab": {
          "base_uri": "https://localhost:8080/",
          "height": 255
        },
        "outputId": "a71eec0b-ca56-412b-cfb1-3f44c0babdbc"
      },
      "source": [
        "model.summary()"
      ],
      "execution_count": 10,
      "outputs": [
        {
          "output_type": "stream",
          "text": [
            "Model: \"model_1\"\n",
            "_________________________________________________________________\n",
            "Layer (type)                 Output Shape              Param #   \n",
            "=================================================================\n",
            "input_2 (InputLayer)         [(None, 10, 3)]           0         \n",
            "_________________________________________________________________\n",
            "simple_rnn_1 (SimpleRNN)     (None, 5)                 45        \n",
            "_________________________________________________________________\n",
            "dense_1 (Dense)              (None, 2)                 12        \n",
            "=================================================================\n",
            "Total params: 57\n",
            "Trainable params: 57\n",
            "Non-trainable params: 0\n",
            "_________________________________________________________________\n"
          ],
          "name": "stdout"
        }
      ]
    },
    {
      "cell_type": "code",
      "metadata": {
        "id": "AJnTkhmTb9Q7",
        "colab_type": "code",
        "colab": {
          "base_uri": "https://localhost:8080/",
          "height": 204
        },
        "outputId": "dc999737-769c-48bb-8c8d-af97d3f7b2c9"
      },
      "source": [
        "model.layers[1].get_weights()"
      ],
      "execution_count": 13,
      "outputs": [
        {
          "output_type": "execute_result",
          "data": {
            "text/plain": [
              "[array([[-0.5771147 , -0.7949681 , -0.79112685, -0.16118777, -0.1343574 ],\n",
              "        [-0.04461998,  0.7848541 ,  0.6128548 , -0.06366748, -0.13665152],\n",
              "        [-0.50506353, -0.0672335 ,  0.72423214,  0.19857019, -0.43335834]],\n",
              "       dtype=float32),\n",
              " array([[ 0.0905472 , -0.6346878 ,  0.58943063,  0.411487  ,  0.26874292],\n",
              "        [-0.07867615, -0.05655946, -0.3573017 ,  0.7756978 , -0.5111159 ],\n",
              "        [ 0.7101112 ,  0.11097431,  0.3652898 , -0.13166033, -0.57676315],\n",
              "        [ 0.3275412 , -0.68906987, -0.57345605, -0.29739106, -0.0246226 ],\n",
              "        [-0.6116127 , -0.3268637 ,  0.25023726, -0.35099214, -0.57730055]],\n",
              "       dtype=float32),\n",
              " array([0., 0., 0., 0., 0.], dtype=float32)]"
            ]
          },
          "metadata": {
            "tags": []
          },
          "execution_count": 13
        }
      ]
    },
    {
      "cell_type": "code",
      "metadata": {
        "id": "SLdq1EHgcEqI",
        "colab_type": "code",
        "colab": {
          "base_uri": "https://localhost:8080/",
          "height": 34
        },
        "outputId": "abe668b4-9307-4da9-e901-1955970b0825"
      },
      "source": [
        "# Check their shapes\n",
        "# Should make sense\n",
        "# First output is input > hidden\n",
        "# Second output is hidden > hidden\n",
        "# Third output is bias term (vector of length M)\n",
        "\n",
        "a, b, c = model.layers[1].get_weights()\n",
        "print(a.shape, b.shape, c.shape)"
      ],
      "execution_count": 14,
      "outputs": [
        {
          "output_type": "stream",
          "text": [
            "(3, 5) (5, 5) (5,)\n"
          ],
          "name": "stdout"
        }
      ]
    },
    {
      "cell_type": "code",
      "metadata": {
        "id": "D0ekXvJYcidp",
        "colab_type": "code",
        "colab": {}
      },
      "source": [
        "Wx, Wh, bh = model.layers[1].get_weights()\n",
        "Wo, bo = model.layers[2].get_weights()"
      ],
      "execution_count": 0,
      "outputs": []
    },
    {
      "cell_type": "code",
      "metadata": {
        "id": "hb22naGCcpv-",
        "colab_type": "code",
        "colab": {
          "base_uri": "https://localhost:8080/",
          "height": 34
        },
        "outputId": "ec1c0484-344c-4351-c368-3ec855b61ad4"
      },
      "source": [
        "h_last = np.zeros(M) # initial hidden state\n",
        "x = X[0] # the one and only sample\n",
        "Yhats = [] #where the store the ouputs\n",
        "\n",
        "for t in range(T):\n",
        "  h = np.tanh(x[t].dot(Wx) + h_last.dot(Wh) + bh)\n",
        "  y = h.dot(Wo) + bo\n",
        "  Yhats.append(y)\n",
        "\n",
        "  # assign h to h_last\n",
        "  h_last = h\n",
        "  # print the finail output\n",
        "print(Yhats[-1])"
      ],
      "execution_count": 19,
      "outputs": [
        {
          "output_type": "stream",
          "text": [
            "[-0.01013583  0.03946334]\n"
          ],
          "name": "stdout"
        }
      ]
    }
  ]
}
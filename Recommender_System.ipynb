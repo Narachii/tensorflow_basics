{
  "nbformat": 4,
  "nbformat_minor": 0,
  "metadata": {
    "colab": {
      "name": "Recommender_System.ipynb",
      "provenance": [],
      "authorship_tag": "ABX9TyO1nh4QhzeuK0xnX69bPT6/",
      "include_colab_link": true
    },
    "kernelspec": {
      "name": "python3",
      "display_name": "Python 3"
    },
    "accelerator": "GPU"
  },
  "cells": [
    {
      "cell_type": "markdown",
      "metadata": {
        "id": "view-in-github",
        "colab_type": "text"
      },
      "source": [
        "<a href=\"https://colab.research.google.com/github/Narachii/tensorflow_basics/blob/recommender_systems/Recommender_System.ipynb\" target=\"_parent\"><img src=\"https://colab.research.google.com/assets/colab-badge.svg\" alt=\"Open In Colab\"/></a>"
      ]
    },
    {
      "cell_type": "code",
      "metadata": {
        "id": "j5kIIFFvMyxX",
        "colab_type": "code",
        "colab": {}
      },
      "source": [
        "import tensorflow as tf"
      ],
      "execution_count": 0,
      "outputs": []
    },
    {
      "cell_type": "code",
      "metadata": {
        "id": "erB2Ew6GNgyF",
        "colab_type": "code",
        "colab": {}
      },
      "source": [
        "from tensorflow.keras.layers import Input, Dense, Embedding, Flatten, Concatenate\n",
        "from tensorflow.keras.models import Model\n",
        "from tensorflow.keras.optimizers import SGD, Adam\n",
        "\n",
        "from sklearn.utils import shuffle\n",
        "\n",
        "import numpy as np\n",
        "import pandas as pd\n",
        "import matplotlib.pyplot as plt"
      ],
      "execution_count": 0,
      "outputs": []
    },
    {
      "cell_type": "code",
      "metadata": {
        "id": "N6jmoVUJN7VW",
        "colab_type": "code",
        "colab": {
          "base_uri": "https://localhost:8080/",
          "height": 204
        },
        "outputId": "abcd1964-2a5b-4dc9-9ecc-16d4923233ab"
      },
      "source": [
        "# data is from: https://grouplens.org/datasets/movielens/\n",
        "# in case the link changes in the future\n",
        "\n",
        "!wget -nc http://files.grouplens.org/datasets/movielens/ml-20m.zip"
      ],
      "execution_count": 4,
      "outputs": [
        {
          "output_type": "stream",
          "text": [
            "--2020-04-29 09:28:28--  http://files.grouplens.org/datasets/movielens/ml-20m.zip\n",
            "Resolving files.grouplens.org (files.grouplens.org)... 128.101.65.152\n",
            "Connecting to files.grouplens.org (files.grouplens.org)|128.101.65.152|:80... connected.\n",
            "HTTP request sent, awaiting response... 200 OK\n",
            "Length: 198702078 (189M) [application/zip]\n",
            "Saving to: ‘ml-20m.zip’\n",
            "\n",
            "ml-20m.zip          100%[===================>] 189.50M  58.1MB/s    in 3.5s    \n",
            "\n",
            "2020-04-29 09:28:32 (53.6 MB/s) - ‘ml-20m.zip’ saved [198702078/198702078]\n",
            "\n"
          ],
          "name": "stdout"
        }
      ]
    },
    {
      "cell_type": "code",
      "metadata": {
        "id": "s11R_NQsOAuo",
        "colab_type": "code",
        "colab": {
          "base_uri": "https://localhost:8080/",
          "height": 170
        },
        "outputId": "920f92f1-81fd-44c6-a2af-1fa1d8c7d2f0"
      },
      "source": [
        "!unzip -n ml-20m.zip"
      ],
      "execution_count": 5,
      "outputs": [
        {
          "output_type": "stream",
          "text": [
            "Archive:  ml-20m.zip\n",
            "   creating: ml-20m/\n",
            "  inflating: ml-20m/genome-scores.csv  \n",
            "  inflating: ml-20m/genome-tags.csv  \n",
            "  inflating: ml-20m/links.csv        \n",
            "  inflating: ml-20m/movies.csv       \n",
            "  inflating: ml-20m/ratings.csv      \n",
            "  inflating: ml-20m/README.txt       \n",
            "  inflating: ml-20m/tags.csv         \n"
          ],
          "name": "stdout"
        }
      ]
    },
    {
      "cell_type": "code",
      "metadata": {
        "id": "bDhqq1iYOF5F",
        "colab_type": "code",
        "colab": {
          "base_uri": "https://localhost:8080/",
          "height": 34
        },
        "outputId": "4f3c121c-aff5-46a2-e821-efe47b353148"
      },
      "source": [
        "!ls"
      ],
      "execution_count": 6,
      "outputs": [
        {
          "output_type": "stream",
          "text": [
            "ml-20m\tml-20m.zip  sample_data\n"
          ],
          "name": "stdout"
        }
      ]
    },
    {
      "cell_type": "code",
      "metadata": {
        "id": "wOYXfLOwOIbx",
        "colab_type": "code",
        "colab": {
          "base_uri": "https://localhost:8080/",
          "height": 204
        },
        "outputId": "13dcc146-cc4e-4a54-f62c-bbefed4dac3a"
      },
      "source": [
        "df = pd.read_csv('ml-20m/ratings.csv')\n",
        "df.head()"
      ],
      "execution_count": 7,
      "outputs": [
        {
          "output_type": "execute_result",
          "data": {
            "text/html": [
              "<div>\n",
              "<style scoped>\n",
              "    .dataframe tbody tr th:only-of-type {\n",
              "        vertical-align: middle;\n",
              "    }\n",
              "\n",
              "    .dataframe tbody tr th {\n",
              "        vertical-align: top;\n",
              "    }\n",
              "\n",
              "    .dataframe thead th {\n",
              "        text-align: right;\n",
              "    }\n",
              "</style>\n",
              "<table border=\"1\" class=\"dataframe\">\n",
              "  <thead>\n",
              "    <tr style=\"text-align: right;\">\n",
              "      <th></th>\n",
              "      <th>userId</th>\n",
              "      <th>movieId</th>\n",
              "      <th>rating</th>\n",
              "      <th>timestamp</th>\n",
              "    </tr>\n",
              "  </thead>\n",
              "  <tbody>\n",
              "    <tr>\n",
              "      <th>0</th>\n",
              "      <td>1</td>\n",
              "      <td>2</td>\n",
              "      <td>3.5</td>\n",
              "      <td>1112486027</td>\n",
              "    </tr>\n",
              "    <tr>\n",
              "      <th>1</th>\n",
              "      <td>1</td>\n",
              "      <td>29</td>\n",
              "      <td>3.5</td>\n",
              "      <td>1112484676</td>\n",
              "    </tr>\n",
              "    <tr>\n",
              "      <th>2</th>\n",
              "      <td>1</td>\n",
              "      <td>32</td>\n",
              "      <td>3.5</td>\n",
              "      <td>1112484819</td>\n",
              "    </tr>\n",
              "    <tr>\n",
              "      <th>3</th>\n",
              "      <td>1</td>\n",
              "      <td>47</td>\n",
              "      <td>3.5</td>\n",
              "      <td>1112484727</td>\n",
              "    </tr>\n",
              "    <tr>\n",
              "      <th>4</th>\n",
              "      <td>1</td>\n",
              "      <td>50</td>\n",
              "      <td>3.5</td>\n",
              "      <td>1112484580</td>\n",
              "    </tr>\n",
              "  </tbody>\n",
              "</table>\n",
              "</div>"
            ],
            "text/plain": [
              "   userId  movieId  rating   timestamp\n",
              "0       1        2     3.5  1112486027\n",
              "1       1       29     3.5  1112484676\n",
              "2       1       32     3.5  1112484819\n",
              "3       1       47     3.5  1112484727\n",
              "4       1       50     3.5  1112484580"
            ]
          },
          "metadata": {
            "tags": []
          },
          "execution_count": 7
        }
      ]
    },
    {
      "cell_type": "code",
      "metadata": {
        "id": "9KonCf9YOSs1",
        "colab_type": "code",
        "colab": {}
      },
      "source": [
        "# current_user_id = 0\n",
        "# custom_user_map = {} # old user id > new user id\n",
        "# def map_user_id(row):\n",
        "#   global current_user_id, custom_user_map\n",
        "#   old_user_id = row['userId']\n",
        "#   if old_user_id not in custom_user_map:\n",
        "#     custom_user_map[old_user_id] = current_user_id\n",
        "#     current_user_id += 1\n",
        "#   return custom_user_map[old_user_id]\n",
        "\n",
        "# df['new_user_id'] = df.apply(map_user_id, axis=1)\n",
        "\n",
        "df.userId = pd.Categorical(df.userId)\n",
        "df['new_user_id'] = df.userId.cat.codes"
      ],
      "execution_count": 0,
      "outputs": []
    },
    {
      "cell_type": "code",
      "metadata": {
        "id": "SYXBW-xHOzdz",
        "colab_type": "code",
        "colab": {}
      },
      "source": [
        "# Now do the same thing for movie ids\n",
        "# current_movie_id = 0\n",
        "# custom_movie_map = {} # old movie id > new movie id\n",
        "# def map_movie_id(row):\n",
        "#   global current_movie_id, custom_movie_map\n",
        "#   old_movie_id = row['movieId']\n",
        "#   if old_movie_id not in custom_movie_map:\n",
        "#     custom_movie_map[old_movie_id] = current_movie_id\n",
        "#     current_movie_id += 1\n",
        "#   return custom_movie_map[old_movie_id]\n",
        "\n",
        "# df['new_movie_id'] = df.apply(map_movie_id, axis=1)\n",
        "\n",
        "df.movieId = pd.Categorical(df.movieId)\n",
        "df['new_movie_id'] = df.movieId.cat.codes"
      ],
      "execution_count": 0,
      "outputs": []
    },
    {
      "cell_type": "code",
      "metadata": {
        "id": "GJwhXwGSRPSw",
        "colab_type": "code",
        "colab": {}
      },
      "source": [
        "user_ids = df['new_user_id'].values\n",
        "movie_ids = df['new_movie_id'].values\n",
        "ratings = df['rating'].values"
      ],
      "execution_count": 0,
      "outputs": []
    },
    {
      "cell_type": "code",
      "metadata": {
        "id": "Qc38r4PKPKnL",
        "colab_type": "code",
        "colab": {}
      },
      "source": [
        "# Get number of users and number of movies\n",
        "N = len(set(user_ids))\n",
        "M = len(set(movie_ids))\n",
        "\n",
        "# Set embedding dimension\n",
        "K = 10"
      ],
      "execution_count": 0,
      "outputs": []
    },
    {
      "cell_type": "code",
      "metadata": {
        "id": "Qa7IKI1wPzWK",
        "colab_type": "code",
        "colab": {}
      },
      "source": [
        "# Make a neural network\n",
        "\n",
        "# User input\n",
        "u = Input(shape=(1,))\n",
        "\n",
        "# Movie input\n",
        "m = Input(shape=(1,))\n",
        "\n",
        "# User embedding\n",
        "u_emb = Embedding(N, K)(u)\n",
        "\n",
        "# Movie embedding\n",
        "m_emb = Embedding(M, K)(m)\n",
        "\n",
        "# Flatten both embeddings\n",
        "u_emb = Flatten()(u_emb)\n",
        "m_emb = Flatten()(m_emb)\n",
        "\n",
        "# Concatenate user-movie embeddings into a feature vector\n",
        "x = Concatenate()([u_emb, m_emb])\n",
        "\n",
        "x = Dense(1024, activation='relu')(x)\n",
        "#x = Dense(400, activation= 'relu')\n",
        "x = Dense(1)(x)"
      ],
      "execution_count": 0,
      "outputs": []
    },
    {
      "cell_type": "code",
      "metadata": {
        "id": "m-U2U5BfRaLo",
        "colab_type": "code",
        "colab": {}
      },
      "source": [
        "model = Model(inputs=[u, m], outputs=x)\n",
        "model.compile(\n",
        "    loss='mse',\n",
        "    optimizer=SGD(lr=0.08, momentum=0.9),\n",
        ")"
      ],
      "execution_count": 0,
      "outputs": []
    },
    {
      "cell_type": "code",
      "metadata": {
        "id": "zQoM8-yzSIHT",
        "colab_type": "code",
        "colab": {}
      },
      "source": [
        "user_ids, movie_ids, ratings = shuffle(user_ids, movie_ids, ratings)\n",
        "Ntrain = int(0.8 * len(ratings))\n",
        "train_user = user_ids[:Ntrain]\n",
        "train_movie = movie_ids[:Ntrain]\n",
        "train_ratings = ratings[:Ntrain]\n",
        "\n",
        "test_user = user_ids[Ntrain:]\n",
        "test_movie = movie_ids[Ntrain:]\n",
        "test_ratings = ratings[Ntrain:]\n",
        "\n",
        "# center the ratings\n",
        "avg_ratings = train_ratings.mean()\n",
        "train_ratings = train_ratings - avg_ratings\n",
        "test_ratings = test_ratings - avg_ratings"
      ],
      "execution_count": 0,
      "outputs": []
    },
    {
      "cell_type": "code",
      "metadata": {
        "id": "-YnvnOccR7eI",
        "colab_type": "code",
        "colab": {
          "base_uri": "https://localhost:8080/",
          "height": 867
        },
        "outputId": "ea6b39b8-b795-41dc-aa33-99389d810f23"
      },
      "source": [
        "r = model.fit(\n",
        "    x = [train_user, train_movie],\n",
        "    y = train_ratings,\n",
        "    epochs = 25,\n",
        "    batch_size=1024,\n",
        "    verbose=2, #goes a little faster when you don't print the progress bar\n",
        "    validation_data=([test_user, test_movie], test_ratings)\n",
        ")"
      ],
      "execution_count": 19,
      "outputs": [
        {
          "output_type": "stream",
          "text": [
            "Epoch 1/25\n",
            "15626/15626 - 57s - loss: 0.7771 - val_loss: 0.7189\n",
            "Epoch 2/25\n",
            "15626/15626 - 57s - loss: 0.7006 - val_loss: 0.6963\n",
            "Epoch 3/25\n",
            "15626/15626 - 59s - loss: 0.6775 - val_loss: 0.6813\n",
            "Epoch 4/25\n",
            "15626/15626 - 59s - loss: 0.6624 - val_loss: 0.6740\n",
            "Epoch 5/25\n",
            "15626/15626 - 58s - loss: 0.6514 - val_loss: 0.6698\n",
            "Epoch 6/25\n",
            "15626/15626 - 59s - loss: 0.6388 - val_loss: 0.6563\n",
            "Epoch 7/25\n",
            "15626/15626 - 58s - loss: 0.6221 - val_loss: 0.6485\n",
            "Epoch 8/25\n",
            "15626/15626 - 58s - loss: 0.6093 - val_loss: 0.6411\n",
            "Epoch 9/25\n",
            "15626/15626 - 59s - loss: 0.6001 - val_loss: 0.6398\n",
            "Epoch 10/25\n",
            "15626/15626 - 57s - loss: 0.5919 - val_loss: 0.6357\n",
            "Epoch 11/25\n",
            "15626/15626 - 57s - loss: 0.5842 - val_loss: 0.6334\n",
            "Epoch 12/25\n",
            "15626/15626 - 57s - loss: 0.5767 - val_loss: 0.6364\n",
            "Epoch 13/25\n",
            "15626/15626 - 57s - loss: 0.5701 - val_loss: 0.6300\n",
            "Epoch 14/25\n",
            "15626/15626 - 57s - loss: 0.5641 - val_loss: 0.6280\n",
            "Epoch 15/25\n",
            "15626/15626 - 56s - loss: 0.5592 - val_loss: 0.6277\n",
            "Epoch 16/25\n",
            "15626/15626 - 56s - loss: 0.5548 - val_loss: 0.6326\n",
            "Epoch 17/25\n",
            "15626/15626 - 56s - loss: 0.5511 - val_loss: 0.6298\n",
            "Epoch 18/25\n",
            "15626/15626 - 57s - loss: 0.5478 - val_loss: 0.6249\n",
            "Epoch 19/25\n",
            "15626/15626 - 57s - loss: 0.5449 - val_loss: 0.6251\n",
            "Epoch 20/25\n",
            "15626/15626 - 57s - loss: 0.5423 - val_loss: 0.6262\n",
            "Epoch 21/25\n",
            "15626/15626 - 57s - loss: 0.5400 - val_loss: 0.6251\n",
            "Epoch 22/25\n",
            "15626/15626 - 56s - loss: 0.5379 - val_loss: 0.6329\n",
            "Epoch 23/25\n",
            "15626/15626 - 56s - loss: 0.5360 - val_loss: 0.6253\n",
            "Epoch 24/25\n",
            "15626/15626 - 56s - loss: 0.5343 - val_loss: 0.6272\n",
            "Epoch 25/25\n",
            "15626/15626 - 57s - loss: 0.5327 - val_loss: 0.6287\n"
          ],
          "name": "stdout"
        }
      ]
    },
    {
      "cell_type": "code",
      "metadata": {
        "id": "R_bYBqbZTLGi",
        "colab_type": "code",
        "colab": {}
      },
      "source": [
        "# plot losses\n",
        "plt.plot(r.history['loss'], label=\"train loss\")\n",
        "plt.plot(r.history['val_loss'], label=\"val loss\")\n",
        "plt.legend()\n",
        "plt.show()"
      ],
      "execution_count": 0,
      "outputs": []
    },
    {
      "cell_type": "code",
      "metadata": {
        "id": "cJOGaUQjTrN7",
        "colab_type": "code",
        "colab": {}
      },
      "source": [
        "# is this on par with other approaches?\n",
        "# https://datascience.stackexchange.com/questions/29740/benchmark-result-for-movielens-dataset\n",
        "np.sqrt(0.6259)"
      ],
      "execution_count": 0,
      "outputs": []
    }
  ]
}
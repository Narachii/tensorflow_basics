{
  "nbformat": 4,
  "nbformat_minor": 0,
  "metadata": {
    "colab": {
      "name": "CNN_CIFAR10.ipynb",
      "provenance": [],
      "authorship_tag": "ABX9TyObmJQbNeWYowQEOyHdqHyJ",
      "include_colab_link": true
    },
    "kernelspec": {
      "name": "python3",
      "display_name": "Python 3"
    },
    "accelerator": "GPU"
  },
  "cells": [
    {
      "cell_type": "markdown",
      "metadata": {
        "id": "view-in-github",
        "colab_type": "text"
      },
      "source": [
        "<a href=\"https://colab.research.google.com/github/Narachii/tensorflow_basics/blob/CNN_Practice/CNN_CIFAR10.ipynb\" target=\"_parent\"><img src=\"https://colab.research.google.com/assets/colab-badge.svg\" alt=\"Open In Colab\"/></a>"
      ]
    },
    {
      "cell_type": "code",
      "metadata": {
        "id": "21sv8xy44-FO",
        "colab_type": "code",
        "colab": {}
      },
      "source": [
        "import tensorflow as tf\n",
        "import numpy as np\n",
        "import matplotlib.pyplot as plt"
      ],
      "execution_count": 0,
      "outputs": []
    },
    {
      "cell_type": "code",
      "metadata": {
        "id": "zckVtLoX67Am",
        "colab_type": "code",
        "colab": {}
      },
      "source": [
        "from tensorflow.keras.layers import Input, Conv2D, Dense, Flatten, Dropout, GlobalMaxPooling2D, MaxPooling2D, BatchNormalization\n",
        "from tensorflow.keras.models import Model"
      ],
      "execution_count": 0,
      "outputs": []
    },
    {
      "cell_type": "code",
      "metadata": {
        "id": "A-U7MBcs6Aai",
        "colab_type": "code",
        "outputId": "8e74dc54-c77a-4291-8206-6d062906e02d",
        "colab": {
          "base_uri": "https://localhost:8080/",
          "height": 85
        }
      },
      "source": [
        "cifar10 = tf.keras.datasets.cifar10\n",
        "\n",
        "(x_train, y_train), (x_test, y_test) = cifar10.load_data()\n",
        "x_train, x_test = x_train / 255.0, x_test / 255.0\n",
        "y_train, y_test = y_train.flatten(), y_test.flatten()\n",
        "\n",
        "print('x_train.shape', x_train.shape)\n",
        "print('y_train.shape', y_train.shape)"
      ],
      "execution_count": 3,
      "outputs": [
        {
          "output_type": "stream",
          "text": [
            "Downloading data from https://www.cs.toronto.edu/~kriz/cifar-10-python.tar.gz\n",
            "170500096/170498071 [==============================] - 13s 0us/step\n",
            "x_train.shape (50000, 32, 32, 3)\n",
            "y_train.shape (50000,)\n"
          ],
          "name": "stdout"
        }
      ]
    },
    {
      "cell_type": "code",
      "metadata": {
        "id": "Xw3u1kA06fc4",
        "colab_type": "code",
        "outputId": "f34c3f5c-bc67-4d30-cf1c-193cd18e6622",
        "colab": {
          "base_uri": "https://localhost:8080/",
          "height": 34
        }
      },
      "source": [
        "K = len(set(y_train))\n",
        "print('number of classes', K)"
      ],
      "execution_count": 5,
      "outputs": [
        {
          "output_type": "stream",
          "text": [
            "number of classes 10\n"
          ],
          "name": "stdout"
        }
      ]
    },
    {
      "cell_type": "code",
      "metadata": {
        "id": "k7gYCu256jaW",
        "colab_type": "code",
        "colab": {}
      },
      "source": [
        "i = Input(shape=x_train[0].shape)\n",
        "## Simple model\n",
        "# x = Conv2D(32, (3, 3), strides=2, activation='relu')(i)\n",
        "# x = Conv2D(64, (3, 3), strides=2, activation='relu')(x)\n",
        "# x = Conv2D(128, (3, 3), strides=2, activation='relu')(x)\n",
        "# x = GlobalMaxPooling2D()(x)\n",
        "# x = Flatten()(x)\n",
        "# x = Dropout(0.5)(x)\n",
        "# x = Dense(1024, activation='relu')(x)\n",
        "# x = Dropout(0.2)(x)\n",
        "# x = Dense(K, activation='softmax')(x)\n",
        "\n",
        "x = Conv2D(32, (3, 3),activation='relu', padding='same')(i)\n",
        "x = BatchNormalization()(x)\n",
        "x = Conv2D(32, (3, 3),activation='relu', padding='same')(i)\n",
        "x = BatchNormalization()(x)\n",
        "x = MaxPooling2D((2, 2))(x) # down sizing\n",
        "# x = Dropout(0.2)(x)\n",
        "x = Conv2D(64, (3, 3),activation='relu', padding='same')(i)\n",
        "x = BatchNormalization()(x)\n",
        "x = Conv2D(64, (3, 3),activation='relu', padding='same')(i)\n",
        "x = BatchNormalization()(x)\n",
        "x = MaxPooling2D((2, 2))(x) # down sizing\n",
        "# x = Dropout(0.2)(x)\n",
        "x = Conv2D(128, (3, 3),activation='relu', padding='same')(i)\n",
        "x = BatchNormalization()(x)\n",
        "x = Conv2D(128, (3, 3),activation='relu', padding='same')(i)\n",
        "x = BatchNormalization()(x)\n",
        "x = MaxPooling2D((2, 2))(x) # down sizing\n",
        "# x = Dropout(0.2)(x)\n",
        "\n",
        "x = Flatten()(x)\n",
        "x = Dropout(0.2)(x)\n",
        "x = Dense(1024, activation='relu')(x)\n",
        "x = Dropout(0.2)(x)\n",
        "x = Dense(K, activation='softmax')(x)\n",
        "\n",
        "model = Model(i, x)"
      ],
      "execution_count": 0,
      "outputs": []
    },
    {
      "cell_type": "code",
      "metadata": {
        "id": "XkWGEGw88CsB",
        "colab_type": "code",
        "outputId": "35786e68-21f7-4cad-c3e3-9674c8fb7498",
        "colab": {
          "base_uri": "https://localhost:8080/",
          "height": 1000
        }
      },
      "source": [
        "model.compile(optimizer='adam',\n",
        "              loss='sparse_categorical_crossentropy',\n",
        "              metrics=['accuracy']\n",
        "              )\n",
        "r = model.fit(x_train, y_train, validation_data=(x_test, y_test), epochs=50)"
      ],
      "execution_count": 13,
      "outputs": [
        {
          "output_type": "stream",
          "text": [
            "Epoch 1/50\n",
            "1563/1563 [==============================] - 27s 17ms/step - loss: 1.4946 - accuracy: 0.5076 - val_loss: 1.2523 - val_accuracy: 0.5584\n",
            "Epoch 2/50\n",
            "1563/1563 [==============================] - 27s 17ms/step - loss: 1.0597 - accuracy: 0.6321 - val_loss: 1.2018 - val_accuracy: 0.5901\n",
            "Epoch 3/50\n",
            "1563/1563 [==============================] - 27s 17ms/step - loss: 0.8588 - accuracy: 0.7039 - val_loss: 1.1774 - val_accuracy: 0.6196\n",
            "Epoch 4/50\n",
            "1563/1563 [==============================] - 27s 17ms/step - loss: 0.6550 - accuracy: 0.7761 - val_loss: 1.1845 - val_accuracy: 0.6454\n",
            "Epoch 5/50\n",
            "1563/1563 [==============================] - 27s 17ms/step - loss: 0.5101 - accuracy: 0.8274 - val_loss: 1.3158 - val_accuracy: 0.6340\n",
            "Epoch 6/50\n",
            "1563/1563 [==============================] - 27s 17ms/step - loss: 0.4071 - accuracy: 0.8638 - val_loss: 1.3872 - val_accuracy: 0.6091\n",
            "Epoch 7/50\n",
            "1563/1563 [==============================] - 27s 17ms/step - loss: 0.3345 - accuracy: 0.8883 - val_loss: 1.7027 - val_accuracy: 0.6379\n",
            "Epoch 8/50\n",
            "1563/1563 [==============================] - 27s 17ms/step - loss: 0.3099 - accuracy: 0.9013 - val_loss: 1.8466 - val_accuracy: 0.6275\n",
            "Epoch 9/50\n",
            "1563/1563 [==============================] - 27s 17ms/step - loss: 0.2760 - accuracy: 0.9123 - val_loss: 1.7904 - val_accuracy: 0.6403\n",
            "Epoch 10/50\n",
            "1563/1563 [==============================] - 27s 17ms/step - loss: 0.2468 - accuracy: 0.9237 - val_loss: 1.9157 - val_accuracy: 0.6319\n",
            "Epoch 11/50\n",
            "1563/1563 [==============================] - 27s 17ms/step - loss: 0.2271 - accuracy: 0.9300 - val_loss: 2.4558 - val_accuracy: 0.6358\n",
            "Epoch 12/50\n",
            "1563/1563 [==============================] - 27s 17ms/step - loss: 0.2219 - accuracy: 0.9337 - val_loss: 2.0975 - val_accuracy: 0.6379\n",
            "Epoch 13/50\n",
            "1563/1563 [==============================] - 27s 17ms/step - loss: 0.2124 - accuracy: 0.9367 - val_loss: 2.2667 - val_accuracy: 0.6333\n",
            "Epoch 14/50\n",
            "1563/1563 [==============================] - 27s 17ms/step - loss: 0.2079 - accuracy: 0.9414 - val_loss: 1.9560 - val_accuracy: 0.6498\n",
            "Epoch 15/50\n",
            "1563/1563 [==============================] - 27s 17ms/step - loss: 0.1797 - accuracy: 0.9461 - val_loss: 2.2190 - val_accuracy: 0.6595\n",
            "Epoch 16/50\n",
            "1563/1563 [==============================] - 27s 17ms/step - loss: 0.1877 - accuracy: 0.9463 - val_loss: 2.7448 - val_accuracy: 0.6371\n",
            "Epoch 17/50\n",
            "1563/1563 [==============================] - 27s 17ms/step - loss: 0.1753 - accuracy: 0.9497 - val_loss: 2.3854 - val_accuracy: 0.6381\n",
            "Epoch 18/50\n",
            "1563/1563 [==============================] - 27s 17ms/step - loss: 0.1753 - accuracy: 0.9508 - val_loss: 2.4637 - val_accuracy: 0.6238\n",
            "Epoch 19/50\n",
            "1563/1563 [==============================] - 27s 17ms/step - loss: 0.1511 - accuracy: 0.9567 - val_loss: 2.8256 - val_accuracy: 0.6409\n",
            "Epoch 20/50\n",
            "1563/1563 [==============================] - 27s 17ms/step - loss: 0.1597 - accuracy: 0.9550 - val_loss: 2.2287 - val_accuracy: 0.6440\n",
            "Epoch 21/50\n",
            "1563/1563 [==============================] - 27s 17ms/step - loss: 0.1543 - accuracy: 0.9567 - val_loss: 2.5158 - val_accuracy: 0.6551\n",
            "Epoch 22/50\n",
            "1563/1563 [==============================] - 27s 17ms/step - loss: 0.1539 - accuracy: 0.9585 - val_loss: 2.7104 - val_accuracy: 0.6614\n",
            "Epoch 23/50\n",
            "1563/1563 [==============================] - 27s 17ms/step - loss: 0.1489 - accuracy: 0.9588 - val_loss: 2.7763 - val_accuracy: 0.6545\n",
            "Epoch 24/50\n",
            "1563/1563 [==============================] - 27s 17ms/step - loss: 0.1493 - accuracy: 0.9595 - val_loss: 3.1386 - val_accuracy: 0.6541\n",
            "Epoch 25/50\n",
            "1563/1563 [==============================] - 27s 17ms/step - loss: 0.1377 - accuracy: 0.9638 - val_loss: 2.9454 - val_accuracy: 0.6613\n",
            "Epoch 26/50\n",
            "1563/1563 [==============================] - 27s 17ms/step - loss: 0.1461 - accuracy: 0.9619 - val_loss: 2.8928 - val_accuracy: 0.6234\n",
            "Epoch 27/50\n",
            "1563/1563 [==============================] - 27s 17ms/step - loss: 0.1459 - accuracy: 0.9628 - val_loss: 2.8818 - val_accuracy: 0.6356\n",
            "Epoch 28/50\n",
            "1563/1563 [==============================] - 27s 17ms/step - loss: 0.1324 - accuracy: 0.9665 - val_loss: 2.8146 - val_accuracy: 0.6478\n",
            "Epoch 29/50\n",
            "1563/1563 [==============================] - 27s 17ms/step - loss: 0.1188 - accuracy: 0.9681 - val_loss: 3.4351 - val_accuracy: 0.6501\n",
            "Epoch 30/50\n",
            "1563/1563 [==============================] - 27s 17ms/step - loss: 0.1312 - accuracy: 0.9667 - val_loss: 3.5285 - val_accuracy: 0.6433\n",
            "Epoch 31/50\n",
            "1563/1563 [==============================] - 27s 17ms/step - loss: 0.1397 - accuracy: 0.9657 - val_loss: 3.2541 - val_accuracy: 0.6467\n",
            "Epoch 32/50\n",
            "1563/1563 [==============================] - 27s 17ms/step - loss: 0.1302 - accuracy: 0.9680 - val_loss: 3.2429 - val_accuracy: 0.6356\n",
            "Epoch 33/50\n",
            "1563/1563 [==============================] - 27s 17ms/step - loss: 0.1236 - accuracy: 0.9674 - val_loss: 3.3815 - val_accuracy: 0.6488\n",
            "Epoch 34/50\n",
            "1563/1563 [==============================] - 27s 17ms/step - loss: 0.1371 - accuracy: 0.9675 - val_loss: 3.4429 - val_accuracy: 0.6493\n",
            "Epoch 35/50\n",
            "1563/1563 [==============================] - 27s 17ms/step - loss: 0.1309 - accuracy: 0.9682 - val_loss: 3.4472 - val_accuracy: 0.6648\n",
            "Epoch 36/50\n",
            "1563/1563 [==============================] - 27s 17ms/step - loss: 0.1198 - accuracy: 0.9705 - val_loss: 3.2384 - val_accuracy: 0.6560\n",
            "Epoch 37/50\n",
            "1563/1563 [==============================] - 27s 17ms/step - loss: 0.1267 - accuracy: 0.9690 - val_loss: 3.0616 - val_accuracy: 0.6426\n",
            "Epoch 38/50\n",
            "1563/1563 [==============================] - 27s 17ms/step - loss: 0.1191 - accuracy: 0.9711 - val_loss: 3.8647 - val_accuracy: 0.6624\n",
            "Epoch 39/50\n",
            "1563/1563 [==============================] - 27s 17ms/step - loss: 0.1204 - accuracy: 0.9708 - val_loss: 3.6275 - val_accuracy: 0.6422\n",
            "Epoch 40/50\n",
            "1563/1563 [==============================] - 27s 17ms/step - loss: 0.1234 - accuracy: 0.9712 - val_loss: 3.1853 - val_accuracy: 0.6584\n",
            "Epoch 41/50\n",
            "1563/1563 [==============================] - 27s 17ms/step - loss: 0.1243 - accuracy: 0.9708 - val_loss: 3.4034 - val_accuracy: 0.6422\n",
            "Epoch 42/50\n",
            "1563/1563 [==============================] - 27s 17ms/step - loss: 0.1166 - accuracy: 0.9723 - val_loss: 3.5567 - val_accuracy: 0.6614\n",
            "Epoch 43/50\n",
            "1563/1563 [==============================] - 27s 17ms/step - loss: 0.1196 - accuracy: 0.9727 - val_loss: 3.7818 - val_accuracy: 0.6512\n",
            "Epoch 44/50\n",
            "1563/1563 [==============================] - 27s 17ms/step - loss: 0.1222 - accuracy: 0.9716 - val_loss: 3.8790 - val_accuracy: 0.6634\n",
            "Epoch 45/50\n",
            "1563/1563 [==============================] - 27s 17ms/step - loss: 0.1036 - accuracy: 0.9757 - val_loss: 6.1617 - val_accuracy: 0.5282\n",
            "Epoch 46/50\n",
            "1563/1563 [==============================] - 27s 17ms/step - loss: 0.1154 - accuracy: 0.9740 - val_loss: 4.0861 - val_accuracy: 0.6663\n",
            "Epoch 47/50\n",
            "1563/1563 [==============================] - 27s 17ms/step - loss: 0.1321 - accuracy: 0.9718 - val_loss: 3.4918 - val_accuracy: 0.6483\n",
            "Epoch 48/50\n",
            "1563/1563 [==============================] - 27s 17ms/step - loss: 0.1235 - accuracy: 0.9742 - val_loss: 3.9533 - val_accuracy: 0.6515\n",
            "Epoch 49/50\n",
            "1563/1563 [==============================] - 27s 17ms/step - loss: 0.1045 - accuracy: 0.9765 - val_loss: 4.3224 - val_accuracy: 0.6525\n",
            "Epoch 50/50\n",
            "1563/1563 [==============================] - 27s 17ms/step - loss: 0.1120 - accuracy: 0.9743 - val_loss: 4.8766 - val_accuracy: 0.6537\n"
          ],
          "name": "stdout"
        }
      ]
    },
    {
      "cell_type": "code",
      "metadata": {
        "id": "JUp_zltnSbWL",
        "colab_type": "code",
        "colab": {
          "base_uri": "https://localhost:8080/",
          "height": 1000
        },
        "outputId": "ffda7161-02c8-42b9-c36a-65f4330f7c6b"
      },
      "source": [
        "# Fit with data augmentation\n",
        "model = Model(i, x)\n",
        "batch_size = 32\n",
        "data_generator = tf.keras.preprocessing.image.ImageDataGenerator(width_shift_range=0.1, height_shift_range=0.1, horizontal_flip=True)\n",
        "train_generator = data_generator.flow(x_train, y_train, batch_size)\n",
        "steps_per_epoch = x_train.shape[0] // batch_size\n",
        "model.compile(optimizer='adam',\n",
        "              loss='sparse_categorical_crossentropy',\n",
        "              metrics=['accuracy']\n",
        "              )\n",
        "r = model.fit(train_generator, validation_data=(x_test, y_test), steps_per_epoch=steps_per_epoch, epochs=50)"
      ],
      "execution_count": 15,
      "outputs": [
        {
          "output_type": "stream",
          "text": [
            "Epoch 1/50\n",
            "1562/1562 [==============================] - 31s 20ms/step - loss: 1.6085 - accuracy: 0.4921 - val_loss: 1.2182 - val_accuracy: 0.5968\n",
            "Epoch 2/50\n",
            "1562/1562 [==============================] - 32s 20ms/step - loss: 1.2838 - accuracy: 0.5663 - val_loss: 1.0764 - val_accuracy: 0.6370\n",
            "Epoch 3/50\n",
            "1562/1562 [==============================] - 32s 20ms/step - loss: 1.1640 - accuracy: 0.6047 - val_loss: 1.0472 - val_accuracy: 0.6499\n",
            "Epoch 4/50\n",
            "1562/1562 [==============================] - 32s 20ms/step - loss: 1.1054 - accuracy: 0.6238 - val_loss: 1.0405 - val_accuracy: 0.6552\n",
            "Epoch 5/50\n",
            "1562/1562 [==============================] - 32s 20ms/step - loss: 1.0644 - accuracy: 0.6344 - val_loss: 0.9568 - val_accuracy: 0.6774\n",
            "Epoch 6/50\n",
            "1562/1562 [==============================] - 32s 20ms/step - loss: 1.0358 - accuracy: 0.6462 - val_loss: 0.9943 - val_accuracy: 0.6614\n",
            "Epoch 7/50\n",
            "1562/1562 [==============================] - 32s 20ms/step - loss: 1.0097 - accuracy: 0.6544 - val_loss: 0.9630 - val_accuracy: 0.6849\n",
            "Epoch 8/50\n",
            "1562/1562 [==============================] - 32s 20ms/step - loss: 0.9973 - accuracy: 0.6585 - val_loss: 0.8551 - val_accuracy: 0.7129\n",
            "Epoch 9/50\n",
            "1562/1562 [==============================] - 32s 20ms/step - loss: 0.9720 - accuracy: 0.6663 - val_loss: 0.9412 - val_accuracy: 0.6898\n",
            "Epoch 10/50\n",
            "1562/1562 [==============================] - 32s 20ms/step - loss: 0.9589 - accuracy: 0.6709 - val_loss: 0.9724 - val_accuracy: 0.6728\n",
            "Epoch 11/50\n",
            "1562/1562 [==============================] - 32s 20ms/step - loss: 0.9392 - accuracy: 0.6764 - val_loss: 0.8671 - val_accuracy: 0.7124\n",
            "Epoch 12/50\n",
            "1562/1562 [==============================] - 32s 20ms/step - loss: 0.9345 - accuracy: 0.6776 - val_loss: 0.9751 - val_accuracy: 0.6931\n",
            "Epoch 13/50\n",
            "1562/1562 [==============================] - 32s 21ms/step - loss: 0.9138 - accuracy: 0.6856 - val_loss: 0.8714 - val_accuracy: 0.7143\n",
            "Epoch 14/50\n",
            "1562/1562 [==============================] - 32s 20ms/step - loss: 0.9134 - accuracy: 0.6891 - val_loss: 0.9275 - val_accuracy: 0.6967\n",
            "Epoch 15/50\n",
            "1562/1562 [==============================] - 32s 20ms/step - loss: 0.9007 - accuracy: 0.6920 - val_loss: 1.0097 - val_accuracy: 0.6942\n",
            "Epoch 16/50\n",
            "1562/1562 [==============================] - 32s 20ms/step - loss: 0.8903 - accuracy: 0.6971 - val_loss: 0.8507 - val_accuracy: 0.7214\n",
            "Epoch 17/50\n",
            "1562/1562 [==============================] - 32s 20ms/step - loss: 0.8806 - accuracy: 0.6997 - val_loss: 0.9872 - val_accuracy: 0.6874\n",
            "Epoch 18/50\n",
            "1562/1562 [==============================] - 32s 20ms/step - loss: 0.8721 - accuracy: 0.7014 - val_loss: 0.8757 - val_accuracy: 0.7172\n",
            "Epoch 19/50\n",
            "1562/1562 [==============================] - 32s 20ms/step - loss: 0.8643 - accuracy: 0.7051 - val_loss: 0.8540 - val_accuracy: 0.7282\n",
            "Epoch 20/50\n",
            "1562/1562 [==============================] - 32s 20ms/step - loss: 0.8555 - accuracy: 0.7096 - val_loss: 0.9476 - val_accuracy: 0.7111\n",
            "Epoch 21/50\n",
            "1562/1562 [==============================] - 32s 20ms/step - loss: 0.8505 - accuracy: 0.7100 - val_loss: 0.8425 - val_accuracy: 0.7209\n",
            "Epoch 22/50\n",
            "1562/1562 [==============================] - 32s 20ms/step - loss: 0.8372 - accuracy: 0.7157 - val_loss: 0.8456 - val_accuracy: 0.7211\n",
            "Epoch 23/50\n",
            "1562/1562 [==============================] - 32s 20ms/step - loss: 0.8389 - accuracy: 0.7140 - val_loss: 0.9245 - val_accuracy: 0.7089\n",
            "Epoch 24/50\n",
            "1562/1562 [==============================] - 32s 20ms/step - loss: 0.8298 - accuracy: 0.7174 - val_loss: 0.8452 - val_accuracy: 0.7272\n",
            "Epoch 25/50\n",
            "1562/1562 [==============================] - 32s 20ms/step - loss: 0.8209 - accuracy: 0.7194 - val_loss: 0.8709 - val_accuracy: 0.7255\n",
            "Epoch 26/50\n",
            "1562/1562 [==============================] - 32s 20ms/step - loss: 0.8229 - accuracy: 0.7188 - val_loss: 0.8887 - val_accuracy: 0.7165\n",
            "Epoch 27/50\n",
            "1562/1562 [==============================] - 32s 20ms/step - loss: 0.8105 - accuracy: 0.7256 - val_loss: 0.8483 - val_accuracy: 0.7251\n",
            "Epoch 28/50\n",
            "1562/1562 [==============================] - 32s 20ms/step - loss: 0.8012 - accuracy: 0.7259 - val_loss: 0.9309 - val_accuracy: 0.7096\n",
            "Epoch 29/50\n",
            "1562/1562 [==============================] - 32s 20ms/step - loss: 0.8003 - accuracy: 0.7263 - val_loss: 0.8368 - val_accuracy: 0.7297\n",
            "Epoch 30/50\n",
            "1562/1562 [==============================] - 32s 20ms/step - loss: 0.7968 - accuracy: 0.7282 - val_loss: 0.8286 - val_accuracy: 0.7470\n",
            "Epoch 31/50\n",
            "1562/1562 [==============================] - 32s 20ms/step - loss: 0.7963 - accuracy: 0.7315 - val_loss: 0.8627 - val_accuracy: 0.7446\n",
            "Epoch 32/50\n",
            "1562/1562 [==============================] - 32s 20ms/step - loss: 0.7865 - accuracy: 0.7328 - val_loss: 0.9514 - val_accuracy: 0.7046\n",
            "Epoch 33/50\n",
            "1562/1562 [==============================] - 32s 21ms/step - loss: 0.7819 - accuracy: 0.7315 - val_loss: 0.8500 - val_accuracy: 0.7264\n",
            "Epoch 34/50\n",
            "1562/1562 [==============================] - 32s 20ms/step - loss: 0.7794 - accuracy: 0.7364 - val_loss: 0.9032 - val_accuracy: 0.7391\n",
            "Epoch 35/50\n",
            "1562/1562 [==============================] - 32s 20ms/step - loss: 0.7739 - accuracy: 0.7358 - val_loss: 0.9473 - val_accuracy: 0.7413\n",
            "Epoch 36/50\n",
            "1562/1562 [==============================] - 32s 20ms/step - loss: 0.7682 - accuracy: 0.7378 - val_loss: 0.9962 - val_accuracy: 0.7179\n",
            "Epoch 37/50\n",
            "1562/1562 [==============================] - 32s 20ms/step - loss: 0.7655 - accuracy: 0.7393 - val_loss: 0.7812 - val_accuracy: 0.7505\n",
            "Epoch 38/50\n",
            "1562/1562 [==============================] - 32s 20ms/step - loss: 0.7663 - accuracy: 0.7402 - val_loss: 0.8661 - val_accuracy: 0.7342\n",
            "Epoch 39/50\n",
            "1562/1562 [==============================] - 32s 20ms/step - loss: 0.7582 - accuracy: 0.7430 - val_loss: 0.8827 - val_accuracy: 0.7323\n",
            "Epoch 40/50\n",
            "1562/1562 [==============================] - 32s 20ms/step - loss: 0.7593 - accuracy: 0.7413 - val_loss: 0.8468 - val_accuracy: 0.7450\n",
            "Epoch 41/50\n",
            "1562/1562 [==============================] - 32s 20ms/step - loss: 0.7443 - accuracy: 0.7462 - val_loss: 0.8991 - val_accuracy: 0.7292\n",
            "Epoch 42/50\n",
            "1562/1562 [==============================] - 32s 21ms/step - loss: 0.7542 - accuracy: 0.7443 - val_loss: 0.7970 - val_accuracy: 0.7509\n",
            "Epoch 43/50\n",
            "1562/1562 [==============================] - 32s 20ms/step - loss: 0.7376 - accuracy: 0.7478 - val_loss: 0.8801 - val_accuracy: 0.7306\n",
            "Epoch 44/50\n",
            "1562/1562 [==============================] - 32s 20ms/step - loss: 0.7388 - accuracy: 0.7488 - val_loss: 0.8753 - val_accuracy: 0.7494\n",
            "Epoch 45/50\n",
            "1562/1562 [==============================] - 32s 20ms/step - loss: 0.7404 - accuracy: 0.7476 - val_loss: 0.8291 - val_accuracy: 0.7486\n",
            "Epoch 46/50\n",
            "1562/1562 [==============================] - 32s 20ms/step - loss: 0.7317 - accuracy: 0.7527 - val_loss: 0.9168 - val_accuracy: 0.7238\n",
            "Epoch 47/50\n",
            "1562/1562 [==============================] - 32s 20ms/step - loss: 0.7249 - accuracy: 0.7531 - val_loss: 0.9458 - val_accuracy: 0.7371\n",
            "Epoch 48/50\n",
            "1562/1562 [==============================] - 32s 20ms/step - loss: 0.7272 - accuracy: 0.7534 - val_loss: 0.8370 - val_accuracy: 0.7409\n",
            "Epoch 49/50\n",
            "1562/1562 [==============================] - 32s 20ms/step - loss: 0.7259 - accuracy: 0.7552 - val_loss: 0.9434 - val_accuracy: 0.7223\n",
            "Epoch 50/50\n",
            "1562/1562 [==============================] - 32s 20ms/step - loss: 0.7283 - accuracy: 0.7528 - val_loss: 0.9291 - val_accuracy: 0.7259\n"
          ],
          "name": "stdout"
        }
      ]
    },
    {
      "cell_type": "code",
      "metadata": {
        "id": "q5-h8Boz8rcs",
        "colab_type": "code",
        "outputId": "5046857f-5a6e-433b-c009-e7799ac95089",
        "colab": {
          "base_uri": "https://localhost:8080/",
          "height": 282
        }
      },
      "source": [
        "# Plot loss per iteration\n",
        "import matplotlib.pyplot as plt\n",
        "plt.plot(r.history['loss'], label='loss')\n",
        "plt.plot(r.history['val_loss'], label='val_loss')\n",
        "plt.legend()"
      ],
      "execution_count": 16,
      "outputs": [
        {
          "output_type": "execute_result",
          "data": {
            "text/plain": [
              "<matplotlib.legend.Legend at 0x7f19666e35f8>"
            ]
          },
          "metadata": {
            "tags": []
          },
          "execution_count": 16
        },
        {
          "output_type": "display_data",
          "data": {
            "image/png": "[encoded data removed]",
            "text/plain": [
              "<Figure size 432x288 with 1 Axes>"
            ]
          },
          "metadata": {
            "tags": [],
            "needs_background": "light"
          }
        }
      ]
    },
    {
      "cell_type": "code",
      "metadata": {
        "id": "Ec1vO95g8rs2",
        "colab_type": "code",
        "outputId": "236ac5fb-3c7e-4bed-d75b-2ea04384670d",
        "colab": {
          "base_uri": "https://localhost:8080/",
          "height": 282
        }
      },
      "source": [
        "# Plot accuracy per iteration\n",
        "plt.plot(r.history['accuracy'], label='acc')\n",
        "plt.plot(r.history['val_accuracy'], label='val_acc')\n",
        "plt.legend()"
      ],
      "execution_count": 17,
      "outputs": [
        {
          "output_type": "execute_result",
          "data": {
            "text/plain": [
              "<matplotlib.legend.Legend at 0x7f196664fd68>"
            ]
          },
          "metadata": {
            "tags": []
          },
          "execution_count": 17
        },
        {
          "output_type": "display_data",
          "data": {
            "image/png": "[encoded data removed]",
            "text/plain": [
              "<Figure size 432x288 with 1 Axes>"
            ]
          },
          "metadata": {
            "tags": [],
            "needs_background": "light"
          }
        }
      ]
    },
    {
      "cell_type": "code",
      "metadata": {
        "id": "NbTmt6Bn9KA_",
        "colab_type": "code",
        "outputId": "1f0d5256-5420-4775-cba5-db9cf881e261",
        "colab": {
          "base_uri": "https://localhost:8080/",
          "height": 498
        }
      },
      "source": [
        "# Plot confusion matrix\n",
        "from sklearn.metrics import confusion_matrix\n",
        "import itertools\n",
        "\n",
        "def plot_confusion_matrix(cm, classes,\n",
        "                          normalize=False,\n",
        "                          title='Confusion matrix',\n",
        "                          cmap=plt.cm.Blues):\n",
        "  \"\"\"\n",
        "  This function prints and plots the confusion matrix.\n",
        "  Normalization can be applied by setting `normalize=True`.\n",
        "  \"\"\"\n",
        "  if normalize:\n",
        "      cm = cm.astype('float') / cm.sum(axis=1)[:, np.newaxis]\n",
        "      print(\"Normalized confusion matrix\")\n",
        "  else:\n",
        "      print('Confusion matrix, without normalization')\n",
        "\n",
        "  print(cm)\n",
        "\n",
        "  plt.imshow(cm, interpolation='nearest', cmap=cmap)\n",
        "  plt.title(title)\n",
        "  plt.colorbar()\n",
        "  tick_marks = np.arange(len(classes))\n",
        "  plt.xticks(tick_marks, classes, rotation=45)\n",
        "  plt.yticks(tick_marks, classes)\n",
        "\n",
        "  fmt = '.2f' if normalize else 'd'\n",
        "  thresh = cm.max() / 2.\n",
        "  for i, j in itertools.product(range(cm.shape[0]), range(cm.shape[1])):\n",
        "      plt.text(j, i, format(cm[i, j], fmt),\n",
        "               horizontalalignment=\"center\",\n",
        "               color=\"white\" if cm[i, j] > thresh else \"black\")\n",
        "\n",
        "  plt.tight_layout()\n",
        "  plt.ylabel('True label')\n",
        "  plt.xlabel('Predicted label')\n",
        "  plt.show()\n",
        "\n",
        "\n",
        "p_test = model.predict(x_test).argmax(axis=1)\n",
        "cm = confusion_matrix(y_test, p_test)\n",
        "plot_confusion_matrix(cm, list(range(10)))"
      ],
      "execution_count": 18,
      "outputs": [
        {
          "output_type": "stream",
          "text": [
            "Confusion matrix, without normalization\n",
            "[[811  11  48  20  24   8  28  10  20  20]\n",
            " [  8 867  12   9   4   5  27   6  12  50]\n",
            " [ 50   3 604  53  63  67 140  16   0   4]\n",
            " [ 17   7  58 530  44 151 162  20   5   6]\n",
            " [  8   1  65  40 646  35 169  31   4   1]\n",
            " [ 12   1  45 168  41 621  85  24   1   2]\n",
            " [  4   2  30  26   7   8 922   1   0   0]\n",
            " [ 15   2  32  36  54  60  35 760   1   5]\n",
            " [118  33  18  26  10  10  21   1 737  26]\n",
            " [ 36  91   8  25   6  19  23  20  11 761]]\n"
          ],
          "name": "stdout"
        },
        {
          "output_type": "display_data",
          "data": {
            "image/png": "[encoded data removed]",
            "text/plain": [
              "<Figure size 432x288 with 2 Axes>"
            ]
          },
          "metadata": {
            "tags": [],
            "needs_background": "light"
          }
        }
      ]
    },
    {
      "cell_type": "code",
      "metadata": {
        "id": "uQEs-5XG88gu",
        "colab_type": "code",
        "colab": {}
      },
      "source": [
        "# label mapping\n",
        "labels = '''airplane\n",
        "automobile\n",
        "bird\n",
        "cat\n",
        "deer\n",
        "dog\n",
        "frog\n",
        "horse\n",
        "ship\n",
        "truck'''.split()"
      ],
      "execution_count": 0,
      "outputs": []
    },
    {
      "cell_type": "code",
      "metadata": {
        "id": "TeOiDblu8-Aq",
        "colab_type": "code",
        "outputId": "713622fe-a133-4689-ceac-85f5c10530a9",
        "colab": {
          "base_uri": "https://localhost:8080/",
          "height": 281
        }
      },
      "source": [
        "# Show some misclassified examples\n",
        "# TODO: add label names\n",
        "misclassified_idx = np.where(p_test != y_test)[0]\n",
        "i = np.random.choice(misclassified_idx)\n",
        "plt.imshow(x_test[i], cmap='gray')\n",
        "plt.title(\"True label: %s Predicted: %s\" % (labels[y_test[i]], labels[p_test[i]]));"
      ],
      "execution_count": 20,
      "outputs": [
        {
          "output_type": "display_data",
          "data": {
            "image/png": "[encoded data removed]",
            "text/plain": [
              "<Figure size 432x288 with 1 Axes>"
            ]
          },
          "metadata": {
            "tags": [],
            "needs_background": "light"
          }
        }
      ]
    },
    {
      "cell_type": "code",
      "metadata": {
        "id": "flOjn75bTToy",
        "colab_type": "code",
        "colab": {
          "base_uri": "https://localhost:8080/",
          "height": 459
        },
        "outputId": "8374bc3f-cd07-4796-fe2b-1c777b499664"
      },
      "source": [
        "# Now that the model is so large, it's useful to summarize it\n",
        "model.summary()"
      ],
      "execution_count": 21,
      "outputs": [
        {
          "output_type": "stream",
          "text": [
            "Model: \"model_3\"\n",
            "_________________________________________________________________\n",
            "Layer (type)                 Output Shape              Param #   \n",
            "=================================================================\n",
            "input_3 (InputLayer)         [(None, 32, 32, 3)]       0         \n",
            "_________________________________________________________________\n",
            "conv2d_13 (Conv2D)           (None, 32, 32, 128)       3584      \n",
            "_________________________________________________________________\n",
            "batch_normalization_13 (Batc (None, 32, 32, 128)       512       \n",
            "_________________________________________________________________\n",
            "max_pooling2d_5 (MaxPooling2 (None, 16, 16, 128)       0         \n",
            "_________________________________________________________________\n",
            "flatten_1 (Flatten)          (None, 32768)             0         \n",
            "_________________________________________________________________\n",
            "dropout_2 (Dropout)          (None, 32768)             0         \n",
            "_________________________________________________________________\n",
            "dense_2 (Dense)              (None, 1024)              33555456  \n",
            "_________________________________________________________________\n",
            "dropout_3 (Dropout)          (None, 1024)              0         \n",
            "_________________________________________________________________\n",
            "dense_3 (Dense)              (None, 10)                10250     \n",
            "=================================================================\n",
            "Total params: 33,569,802\n",
            "Trainable params: 33,569,546\n",
            "Non-trainable params: 256\n",
            "_________________________________________________________________\n"
          ],
          "name": "stdout"
        }
      ]
    }
  ]
}
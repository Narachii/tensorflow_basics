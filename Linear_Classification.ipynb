{
  "nbformat": 4,
  "nbformat_minor": 0,
  "metadata": {
    "colab": {
      "name": "Linear Classification.ipynb",
      "provenance": [],
      "authorship_tag": "ABX9TyPMB2M3KxarfVQagOINUGVo",
      "include_colab_link": true
    },
    "kernelspec": {
      "name": "python3",
      "display_name": "Python 3"
    }
  },
  "cells": [
    {
      "cell_type": "markdown",
      "metadata": {
        "id": "view-in-github",
        "colab_type": "text"
      },
      "source": [
        "<a href=\"https://colab.research.google.com/github/Narachii/tensorflow_basics/blob/Classification_by_tf/Linear_Classification.ipynb\" target=\"_parent\"><img src=\"https://colab.research.google.com/assets/colab-badge.svg\" alt=\"Open In Colab\"/></a>"
      ]
    },
    {
      "cell_type": "code",
      "metadata": {
        "id": "kCg-O5e73Kn6",
        "colab_type": "code",
        "colab": {}
      },
      "source": [
        "import tensorflow as tf\n",
        "from sklearn.datasets import load_breast_cancer"
      ],
      "execution_count": 0,
      "outputs": []
    },
    {
      "cell_type": "code",
      "metadata": {
        "id": "6KJijfIb4JK7",
        "colab_type": "code",
        "colab": {}
      },
      "source": [
        "data = load_breast_cancer()"
      ],
      "execution_count": 0,
      "outputs": []
    },
    {
      "cell_type": "code",
      "metadata": {
        "id": "PxGqQExN4UrH",
        "colab_type": "code",
        "colab": {
          "base_uri": "https://localhost:8080/",
          "height": 459
        },
        "outputId": "bec2a52a-276a-4d2a-cbb8-44e4bb0c811e"
      },
      "source": [
        "data.target"
      ],
      "execution_count": 7,
      "outputs": [
        {
          "output_type": "execute_result",
          "data": {
            "text/plain": [
              "array([0, 0, 0, 0, 0, 0, 0, 0, 0, 0, 0, 0, 0, 0, 0, 0, 0, 0, 0, 1, 1, 1,\n",
              "       0, 0, 0, 0, 0, 0, 0, 0, 0, 0, 0, 0, 0, 0, 0, 1, 0, 0, 0, 0, 0, 0,\n",
              "       0, 0, 1, 0, 1, 1, 1, 1, 1, 0, 0, 1, 0, 0, 1, 1, 1, 1, 0, 1, 0, 0,\n",
              "       1, 1, 1, 1, 0, 1, 0, 0, 1, 0, 1, 0, 0, 1, 1, 1, 0, 0, 1, 0, 0, 0,\n",
              "       1, 1, 1, 0, 1, 1, 0, 0, 1, 1, 1, 0, 0, 1, 1, 1, 1, 0, 1, 1, 0, 1,\n",
              "       1, 1, 1, 1, 1, 1, 1, 0, 0, 0, 1, 0, 0, 1, 1, 1, 0, 0, 1, 0, 1, 0,\n",
              "       0, 1, 0, 0, 1, 1, 0, 1, 1, 0, 1, 1, 1, 1, 0, 1, 1, 1, 1, 1, 1, 1,\n",
              "       1, 1, 0, 1, 1, 1, 1, 0, 0, 1, 0, 1, 1, 0, 0, 1, 1, 0, 0, 1, 1, 1,\n",
              "       1, 0, 1, 1, 0, 0, 0, 1, 0, 1, 0, 1, 1, 1, 0, 1, 1, 0, 0, 1, 0, 0,\n",
              "       0, 0, 1, 0, 0, 0, 1, 0, 1, 0, 1, 1, 0, 1, 0, 0, 0, 0, 1, 1, 0, 0,\n",
              "       1, 1, 1, 0, 1, 1, 1, 1, 1, 0, 0, 1, 1, 0, 1, 1, 0, 0, 1, 0, 1, 1,\n",
              "       1, 1, 0, 1, 1, 1, 1, 1, 0, 1, 0, 0, 0, 0, 0, 0, 0, 0, 0, 0, 0, 0,\n",
              "       0, 0, 1, 1, 1, 1, 1, 1, 0, 1, 0, 1, 1, 0, 1, 1, 0, 1, 0, 0, 1, 1,\n",
              "       1, 1, 1, 1, 1, 1, 1, 1, 1, 1, 1, 0, 1, 1, 0, 1, 0, 1, 1, 1, 1, 1,\n",
              "       1, 1, 1, 1, 1, 1, 1, 1, 1, 0, 1, 1, 1, 0, 1, 0, 1, 1, 1, 1, 0, 0,\n",
              "       0, 1, 1, 1, 1, 0, 1, 0, 1, 0, 1, 1, 1, 0, 1, 1, 1, 1, 1, 1, 1, 0,\n",
              "       0, 0, 1, 1, 1, 1, 1, 1, 1, 1, 1, 1, 1, 0, 0, 1, 0, 0, 0, 1, 0, 0,\n",
              "       1, 1, 1, 1, 1, 0, 1, 1, 1, 1, 1, 0, 1, 1, 1, 0, 1, 1, 0, 0, 1, 1,\n",
              "       1, 1, 1, 1, 0, 1, 1, 1, 1, 1, 1, 1, 0, 1, 1, 1, 1, 1, 0, 1, 1, 0,\n",
              "       1, 1, 1, 1, 1, 1, 1, 1, 1, 1, 1, 1, 0, 1, 0, 0, 1, 0, 1, 1, 1, 1,\n",
              "       1, 0, 1, 1, 0, 1, 0, 1, 1, 0, 1, 0, 1, 1, 1, 1, 1, 1, 1, 1, 0, 0,\n",
              "       1, 1, 1, 1, 1, 1, 0, 1, 1, 1, 1, 1, 1, 1, 1, 1, 1, 0, 1, 1, 1, 1,\n",
              "       1, 1, 1, 0, 1, 0, 1, 1, 0, 1, 1, 1, 1, 1, 0, 0, 1, 0, 1, 0, 1, 1,\n",
              "       1, 1, 1, 0, 1, 1, 0, 1, 0, 1, 0, 0, 1, 1, 1, 0, 1, 1, 1, 1, 1, 1,\n",
              "       1, 1, 1, 1, 1, 0, 1, 0, 0, 1, 1, 1, 1, 1, 1, 1, 1, 1, 1, 1, 1, 1,\n",
              "       1, 1, 1, 1, 1, 1, 1, 1, 1, 1, 1, 1, 0, 0, 0, 0, 0, 0, 1])"
            ]
          },
          "metadata": {
            "tags": []
          },
          "execution_count": 7
        }
      ]
    },
    {
      "cell_type": "code",
      "metadata": {
        "id": "Z0Kmrbsg4b-J",
        "colab_type": "code",
        "colab": {}
      },
      "source": [
        "from sklearn.model_selection import  train_test_split\n",
        "\n",
        "X_train, X_test, y_train, y_test = train_test_split(data.data, data.target, test_size=0.33)\n",
        "N, D = X_train.shape"
      ],
      "execution_count": 0,
      "outputs": []
    },
    {
      "cell_type": "code",
      "metadata": {
        "id": "NmwuhNvU4ZG-",
        "colab_type": "code",
        "colab": {}
      },
      "source": [
        "from sklearn.preprocessing import StandardScaler\n",
        "\n",
        "scaler = StandardScaler()\n",
        "X_train = scaler.fit_transform(X_train)\n",
        "X_test = scaler.fit_transform(X_test)"
      ],
      "execution_count": 0,
      "outputs": []
    },
    {
      "cell_type": "code",
      "metadata": {
        "id": "6JuVTsFI406k",
        "colab_type": "code",
        "colab": {
          "base_uri": "https://localhost:8080/",
          "height": 1000
        },
        "outputId": "ee3c2caf-73da-4a0c-c1af-60073cd45404"
      },
      "source": [
        "# Build model\n",
        "\n",
        "model = tf.keras.models.Sequential()\n",
        "model.add(tf.keras.layers.Dense(1, input_shape=(D, ), activation='sigmoid')) # sigmoid for logistic regression sigmoid(np.dot(Wm, x) + b)\n",
        "\n",
        "model.compile(optimizer='adam', loss='binary_crossentropy', metrics=['accuracy']) # accuracy = true_values /total\n",
        "r = model.fit(X_train, y_train, validation_data=(X_test, y_test), epochs=100)\n",
        "\n",
        "print(\"Train score\", model.evaluate(X_train,y_train))\n",
        "print(\"Test score\", model.evaluate(X_test,y_test))"
      ],
      "execution_count": 21,
      "outputs": [
        {
          "output_type": "stream",
          "text": [
            "Epoch 1/100\n",
            "12/12 [==============================] - 0s 16ms/step - loss: 0.9575 - accuracy: 0.3832 - val_loss: 0.8098 - val_accuracy: 0.4947\n",
            "Epoch 2/100\n",
            "12/12 [==============================] - 0s 4ms/step - loss: 0.8727 - accuracy: 0.4409 - val_loss: 0.7374 - val_accuracy: 0.5638\n",
            "Epoch 3/100\n",
            "12/12 [==============================] - 0s 4ms/step - loss: 0.7969 - accuracy: 0.4961 - val_loss: 0.6745 - val_accuracy: 0.6117\n",
            "Epoch 4/100\n",
            "12/12 [==============================] - 0s 4ms/step - loss: 0.7305 - accuracy: 0.5433 - val_loss: 0.6196 - val_accuracy: 0.6383\n",
            "Epoch 5/100\n",
            "12/12 [==============================] - 0s 5ms/step - loss: 0.6705 - accuracy: 0.6010 - val_loss: 0.5722 - val_accuracy: 0.6809\n",
            "Epoch 6/100\n",
            "12/12 [==============================] - 0s 4ms/step - loss: 0.6192 - accuracy: 0.6535 - val_loss: 0.5313 - val_accuracy: 0.7340\n",
            "Epoch 7/100\n",
            "12/12 [==============================] - 0s 4ms/step - loss: 0.5748 - accuracy: 0.7139 - val_loss: 0.4955 - val_accuracy: 0.7606\n",
            "Epoch 8/100\n",
            "12/12 [==============================] - 0s 4ms/step - loss: 0.5340 - accuracy: 0.7559 - val_loss: 0.4648 - val_accuracy: 0.7872\n",
            "Epoch 9/100\n",
            "12/12 [==============================] - 0s 4ms/step - loss: 0.4997 - accuracy: 0.7822 - val_loss: 0.4385 - val_accuracy: 0.8138\n",
            "Epoch 10/100\n",
            "12/12 [==============================] - 0s 4ms/step - loss: 0.4699 - accuracy: 0.8136 - val_loss: 0.4153 - val_accuracy: 0.8457\n",
            "Epoch 11/100\n",
            "12/12 [==============================] - 0s 4ms/step - loss: 0.4418 - accuracy: 0.8320 - val_loss: 0.3952 - val_accuracy: 0.8511\n",
            "Epoch 12/100\n",
            "12/12 [==============================] - 0s 4ms/step - loss: 0.4164 - accuracy: 0.8451 - val_loss: 0.3779 - val_accuracy: 0.8564\n",
            "Epoch 13/100\n",
            "12/12 [==============================] - 0s 4ms/step - loss: 0.3954 - accuracy: 0.8530 - val_loss: 0.3622 - val_accuracy: 0.8670\n",
            "Epoch 14/100\n",
            "12/12 [==============================] - 0s 4ms/step - loss: 0.3762 - accuracy: 0.8609 - val_loss: 0.3485 - val_accuracy: 0.8777\n",
            "Epoch 15/100\n",
            "12/12 [==============================] - 0s 4ms/step - loss: 0.3584 - accuracy: 0.8661 - val_loss: 0.3362 - val_accuracy: 0.8777\n",
            "Epoch 16/100\n",
            "12/12 [==============================] - 0s 4ms/step - loss: 0.3428 - accuracy: 0.8793 - val_loss: 0.3251 - val_accuracy: 0.8777\n",
            "Epoch 17/100\n",
            "12/12 [==============================] - 0s 4ms/step - loss: 0.3275 - accuracy: 0.8871 - val_loss: 0.3149 - val_accuracy: 0.8777\n",
            "Epoch 18/100\n",
            "12/12 [==============================] - 0s 4ms/step - loss: 0.3144 - accuracy: 0.8871 - val_loss: 0.3056 - val_accuracy: 0.8777\n",
            "Epoch 19/100\n",
            "12/12 [==============================] - 0s 4ms/step - loss: 0.3036 - accuracy: 0.8924 - val_loss: 0.2970 - val_accuracy: 0.8830\n",
            "Epoch 20/100\n",
            "12/12 [==============================] - 0s 4ms/step - loss: 0.2920 - accuracy: 0.9003 - val_loss: 0.2890 - val_accuracy: 0.8830\n",
            "Epoch 21/100\n",
            "12/12 [==============================] - 0s 4ms/step - loss: 0.2825 - accuracy: 0.9029 - val_loss: 0.2816 - val_accuracy: 0.8830\n",
            "Epoch 22/100\n",
            "12/12 [==============================] - 0s 4ms/step - loss: 0.2743 - accuracy: 0.9134 - val_loss: 0.2749 - val_accuracy: 0.8830\n",
            "Epoch 23/100\n",
            "12/12 [==============================] - 0s 4ms/step - loss: 0.2640 - accuracy: 0.9160 - val_loss: 0.2685 - val_accuracy: 0.8830\n",
            "Epoch 24/100\n",
            "12/12 [==============================] - 0s 4ms/step - loss: 0.2560 - accuracy: 0.9213 - val_loss: 0.2626 - val_accuracy: 0.8936\n",
            "Epoch 25/100\n",
            "12/12 [==============================] - 0s 4ms/step - loss: 0.2486 - accuracy: 0.9291 - val_loss: 0.2571 - val_accuracy: 0.8989\n",
            "Epoch 26/100\n",
            "12/12 [==============================] - 0s 4ms/step - loss: 0.2423 - accuracy: 0.9291 - val_loss: 0.2519 - val_accuracy: 0.8989\n",
            "Epoch 27/100\n",
            "12/12 [==============================] - 0s 4ms/step - loss: 0.2362 - accuracy: 0.9396 - val_loss: 0.2467 - val_accuracy: 0.8989\n",
            "Epoch 28/100\n",
            "12/12 [==============================] - 0s 4ms/step - loss: 0.2292 - accuracy: 0.9423 - val_loss: 0.2422 - val_accuracy: 0.9043\n",
            "Epoch 29/100\n",
            "12/12 [==============================] - 0s 4ms/step - loss: 0.2235 - accuracy: 0.9449 - val_loss: 0.2378 - val_accuracy: 0.9096\n",
            "Epoch 30/100\n",
            "12/12 [==============================] - 0s 4ms/step - loss: 0.2183 - accuracy: 0.9475 - val_loss: 0.2335 - val_accuracy: 0.9096\n",
            "Epoch 31/100\n",
            "12/12 [==============================] - 0s 4ms/step - loss: 0.2129 - accuracy: 0.9475 - val_loss: 0.2296 - val_accuracy: 0.9149\n",
            "Epoch 32/100\n",
            "12/12 [==============================] - 0s 4ms/step - loss: 0.2085 - accuracy: 0.9501 - val_loss: 0.2260 - val_accuracy: 0.9202\n",
            "Epoch 33/100\n",
            "12/12 [==============================] - 0s 4ms/step - loss: 0.2032 - accuracy: 0.9528 - val_loss: 0.2224 - val_accuracy: 0.9202\n",
            "Epoch 34/100\n",
            "12/12 [==============================] - 0s 4ms/step - loss: 0.2005 - accuracy: 0.9554 - val_loss: 0.2189 - val_accuracy: 0.9309\n",
            "Epoch 35/100\n",
            "12/12 [==============================] - 0s 4ms/step - loss: 0.1960 - accuracy: 0.9580 - val_loss: 0.2157 - val_accuracy: 0.9309\n",
            "Epoch 36/100\n",
            "12/12 [==============================] - 0s 4ms/step - loss: 0.1914 - accuracy: 0.9580 - val_loss: 0.2126 - val_accuracy: 0.9309\n",
            "Epoch 37/100\n",
            "12/12 [==============================] - 0s 5ms/step - loss: 0.1872 - accuracy: 0.9580 - val_loss: 0.2096 - val_accuracy: 0.9362\n",
            "Epoch 38/100\n",
            "12/12 [==============================] - 0s 4ms/step - loss: 0.1841 - accuracy: 0.9580 - val_loss: 0.2067 - val_accuracy: 0.9415\n",
            "Epoch 39/100\n",
            "12/12 [==============================] - 0s 4ms/step - loss: 0.1812 - accuracy: 0.9580 - val_loss: 0.2041 - val_accuracy: 0.9415\n",
            "Epoch 40/100\n",
            "12/12 [==============================] - 0s 4ms/step - loss: 0.1770 - accuracy: 0.9606 - val_loss: 0.2014 - val_accuracy: 0.9415\n",
            "Epoch 41/100\n",
            "12/12 [==============================] - 0s 4ms/step - loss: 0.1739 - accuracy: 0.9606 - val_loss: 0.1989 - val_accuracy: 0.9415\n",
            "Epoch 42/100\n",
            "12/12 [==============================] - 0s 4ms/step - loss: 0.1709 - accuracy: 0.9633 - val_loss: 0.1965 - val_accuracy: 0.9415\n",
            "Epoch 43/100\n",
            "12/12 [==============================] - 0s 4ms/step - loss: 0.1676 - accuracy: 0.9633 - val_loss: 0.1940 - val_accuracy: 0.9415\n",
            "Epoch 44/100\n",
            "12/12 [==============================] - 0s 4ms/step - loss: 0.1653 - accuracy: 0.9633 - val_loss: 0.1918 - val_accuracy: 0.9415\n",
            "Epoch 45/100\n",
            "12/12 [==============================] - 0s 4ms/step - loss: 0.1624 - accuracy: 0.9633 - val_loss: 0.1897 - val_accuracy: 0.9415\n",
            "Epoch 46/100\n",
            "12/12 [==============================] - 0s 4ms/step - loss: 0.1599 - accuracy: 0.9633 - val_loss: 0.1877 - val_accuracy: 0.9415\n",
            "Epoch 47/100\n",
            "12/12 [==============================] - 0s 4ms/step - loss: 0.1577 - accuracy: 0.9633 - val_loss: 0.1857 - val_accuracy: 0.9415\n",
            "Epoch 48/100\n",
            "12/12 [==============================] - 0s 4ms/step - loss: 0.1555 - accuracy: 0.9633 - val_loss: 0.1837 - val_accuracy: 0.9415\n",
            "Epoch 49/100\n",
            "12/12 [==============================] - 0s 4ms/step - loss: 0.1529 - accuracy: 0.9633 - val_loss: 0.1817 - val_accuracy: 0.9415\n",
            "Epoch 50/100\n",
            "12/12 [==============================] - 0s 4ms/step - loss: 0.1503 - accuracy: 0.9659 - val_loss: 0.1800 - val_accuracy: 0.9468\n",
            "Epoch 51/100\n",
            "12/12 [==============================] - 0s 4ms/step - loss: 0.1486 - accuracy: 0.9659 - val_loss: 0.1782 - val_accuracy: 0.9468\n",
            "Epoch 52/100\n",
            "12/12 [==============================] - 0s 4ms/step - loss: 0.1462 - accuracy: 0.9659 - val_loss: 0.1765 - val_accuracy: 0.9521\n",
            "Epoch 53/100\n",
            "12/12 [==============================] - 0s 4ms/step - loss: 0.1444 - accuracy: 0.9659 - val_loss: 0.1750 - val_accuracy: 0.9521\n",
            "Epoch 54/100\n",
            "12/12 [==============================] - 0s 4ms/step - loss: 0.1424 - accuracy: 0.9659 - val_loss: 0.1733 - val_accuracy: 0.9574\n",
            "Epoch 55/100\n",
            "12/12 [==============================] - 0s 4ms/step - loss: 0.1403 - accuracy: 0.9711 - val_loss: 0.1718 - val_accuracy: 0.9574\n",
            "Epoch 56/100\n",
            "12/12 [==============================] - 0s 4ms/step - loss: 0.1391 - accuracy: 0.9711 - val_loss: 0.1703 - val_accuracy: 0.9574\n",
            "Epoch 57/100\n",
            "12/12 [==============================] - 0s 4ms/step - loss: 0.1370 - accuracy: 0.9711 - val_loss: 0.1689 - val_accuracy: 0.9574\n",
            "Epoch 58/100\n",
            "12/12 [==============================] - 0s 4ms/step - loss: 0.1363 - accuracy: 0.9711 - val_loss: 0.1675 - val_accuracy: 0.9574\n",
            "Epoch 59/100\n",
            "12/12 [==============================] - 0s 4ms/step - loss: 0.1340 - accuracy: 0.9711 - val_loss: 0.1662 - val_accuracy: 0.9574\n",
            "Epoch 60/100\n",
            "12/12 [==============================] - 0s 4ms/step - loss: 0.1321 - accuracy: 0.9711 - val_loss: 0.1648 - val_accuracy: 0.9574\n",
            "Epoch 61/100\n",
            "12/12 [==============================] - 0s 4ms/step - loss: 0.1307 - accuracy: 0.9711 - val_loss: 0.1635 - val_accuracy: 0.9574\n",
            "Epoch 62/100\n",
            "12/12 [==============================] - 0s 4ms/step - loss: 0.1289 - accuracy: 0.9738 - val_loss: 0.1622 - val_accuracy: 0.9574\n",
            "Epoch 63/100\n",
            "12/12 [==============================] - 0s 4ms/step - loss: 0.1281 - accuracy: 0.9764 - val_loss: 0.1610 - val_accuracy: 0.9574\n",
            "Epoch 64/100\n",
            "12/12 [==============================] - 0s 4ms/step - loss: 0.1261 - accuracy: 0.9790 - val_loss: 0.1598 - val_accuracy: 0.9574\n",
            "Epoch 65/100\n",
            "12/12 [==============================] - 0s 4ms/step - loss: 0.1248 - accuracy: 0.9790 - val_loss: 0.1587 - val_accuracy: 0.9574\n",
            "Epoch 66/100\n",
            "12/12 [==============================] - 0s 4ms/step - loss: 0.1233 - accuracy: 0.9790 - val_loss: 0.1577 - val_accuracy: 0.9574\n",
            "Epoch 67/100\n",
            "12/12 [==============================] - 0s 4ms/step - loss: 0.1225 - accuracy: 0.9790 - val_loss: 0.1566 - val_accuracy: 0.9574\n",
            "Epoch 68/100\n",
            "12/12 [==============================] - 0s 4ms/step - loss: 0.1212 - accuracy: 0.9790 - val_loss: 0.1555 - val_accuracy: 0.9628\n",
            "Epoch 69/100\n",
            "12/12 [==============================] - 0s 4ms/step - loss: 0.1197 - accuracy: 0.9790 - val_loss: 0.1544 - val_accuracy: 0.9628\n",
            "Epoch 70/100\n",
            "12/12 [==============================] - 0s 4ms/step - loss: 0.1185 - accuracy: 0.9816 - val_loss: 0.1534 - val_accuracy: 0.9628\n",
            "Epoch 71/100\n",
            "12/12 [==============================] - 0s 4ms/step - loss: 0.1180 - accuracy: 0.9843 - val_loss: 0.1524 - val_accuracy: 0.9628\n",
            "Epoch 72/100\n",
            "12/12 [==============================] - 0s 4ms/step - loss: 0.1160 - accuracy: 0.9843 - val_loss: 0.1514 - val_accuracy: 0.9628\n",
            "Epoch 73/100\n",
            "12/12 [==============================] - 0s 4ms/step - loss: 0.1154 - accuracy: 0.9843 - val_loss: 0.1506 - val_accuracy: 0.9628\n",
            "Epoch 74/100\n",
            "12/12 [==============================] - 0s 4ms/step - loss: 0.1144 - accuracy: 0.9843 - val_loss: 0.1497 - val_accuracy: 0.9628\n",
            "Epoch 75/100\n",
            "12/12 [==============================] - 0s 4ms/step - loss: 0.1129 - accuracy: 0.9843 - val_loss: 0.1487 - val_accuracy: 0.9628\n",
            "Epoch 76/100\n",
            "12/12 [==============================] - 0s 4ms/step - loss: 0.1118 - accuracy: 0.9843 - val_loss: 0.1479 - val_accuracy: 0.9628\n",
            "Epoch 77/100\n",
            "12/12 [==============================] - 0s 4ms/step - loss: 0.1110 - accuracy: 0.9843 - val_loss: 0.1470 - val_accuracy: 0.9628\n",
            "Epoch 78/100\n",
            "12/12 [==============================] - 0s 5ms/step - loss: 0.1095 - accuracy: 0.9843 - val_loss: 0.1462 - val_accuracy: 0.9628\n",
            "Epoch 79/100\n",
            "12/12 [==============================] - 0s 4ms/step - loss: 0.1094 - accuracy: 0.9843 - val_loss: 0.1454 - val_accuracy: 0.9628\n",
            "Epoch 80/100\n",
            "12/12 [==============================] - 0s 4ms/step - loss: 0.1078 - accuracy: 0.9843 - val_loss: 0.1446 - val_accuracy: 0.9628\n",
            "Epoch 81/100\n",
            "12/12 [==============================] - 0s 4ms/step - loss: 0.1072 - accuracy: 0.9843 - val_loss: 0.1438 - val_accuracy: 0.9628\n",
            "Epoch 82/100\n",
            "12/12 [==============================] - 0s 4ms/step - loss: 0.1061 - accuracy: 0.9843 - val_loss: 0.1431 - val_accuracy: 0.9628\n",
            "Epoch 83/100\n",
            "12/12 [==============================] - 0s 4ms/step - loss: 0.1056 - accuracy: 0.9843 - val_loss: 0.1423 - val_accuracy: 0.9628\n",
            "Epoch 84/100\n",
            "12/12 [==============================] - 0s 4ms/step - loss: 0.1044 - accuracy: 0.9843 - val_loss: 0.1416 - val_accuracy: 0.9628\n",
            "Epoch 85/100\n",
            "12/12 [==============================] - 0s 4ms/step - loss: 0.1034 - accuracy: 0.9843 - val_loss: 0.1409 - val_accuracy: 0.9628\n",
            "Epoch 86/100\n",
            "12/12 [==============================] - 0s 4ms/step - loss: 0.1030 - accuracy: 0.9869 - val_loss: 0.1402 - val_accuracy: 0.9628\n",
            "Epoch 87/100\n",
            "12/12 [==============================] - 0s 4ms/step - loss: 0.1030 - accuracy: 0.9869 - val_loss: 0.1395 - val_accuracy: 0.9628\n",
            "Epoch 88/100\n",
            "12/12 [==============================] - 0s 4ms/step - loss: 0.1010 - accuracy: 0.9869 - val_loss: 0.1389 - val_accuracy: 0.9628\n",
            "Epoch 89/100\n",
            "12/12 [==============================] - 0s 4ms/step - loss: 0.1002 - accuracy: 0.9869 - val_loss: 0.1382 - val_accuracy: 0.9628\n",
            "Epoch 90/100\n",
            "12/12 [==============================] - 0s 4ms/step - loss: 0.0996 - accuracy: 0.9869 - val_loss: 0.1376 - val_accuracy: 0.9628\n",
            "Epoch 91/100\n",
            "12/12 [==============================] - 0s 4ms/step - loss: 0.0990 - accuracy: 0.9869 - val_loss: 0.1370 - val_accuracy: 0.9628\n",
            "Epoch 92/100\n",
            "12/12 [==============================] - 0s 4ms/step - loss: 0.0981 - accuracy: 0.9869 - val_loss: 0.1364 - val_accuracy: 0.9628\n",
            "Epoch 93/100\n",
            "12/12 [==============================] - 0s 5ms/step - loss: 0.0974 - accuracy: 0.9869 - val_loss: 0.1358 - val_accuracy: 0.9628\n",
            "Epoch 94/100\n",
            "12/12 [==============================] - 0s 4ms/step - loss: 0.0971 - accuracy: 0.9869 - val_loss: 0.1351 - val_accuracy: 0.9628\n",
            "Epoch 95/100\n",
            "12/12 [==============================] - 0s 4ms/step - loss: 0.0964 - accuracy: 0.9869 - val_loss: 0.1346 - val_accuracy: 0.9628\n",
            "Epoch 96/100\n",
            "12/12 [==============================] - 0s 5ms/step - loss: 0.0955 - accuracy: 0.9869 - val_loss: 0.1340 - val_accuracy: 0.9628\n",
            "Epoch 97/100\n",
            "12/12 [==============================] - 0s 4ms/step - loss: 0.0950 - accuracy: 0.9869 - val_loss: 0.1334 - val_accuracy: 0.9628\n",
            "Epoch 98/100\n",
            "12/12 [==============================] - 0s 4ms/step - loss: 0.0941 - accuracy: 0.9869 - val_loss: 0.1329 - val_accuracy: 0.9628\n",
            "Epoch 99/100\n",
            "12/12 [==============================] - 0s 5ms/step - loss: 0.0938 - accuracy: 0.9869 - val_loss: 0.1323 - val_accuracy: 0.9628\n",
            "Epoch 100/100\n",
            "12/12 [==============================] - 0s 4ms/step - loss: 0.0932 - accuracy: 0.9869 - val_loss: 0.1318 - val_accuracy: 0.9628\n",
            "12/12 [==============================] - 0s 1ms/step - loss: 0.0933 - accuracy: 0.9869\n",
            "Train score [0.09334510564804077, 0.9868766665458679]\n",
            "6/6 [==============================] - 0s 2ms/step - loss: 0.1318 - accuracy: 0.9628\n",
            "Test score [0.13182196021080017, 0.9627659320831299]\n"
          ],
          "name": "stdout"
        }
      ]
    },
    {
      "cell_type": "code",
      "metadata": {
        "id": "v9BaBxB353sw",
        "colab_type": "code",
        "colab": {
          "base_uri": "https://localhost:8080/",
          "height": 286
        },
        "outputId": "eb24c069-704c-450b-eac5-7fbcdff84d06"
      },
      "source": [
        "import matplotlib.pyplot as plt\n",
        "plt.plot(r.history['loss'], label='loss')\n",
        "plt.plot(r.history['val_loss'], label='val_loss')\n",
        "plt.legend()"
      ],
      "execution_count": 23,
      "outputs": [
        {
          "output_type": "execute_result",
          "data": {
            "text/plain": [
              "<matplotlib.legend.Legend at 0x7efb9598cc50>"
            ]
          },
          "metadata": {
            "tags": []
          },
          "execution_count": 23
        },
        {
          "output_type": "display_data",
          "data": {
            "image/png": "[encoded data removed]",
            "text/plain": [
              "<Figure size 432x288 with 1 Axes>"
            ]
          },
          "metadata": {
            "tags": [],
            "needs_background": "light"
          }
        }
      ]
    },
    {
      "cell_type": "code",
      "metadata": {
        "id": "4JvJN63H6YHo",
        "colab_type": "code",
        "colab": {
          "base_uri": "https://localhost:8080/",
          "height": 282
        },
        "outputId": "7234b426-d50a-4b6b-c8a7-2766692fd8cb"
      },
      "source": [
        "plt.plot(r.history['accuracy'],label='acc')\n",
        "plt.plot(r.history['val_accuracy'], label='val_acc')\n",
        "plt.legend()"
      ],
      "execution_count": 25,
      "outputs": [
        {
          "output_type": "execute_result",
          "data": {
            "text/plain": [
              "<matplotlib.legend.Legend at 0x7efb9597ccf8>"
            ]
          },
          "metadata": {
            "tags": []
          },
          "execution_count": 25
        },
        {
          "output_type": "display_data",
          "data": {
            "image/png": "[encoded data removed]",
            "text/plain": [
              "<Figure size 432x288 with 1 Axes>"
            ]
          },
          "metadata": {
            "tags": [],
            "needs_background": "light"
          }
        }
      ]
    }
  ]
}
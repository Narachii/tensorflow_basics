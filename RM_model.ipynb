{
  "nbformat": 4,
  "nbformat_minor": 0,
  "metadata": {
    "colab": {
      "name": "RM_model.ipynb",
      "provenance": [],
      "collapsed_sections": [],
      "authorship_tag": "ABX9TyOxkHSzX+erYCqdNWS5m3Zr",
      "include_colab_link": true
    },
    "kernelspec": {
      "name": "python3",
      "display_name": "Python 3"
    }
  },
  "cells": [
    {
      "cell_type": "markdown",
      "metadata": {
        "id": "view-in-github",
        "colab_type": "text"
      },
      "source": [
        "<a href=\"https://colab.research.google.com/github/Narachii/tensorflow_basics/blob/sequence_model/RM_model.ipynb\" target=\"_parent\"><img src=\"https://colab.research.google.com/assets/colab-badge.svg\" alt=\"Open In Colab\"/></a>"
      ]
    },
    {
      "cell_type": "code",
      "metadata": {
        "id": "A3ygJgJazRO2",
        "colab_type": "code",
        "colab": {}
      },
      "source": [
        "import tensorflow as tf\n",
        "import numpy as np\n",
        "import pandas as pd\n",
        "import matplotlib.pyplot as plt"
      ],
      "execution_count": 0,
      "outputs": []
    },
    {
      "cell_type": "code",
      "metadata": {
        "id": "OkELF4GI0djv",
        "colab_type": "code",
        "colab": {}
      },
      "source": [
        "from tensorflow.keras.layers import Input, Dense\n",
        "from tensorflow.keras.models import Model\n",
        "from tensorflow.keras.optimizers import SGD, Adam"
      ],
      "execution_count": 0,
      "outputs": []
    },
    {
      "cell_type": "code",
      "metadata": {
        "id": "wF2ogNno02IW",
        "colab_type": "code",
        "colab": {
          "base_uri": "https://localhost:8080/",
          "height": 265
        },
        "outputId": "7ddaf953-f0ba-46cc-c3eb-f333303fe12d"
      },
      "source": [
        "series = np.sin(0.1 * np.arange(200)) # + np.random.randn(200) * 0.1 #noise\n",
        "plt.plot(series)\n",
        "plt.show()"
      ],
      "execution_count": 5,
      "outputs": [
        {
          "output_type": "display_data",
          "data": {
            "image/png": "[encoded data removed]",
            "text/plain": [
              "<Figure size 432x288 with 1 Axes>"
            ]
          },
          "metadata": {
            "tags": [],
            "needs_background": "light"
          }
        }
      ]
    },
    {
      "cell_type": "code",
      "metadata": {
        "id": "-4e3V_cN1GCy",
        "colab_type": "code",
        "colab": {
          "base_uri": "https://localhost:8080/",
          "height": 34
        },
        "outputId": "98ed1630-c6a4-41ee-a926-152cc8fe3b53"
      },
      "source": [
        "### build the dataset\n",
        "T = 10\n",
        "X = []\n",
        "Y = []\n",
        "for t in range(len(series) - T):\n",
        "  x = series[t:t+T] # ex. 1:10\n",
        "  X.append(x)\n",
        "  y = series[t+T] # ex. 10\n",
        "  Y.append(y)\n",
        "\n",
        "X = np.array(X).reshape(-1, T)\n",
        "Y = np.array(Y)\n",
        "N = len(X)\n",
        "print('X shape', X.shape, 'Y shape', Y.shape)"
      ],
      "execution_count": 80,
      "outputs": [
        {
          "output_type": "stream",
          "text": [
            "X shape (190, 10) Y shape (190,)\n"
          ],
          "name": "stdout"
        }
      ]
    },
    {
      "cell_type": "code",
      "metadata": {
        "id": "GtjHNKEd1diL",
        "colab_type": "code",
        "colab": {
          "base_uri": "https://localhost:8080/",
          "height": 1000
        },
        "outputId": "2e1cd442-d7b7-419f-85ac-ccfe1a476dc4"
      },
      "source": [
        "i = Input(shape=(T,))\n",
        "x = Dense(1)(i)\n",
        "model = Model(i, x)\n",
        "model.compile(\n",
        "    loss='mse',\n",
        "    optimizer= Adam(lr=0.1),\n",
        ")\n",
        "\n",
        "r = model.fit(\n",
        "    X[:-N //2], Y[:-N // 2],\n",
        "    epochs=80,\n",
        "    validation_data=(X[-N//2:], Y[-N//2:]),\n",
        ")"
      ],
      "execution_count": 81,
      "outputs": [
        {
          "output_type": "stream",
          "text": [
            "Epoch 1/80\n",
            "3/3 [==============================] - 0s 22ms/step - loss: 0.4256 - val_loss: 0.2903\n",
            "Epoch 2/80\n",
            "3/3 [==============================] - 0s 11ms/step - loss: 0.1992 - val_loss: 0.1397\n",
            "Epoch 3/80\n",
            "3/3 [==============================] - 0s 12ms/step - loss: 0.1048 - val_loss: 0.0362\n",
            "Epoch 4/80\n",
            "3/3 [==============================] - 0s 11ms/step - loss: 0.0156 - val_loss: 0.0453\n",
            "Epoch 5/80\n",
            "3/3 [==============================] - 0s 11ms/step - loss: 0.0439 - val_loss: 0.0298\n",
            "Epoch 6/80\n",
            "3/3 [==============================] - 0s 11ms/step - loss: 0.0315 - val_loss: 0.0491\n",
            "Epoch 7/80\n",
            "3/3 [==============================] - 0s 12ms/step - loss: 0.0449 - val_loss: 0.0276\n",
            "Epoch 8/80\n",
            "3/3 [==============================] - 0s 11ms/step - loss: 0.0288 - val_loss: 0.0288\n",
            "Epoch 9/80\n",
            "3/3 [==============================] - 0s 12ms/step - loss: 0.0187 - val_loss: 0.0080\n",
            "Epoch 10/80\n",
            "3/3 [==============================] - 0s 11ms/step - loss: 0.0130 - val_loss: 0.0072\n",
            "Epoch 11/80\n",
            "3/3 [==============================] - 0s 11ms/step - loss: 0.0033 - val_loss: 0.0064\n",
            "Epoch 12/80\n",
            "3/3 [==============================] - 0s 11ms/step - loss: 0.0074 - val_loss: 0.0036\n",
            "Epoch 13/80\n",
            "3/3 [==============================] - 0s 13ms/step - loss: 0.0046 - val_loss: 0.0067\n",
            "Epoch 14/80\n",
            "3/3 [==============================] - 0s 11ms/step - loss: 0.0054 - val_loss: 0.0028\n",
            "Epoch 15/80\n",
            "3/3 [==============================] - 0s 11ms/step - loss: 0.0033 - val_loss: 0.0018\n",
            "Epoch 16/80\n",
            "3/3 [==============================] - 0s 11ms/step - loss: 0.0012 - val_loss: 0.0018\n",
            "Epoch 17/80\n",
            "3/3 [==============================] - 0s 12ms/step - loss: 0.0012 - val_loss: 1.3700e-04\n",
            "Epoch 18/80\n",
            "3/3 [==============================] - 0s 11ms/step - loss: 7.0485e-04 - val_loss: 0.0016\n",
            "Epoch 19/80\n",
            "3/3 [==============================] - 0s 11ms/step - loss: 0.0010 - val_loss: 9.8407e-04\n",
            "Epoch 20/80\n",
            "3/3 [==============================] - 0s 11ms/step - loss: 9.7273e-04 - val_loss: 4.3741e-04\n",
            "Epoch 21/80\n",
            "3/3 [==============================] - 0s 12ms/step - loss: 3.4336e-04 - val_loss: 3.2101e-04\n",
            "Epoch 22/80\n",
            "3/3 [==============================] - 0s 14ms/step - loss: 2.0892e-04 - val_loss: 1.6434e-04\n",
            "Epoch 23/80\n",
            "3/3 [==============================] - 0s 11ms/step - loss: 1.6310e-04 - val_loss: 9.8002e-05\n",
            "Epoch 24/80\n",
            "3/3 [==============================] - 0s 13ms/step - loss: 1.2890e-04 - val_loss: 2.3278e-04\n",
            "Epoch 25/80\n",
            "3/3 [==============================] - 0s 11ms/step - loss: 1.6765e-04 - val_loss: 1.2304e-04\n",
            "Epoch 26/80\n",
            "3/3 [==============================] - 0s 11ms/step - loss: 1.3459e-04 - val_loss: 3.0730e-05\n",
            "Epoch 27/80\n",
            "3/3 [==============================] - 0s 11ms/step - loss: 4.0076e-05 - val_loss: 3.0500e-05\n",
            "Epoch 28/80\n",
            "3/3 [==============================] - 0s 11ms/step - loss: 2.8314e-05 - val_loss: 4.6288e-05\n",
            "Epoch 29/80\n",
            "3/3 [==============================] - 0s 11ms/step - loss: 3.7647e-05 - val_loss: 3.5820e-05\n",
            "Epoch 30/80\n",
            "3/3 [==============================] - 0s 11ms/step - loss: 4.4270e-05 - val_loss: 3.6423e-05\n",
            "Epoch 31/80\n",
            "3/3 [==============================] - 0s 11ms/step - loss: 1.8964e-05 - val_loss: 2.0817e-05\n",
            "Epoch 32/80\n",
            "3/3 [==============================] - 0s 14ms/step - loss: 1.1748e-05 - val_loss: 6.2310e-06\n",
            "Epoch 33/80\n",
            "3/3 [==============================] - 0s 11ms/step - loss: 8.0161e-06 - val_loss: 3.6111e-06\n",
            "Epoch 34/80\n",
            "3/3 [==============================] - 0s 11ms/step - loss: 6.2942e-06 - val_loss: 6.5127e-06\n",
            "Epoch 35/80\n",
            "3/3 [==============================] - 0s 12ms/step - loss: 6.7129e-06 - val_loss: 6.6685e-06\n",
            "Epoch 36/80\n",
            "3/3 [==============================] - 0s 11ms/step - loss: 4.4198e-06 - val_loss: 3.2038e-06\n",
            "Epoch 37/80\n",
            "3/3 [==============================] - 0s 11ms/step - loss: 2.1110e-06 - val_loss: 6.6544e-07\n",
            "Epoch 38/80\n",
            "3/3 [==============================] - 0s 11ms/step - loss: 2.1335e-06 - val_loss: 8.0800e-07\n",
            "Epoch 39/80\n",
            "3/3 [==============================] - 0s 11ms/step - loss: 2.1229e-06 - val_loss: 1.3121e-06\n",
            "Epoch 40/80\n",
            "3/3 [==============================] - 0s 11ms/step - loss: 1.7946e-06 - val_loss: 2.0202e-06\n",
            "Epoch 41/80\n",
            "3/3 [==============================] - 0s 11ms/step - loss: 8.0824e-07 - val_loss: 1.1925e-06\n",
            "Epoch 42/80\n",
            "3/3 [==============================] - 0s 13ms/step - loss: 6.4034e-07 - val_loss: 4.6872e-07\n",
            "Epoch 43/80\n",
            "3/3 [==============================] - 0s 11ms/step - loss: 6.2078e-07 - val_loss: 3.1072e-07\n",
            "Epoch 44/80\n",
            "3/3 [==============================] - 0s 11ms/step - loss: 4.9199e-07 - val_loss: 2.3471e-07\n",
            "Epoch 45/80\n",
            "3/3 [==============================] - 0s 11ms/step - loss: 3.5417e-07 - val_loss: 3.0600e-07\n",
            "Epoch 46/80\n",
            "3/3 [==============================] - 0s 11ms/step - loss: 1.9999e-07 - val_loss: 2.7701e-07\n",
            "Epoch 47/80\n",
            "3/3 [==============================] - 0s 11ms/step - loss: 1.4057e-07 - val_loss: 2.4167e-07\n",
            "Epoch 48/80\n",
            "3/3 [==============================] - 0s 14ms/step - loss: 2.1869e-07 - val_loss: 1.5303e-07\n",
            "Epoch 49/80\n",
            "3/3 [==============================] - 0s 12ms/step - loss: 1.5810e-07 - val_loss: 7.8193e-08\n",
            "Epoch 50/80\n",
            "3/3 [==============================] - 0s 14ms/step - loss: 8.8897e-08 - val_loss: 2.4734e-09\n",
            "Epoch 51/80\n",
            "3/3 [==============================] - 0s 13ms/step - loss: 3.8958e-08 - val_loss: 6.2086e-08\n",
            "Epoch 52/80\n",
            "3/3 [==============================] - 0s 12ms/step - loss: 4.5460e-08 - val_loss: 5.5453e-08\n",
            "Epoch 53/80\n",
            "3/3 [==============================] - 0s 16ms/step - loss: 4.5357e-08 - val_loss: 2.7922e-08\n",
            "Epoch 54/80\n",
            "3/3 [==============================] - 0s 11ms/step - loss: 2.0357e-08 - val_loss: 1.7359e-08\n",
            "Epoch 55/80\n",
            "3/3 [==============================] - 0s 12ms/step - loss: 1.1202e-08 - val_loss: 1.5215e-08\n",
            "Epoch 56/80\n",
            "3/3 [==============================] - 0s 11ms/step - loss: 1.3420e-08 - val_loss: 1.2394e-08\n",
            "Epoch 57/80\n",
            "3/3 [==============================] - 0s 11ms/step - loss: 1.3105e-08 - val_loss: 6.5895e-09\n",
            "Epoch 58/80\n",
            "3/3 [==============================] - 0s 11ms/step - loss: 8.5039e-09 - val_loss: 8.2228e-10\n",
            "Epoch 59/80\n",
            "3/3 [==============================] - 0s 12ms/step - loss: 3.7729e-09 - val_loss: 1.0424e-09\n",
            "Epoch 60/80\n",
            "3/3 [==============================] - 0s 11ms/step - loss: 2.4938e-09 - val_loss: 4.2896e-09\n",
            "Epoch 61/80\n",
            "3/3 [==============================] - 0s 14ms/step - loss: 3.4148e-09 - val_loss: 4.5707e-09\n",
            "Epoch 62/80\n",
            "3/3 [==============================] - 0s 11ms/step - loss: 2.7909e-09 - val_loss: 2.7806e-09\n",
            "Epoch 63/80\n",
            "3/3 [==============================] - 0s 12ms/step - loss: 1.5784e-09 - val_loss: 2.2787e-09\n",
            "Epoch 64/80\n",
            "3/3 [==============================] - 0s 11ms/step - loss: 1.7779e-09 - val_loss: 2.4696e-09\n",
            "Epoch 65/80\n",
            "3/3 [==============================] - 0s 11ms/step - loss: 1.8965e-09 - val_loss: 1.9548e-09\n",
            "Epoch 66/80\n",
            "3/3 [==============================] - 0s 11ms/step - loss: 1.5454e-09 - val_loss: 3.3515e-10\n",
            "Epoch 67/80\n",
            "3/3 [==============================] - 0s 11ms/step - loss: 7.3865e-10 - val_loss: 8.1106e-11\n",
            "Epoch 68/80\n",
            "3/3 [==============================] - 0s 12ms/step - loss: 6.1682e-10 - val_loss: 2.4492e-10\n",
            "Epoch 69/80\n",
            "3/3 [==============================] - 0s 11ms/step - loss: 5.8400e-10 - val_loss: 3.1216e-10\n",
            "Epoch 70/80\n",
            "3/3 [==============================] - 0s 13ms/step - loss: 3.5138e-10 - val_loss: 2.5863e-10\n",
            "Epoch 71/80\n",
            "3/3 [==============================] - 0s 12ms/step - loss: 2.0365e-10 - val_loss: 2.3395e-10\n",
            "Epoch 72/80\n",
            "3/3 [==============================] - 0s 11ms/step - loss: 1.8226e-10 - val_loss: 2.6518e-10\n",
            "Epoch 73/80\n",
            "3/3 [==============================] - 0s 11ms/step - loss: 2.2402e-10 - val_loss: 1.1194e-10\n",
            "Epoch 74/80\n",
            "3/3 [==============================] - 0s 11ms/step - loss: 9.5063e-11 - val_loss: 1.0517e-10\n",
            "Epoch 75/80\n",
            "3/3 [==============================] - 0s 12ms/step - loss: 6.0363e-11 - val_loss: 1.0557e-10\n",
            "Epoch 76/80\n",
            "3/3 [==============================] - 0s 12ms/step - loss: 5.9782e-11 - val_loss: 6.7036e-11\n",
            "Epoch 77/80\n",
            "3/3 [==============================] - 0s 11ms/step - loss: 5.2973e-11 - val_loss: 4.2041e-11\n",
            "Epoch 78/80\n",
            "3/3 [==============================] - 0s 11ms/step - loss: 2.4659e-11 - val_loss: 5.2083e-11\n",
            "Epoch 79/80\n",
            "3/3 [==============================] - 0s 11ms/step - loss: 2.1052e-11 - val_loss: 2.9369e-11\n",
            "Epoch 80/80\n",
            "3/3 [==============================] - 0s 14ms/step - loss: 1.8966e-11 - val_loss: 1.2516e-11\n"
          ],
          "name": "stdout"
        }
      ]
    },
    {
      "cell_type": "code",
      "metadata": {
        "id": "6tLOsp3_3RbM",
        "colab_type": "code",
        "colab": {
          "base_uri": "https://localhost:8080/",
          "height": 284
        },
        "outputId": "cd6a6000-e330-4998-861a-628e3b9c181c"
      },
      "source": [
        "plt.plot(r.history['loss'],label='loss')\n",
        "plt.plot(r.history['val_loss'], label='val_loss')\n",
        "plt.legend()"
      ],
      "execution_count": 74,
      "outputs": [
        {
          "output_type": "execute_result",
          "data": {
            "text/plain": [
              "<matplotlib.legend.Legend at 0x7fd8465ebd68>"
            ]
          },
          "metadata": {
            "tags": []
          },
          "execution_count": 74
        },
        {
          "output_type": "display_data",
          "data": {
            "image/png": "[encoded data removed]",
            "text/plain": [
              "<Figure size 432x288 with 1 Axes>"
            ]
          },
          "metadata": {
            "tags": [],
            "needs_background": "light"
          }
        }
      ]
    },
    {
      "cell_type": "code",
      "metadata": {
        "id": "QboeowVi1enn",
        "colab_type": "code",
        "colab": {}
      },
      "source": [
        "## Prediction\n",
        "# Wron forecast using true targets\n",
        "\n",
        "validation_target = Y[-N // 2:]\n",
        "validation_predictions = []\n",
        "\n",
        "# index of first validation input\n",
        "i = -N //2\n",
        "\n",
        "while len(validation_predictions) < len(validation_target):\n",
        "  p = model.predict(X[i].reshape(1, -1))[0, 0] #return scalar\n",
        "  i += 1\n",
        "\n",
        "  validation_predictions.append(p)"
      ],
      "execution_count": 0,
      "outputs": []
    },
    {
      "cell_type": "code",
      "metadata": {
        "id": "h1MVimQ61q7o",
        "colab_type": "code",
        "colab": {
          "base_uri": "https://localhost:8080/",
          "height": 282
        },
        "outputId": "38f4fc70-5e2a-4b30-eaeb-e93ec07d9071"
      },
      "source": [
        "plt.plot(validation_target, label='forecast target')\n",
        "plt.plot(validation_predictions, label='forecast prediction')\n",
        "plt.legend()"
      ],
      "execution_count": 79,
      "outputs": [
        {
          "output_type": "execute_result",
          "data": {
            "text/plain": [
              "<matplotlib.legend.Legend at 0x7fd8496fb208>"
            ]
          },
          "metadata": {
            "tags": []
          },
          "execution_count": 79
        },
        {
          "output_type": "display_data",
          "data": {
            "image/png": "[encoded data removed]",
            "text/plain": [
              "<Figure size 432x288 with 1 Axes>"
            ]
          },
          "metadata": {
            "tags": [],
            "needs_background": "light"
          }
        }
      ]
    },
    {
      "cell_type": "code",
      "metadata": {
        "id": "Dqo7M8Ge4aiB",
        "colab_type": "code",
        "colab": {}
      },
      "source": [
        "# For cast future values \n",
        "validation_target = Y[-N//2:]\n",
        "validation_predictions = []\n",
        "\n",
        "# first validation input\n",
        "last_x = X[-N//2]\n",
        "\n",
        "while len(validation_predictions) < len(validation_target):\n",
        "  p = model.predict(last_x.reshape(1, -1))[0, 0] #return scalar\n",
        "\n",
        "  # update the prediction list\n",
        "  validation_predictions.append(p)\n",
        "\n",
        "  # make the new input \n",
        "  last_x = np.roll(last_x, -1) #shift the first value to the last\n",
        "  last_x[-1] = p # change the last value to the prediction"
      ],
      "execution_count": 0,
      "outputs": []
    },
    {
      "cell_type": "code",
      "metadata": {
        "id": "M0oBwxF85tWJ",
        "colab_type": "code",
        "colab": {
          "base_uri": "https://localhost:8080/",
          "height": 282
        },
        "outputId": "e5da5f00-adbf-4846-8286-323a7099de24"
      },
      "source": [
        "plt.plot(validation_target, label='forecast target')\n",
        "plt.plot(validation_predictions, label='forecast prediction')\n",
        "plt.legend()"
      ],
      "execution_count": 83,
      "outputs": [
        {
          "output_type": "execute_result",
          "data": {
            "text/plain": [
              "<matplotlib.legend.Legend at 0x7fd8476b1ef0>"
            ]
          },
          "metadata": {
            "tags": []
          },
          "execution_count": 83
        },
        {
          "output_type": "display_data",
          "data": {
            "image/png": "[encoded data removed]",
            "text/plain": [
              "<Figure size 432x288 with 1 Axes>"
            ]
          },
          "metadata": {
            "tags": [],
            "needs_background": "light"
          }
        }
      ]
    }
  ]
}
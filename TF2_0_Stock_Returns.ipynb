{
  "nbformat": 4,
  "nbformat_minor": 0,
  "metadata": {
    "colab": {
      "name": "TF2.0 Stock Returns.ipynb",
      "provenance": [],
      "collapsed_sections": [],
      "include_colab_link": true
    },
    "kernelspec": {
      "name": "python3",
      "display_name": "Python 3"
    },
    "accelerator": "GPU"
  },
  "cells": [
    {
      "cell_type": "markdown",
      "metadata": {
        "id": "view-in-github",
        "colab_type": "text"
      },
      "source": [
        "<a href=\"https://colab.research.google.com/github/Narachii/tensorflow_basics/blob/LSTM_models/TF2_0_Stock_Returns.ipynb\" target=\"_parent\"><img src=\"https://colab.research.google.com/assets/colab-badge.svg\" alt=\"Open In Colab\"/></a>"
      ]
    },
    {
      "cell_type": "code",
      "metadata": {
        "id": "JkljvqYBN0Fa",
        "colab_type": "code",
        "outputId": "102c631d-e46f-4bdf-d0fe-e3e31a7d8b91",
        "colab": {
          "base_uri": "https://localhost:8080/",
          "height": 119
        }
      },
      "source": [
        "# Install TensorFlow\n",
        "# !pip install -q tensorflow-gpu==2.0.0-beta1\n",
        "\n",
        "try:\n",
        "  %tensorflow_version 2.x  # Colab only.\n",
        "except Exception:\n",
        "  pass\n",
        "\n",
        "import tensorflow as tf\n",
        "print(tf.__version__)"
      ],
      "execution_count": 2,
      "outputs": [
        {
          "output_type": "stream",
          "text": [
            "`%tensorflow_version` only switches the major version: 1.x or 2.x.\n",
            "You set: `2.x  # Colab only.`. This will be interpreted as: `2.x`.\n",
            "\n",
            "\n",
            "TensorFlow 2.x selected.\n",
            "2.2.0-rc3\n"
          ],
          "name": "stdout"
        }
      ]
    },
    {
      "cell_type": "code",
      "metadata": {
        "id": "AJ1XDZAJNjNG",
        "colab_type": "code",
        "colab": {}
      },
      "source": [
        "# More imports\n",
        "from tensorflow.keras.layers import Input, LSTM, GRU, SimpleRNN, Dense, GlobalMaxPool1D\n",
        "from tensorflow.keras.models import Model\n",
        "from tensorflow.keras.optimizers import SGD, Adam\n",
        "\n",
        "import numpy as np\n",
        "import pandas as pd\n",
        "import matplotlib.pyplot as plt\n",
        "from sklearn.preprocessing import StandardScaler"
      ],
      "execution_count": 0,
      "outputs": []
    },
    {
      "cell_type": "code",
      "metadata": {
        "id": "DhvsuKhcNq7t",
        "colab_type": "code",
        "colab": {}
      },
      "source": [
        "# yes, you can read dataframes from URLs!\n",
        "df = pd.read_csv('https://raw.githubusercontent.com/lazyprogrammer/machine_learning_examples/master/tf2.0/sbux.csv')"
      ],
      "execution_count": 0,
      "outputs": []
    },
    {
      "cell_type": "code",
      "metadata": {
        "id": "vWSPFdncODH9",
        "colab_type": "code",
        "outputId": "cf61d61a-3b58-46c1-9e29-431abd32e8c4",
        "colab": {
          "base_uri": "https://localhost:8080/",
          "height": 204
        }
      },
      "source": [
        "df.head()"
      ],
      "execution_count": 5,
      "outputs": [
        {
          "output_type": "execute_result",
          "data": {
            "text/html": [
              "<div>\n",
              "<style scoped>\n",
              "    .dataframe tbody tr th:only-of-type {\n",
              "        vertical-align: middle;\n",
              "    }\n",
              "\n",
              "    .dataframe tbody tr th {\n",
              "        vertical-align: top;\n",
              "    }\n",
              "\n",
              "    .dataframe thead th {\n",
              "        text-align: right;\n",
              "    }\n",
              "</style>\n",
              "<table border=\"1\" class=\"dataframe\">\n",
              "  <thead>\n",
              "    <tr style=\"text-align: right;\">\n",
              "      <th></th>\n",
              "      <th>date</th>\n",
              "      <th>open</th>\n",
              "      <th>high</th>\n",
              "      <th>low</th>\n",
              "      <th>close</th>\n",
              "      <th>volume</th>\n",
              "      <th>Name</th>\n",
              "    </tr>\n",
              "  </thead>\n",
              "  <tbody>\n",
              "    <tr>\n",
              "      <th>0</th>\n",
              "      <td>2013-02-08</td>\n",
              "      <td>27.920</td>\n",
              "      <td>28.325</td>\n",
              "      <td>27.920</td>\n",
              "      <td>28.185</td>\n",
              "      <td>7146296</td>\n",
              "      <td>SBUX</td>\n",
              "    </tr>\n",
              "    <tr>\n",
              "      <th>1</th>\n",
              "      <td>2013-02-11</td>\n",
              "      <td>28.260</td>\n",
              "      <td>28.260</td>\n",
              "      <td>27.930</td>\n",
              "      <td>28.070</td>\n",
              "      <td>5457354</td>\n",
              "      <td>SBUX</td>\n",
              "    </tr>\n",
              "    <tr>\n",
              "      <th>2</th>\n",
              "      <td>2013-02-12</td>\n",
              "      <td>28.000</td>\n",
              "      <td>28.275</td>\n",
              "      <td>27.975</td>\n",
              "      <td>28.130</td>\n",
              "      <td>8665592</td>\n",
              "      <td>SBUX</td>\n",
              "    </tr>\n",
              "    <tr>\n",
              "      <th>3</th>\n",
              "      <td>2013-02-13</td>\n",
              "      <td>28.230</td>\n",
              "      <td>28.230</td>\n",
              "      <td>27.750</td>\n",
              "      <td>27.915</td>\n",
              "      <td>7022056</td>\n",
              "      <td>SBUX</td>\n",
              "    </tr>\n",
              "    <tr>\n",
              "      <th>4</th>\n",
              "      <td>2013-02-14</td>\n",
              "      <td>27.765</td>\n",
              "      <td>27.905</td>\n",
              "      <td>27.675</td>\n",
              "      <td>27.775</td>\n",
              "      <td>8899188</td>\n",
              "      <td>SBUX</td>\n",
              "    </tr>\n",
              "  </tbody>\n",
              "</table>\n",
              "</div>"
            ],
            "text/plain": [
              "         date    open    high     low   close   volume  Name\n",
              "0  2013-02-08  27.920  28.325  27.920  28.185  7146296  SBUX\n",
              "1  2013-02-11  28.260  28.260  27.930  28.070  5457354  SBUX\n",
              "2  2013-02-12  28.000  28.275  27.975  28.130  8665592  SBUX\n",
              "3  2013-02-13  28.230  28.230  27.750  27.915  7022056  SBUX\n",
              "4  2013-02-14  27.765  27.905  27.675  27.775  8899188  SBUX"
            ]
          },
          "metadata": {
            "tags": []
          },
          "execution_count": 5
        }
      ]
    },
    {
      "cell_type": "code",
      "metadata": {
        "id": "NLmweO2o-wgS",
        "colab_type": "code",
        "outputId": "4e4a16a9-7764-4b3d-f971-9516280a38d6",
        "colab": {
          "base_uri": "https://localhost:8080/",
          "height": 204
        }
      },
      "source": [
        "df.tail()"
      ],
      "execution_count": 6,
      "outputs": [
        {
          "output_type": "execute_result",
          "data": {
            "text/html": [
              "<div>\n",
              "<style scoped>\n",
              "    .dataframe tbody tr th:only-of-type {\n",
              "        vertical-align: middle;\n",
              "    }\n",
              "\n",
              "    .dataframe tbody tr th {\n",
              "        vertical-align: top;\n",
              "    }\n",
              "\n",
              "    .dataframe thead th {\n",
              "        text-align: right;\n",
              "    }\n",
              "</style>\n",
              "<table border=\"1\" class=\"dataframe\">\n",
              "  <thead>\n",
              "    <tr style=\"text-align: right;\">\n",
              "      <th></th>\n",
              "      <th>date</th>\n",
              "      <th>open</th>\n",
              "      <th>high</th>\n",
              "      <th>low</th>\n",
              "      <th>close</th>\n",
              "      <th>volume</th>\n",
              "      <th>Name</th>\n",
              "    </tr>\n",
              "  </thead>\n",
              "  <tbody>\n",
              "    <tr>\n",
              "      <th>1254</th>\n",
              "      <td>2018-02-01</td>\n",
              "      <td>56.280</td>\n",
              "      <td>56.42</td>\n",
              "      <td>55.89</td>\n",
              "      <td>56.00</td>\n",
              "      <td>14690146</td>\n",
              "      <td>SBUX</td>\n",
              "    </tr>\n",
              "    <tr>\n",
              "      <th>1255</th>\n",
              "      <td>2018-02-02</td>\n",
              "      <td>55.900</td>\n",
              "      <td>56.32</td>\n",
              "      <td>55.70</td>\n",
              "      <td>55.77</td>\n",
              "      <td>15358909</td>\n",
              "      <td>SBUX</td>\n",
              "    </tr>\n",
              "    <tr>\n",
              "      <th>1256</th>\n",
              "      <td>2018-02-05</td>\n",
              "      <td>55.530</td>\n",
              "      <td>56.26</td>\n",
              "      <td>54.57</td>\n",
              "      <td>54.69</td>\n",
              "      <td>16059955</td>\n",
              "      <td>SBUX</td>\n",
              "    </tr>\n",
              "    <tr>\n",
              "      <th>1257</th>\n",
              "      <td>2018-02-06</td>\n",
              "      <td>53.685</td>\n",
              "      <td>56.06</td>\n",
              "      <td>53.56</td>\n",
              "      <td>55.61</td>\n",
              "      <td>17415065</td>\n",
              "      <td>SBUX</td>\n",
              "    </tr>\n",
              "    <tr>\n",
              "      <th>1258</th>\n",
              "      <td>2018-02-07</td>\n",
              "      <td>55.080</td>\n",
              "      <td>55.43</td>\n",
              "      <td>54.44</td>\n",
              "      <td>54.46</td>\n",
              "      <td>13927022</td>\n",
              "      <td>SBUX</td>\n",
              "    </tr>\n",
              "  </tbody>\n",
              "</table>\n",
              "</div>"
            ],
            "text/plain": [
              "            date    open   high    low  close    volume  Name\n",
              "1254  2018-02-01  56.280  56.42  55.89  56.00  14690146  SBUX\n",
              "1255  2018-02-02  55.900  56.32  55.70  55.77  15358909  SBUX\n",
              "1256  2018-02-05  55.530  56.26  54.57  54.69  16059955  SBUX\n",
              "1257  2018-02-06  53.685  56.06  53.56  55.61  17415065  SBUX\n",
              "1258  2018-02-07  55.080  55.43  54.44  54.46  13927022  SBUX"
            ]
          },
          "metadata": {
            "tags": []
          },
          "execution_count": 6
        }
      ]
    },
    {
      "cell_type": "code",
      "metadata": {
        "id": "qczc-TUNO0th",
        "colab_type": "code",
        "colab": {}
      },
      "source": [
        "# Start by doing the WRONG thing - trying to predict the price itself\n",
        "series = df['close'].values.reshape(-1, 1)"
      ],
      "execution_count": 0,
      "outputs": []
    },
    {
      "cell_type": "code",
      "metadata": {
        "id": "X6lJwsOgPVaB",
        "colab_type": "code",
        "colab": {}
      },
      "source": [
        "# Normalize the data\n",
        "# Note: I didn't think about where the true boundary is, this is just approx.\n",
        "scaler = StandardScaler()\n",
        "scaler.fit(series[:len(series) // 2])\n",
        "series = scaler.transform(series).flatten()"
      ],
      "execution_count": 0,
      "outputs": []
    },
    {
      "cell_type": "code",
      "metadata": {
        "id": "3j6Jk2pkPTjE",
        "colab_type": "code",
        "outputId": "1f14c4aa-62af-49e1-8840-3b13515cfe23",
        "colab": {
          "base_uri": "https://localhost:8080/",
          "height": 34
        }
      },
      "source": [
        "### build the dataset\n",
        "# let's see if we can use T past values to predict the next value\n",
        "T = 10\n",
        "D = 1\n",
        "X = []\n",
        "Y = []\n",
        "for t in range(len(series) - T):\n",
        "  x = series[t:t+T]\n",
        "  X.append(x)\n",
        "  y = series[t+T]\n",
        "  Y.append(y)\n",
        "\n",
        "X = np.array(X).reshape(-1, T, 1) # Now the data should be N x T x D\n",
        "Y = np.array(Y)\n",
        "N = len(X)\n",
        "print(\"X.shape\", X.shape, \"Y.shape\", Y.shape)"
      ],
      "execution_count": 9,
      "outputs": [
        {
          "output_type": "stream",
          "text": [
            "X.shape (1249, 10, 1) Y.shape (1249,)\n"
          ],
          "name": "stdout"
        }
      ]
    },
    {
      "cell_type": "code",
      "metadata": {
        "id": "R5uMLXonPEnZ",
        "colab_type": "code",
        "outputId": "9581b7a7-c38a-4df4-e58b-3a167c6b891f",
        "colab": {
          "base_uri": "https://localhost:8080/",
          "height": 1000
        }
      },
      "source": [
        "### try autoregressive RNN model\n",
        "i = Input(shape=(T, 1))\n",
        "x = LSTM(5)(i)\n",
        "x = Dense(1)(x)\n",
        "model = Model(i, x)\n",
        "model.compile(\n",
        "  loss='mse',\n",
        "  optimizer=Adam(lr=0.1),\n",
        ")\n",
        "\n",
        "# train the RNN\n",
        "r = model.fit(\n",
        "  X[:-N//2], Y[:-N//2],\n",
        "  epochs=80,\n",
        "  validation_data=(X[-N//2:], Y[-N//2:]),\n",
        ")"
      ],
      "execution_count": 10,
      "outputs": [
        {
          "output_type": "stream",
          "text": [
            "Epoch 1/80\n",
            "20/20 [==============================] - 0s 22ms/step - loss: 0.1422 - val_loss: 0.1981\n",
            "Epoch 2/80\n",
            "20/20 [==============================] - 0s 6ms/step - loss: 0.0105 - val_loss: 0.0460\n",
            "Epoch 3/80\n",
            "20/20 [==============================] - 0s 6ms/step - loss: 0.0094 - val_loss: 0.0544\n",
            "Epoch 4/80\n",
            "20/20 [==============================] - 0s 6ms/step - loss: 0.0069 - val_loss: 0.0481\n",
            "Epoch 5/80\n",
            "20/20 [==============================] - 0s 5ms/step - loss: 0.0063 - val_loss: 0.0386\n",
            "Epoch 6/80\n",
            "20/20 [==============================] - 0s 6ms/step - loss: 0.0073 - val_loss: 0.0353\n",
            "Epoch 7/80\n",
            "20/20 [==============================] - 0s 5ms/step - loss: 0.0070 - val_loss: 0.0396\n",
            "Epoch 8/80\n",
            "20/20 [==============================] - 0s 6ms/step - loss: 0.0060 - val_loss: 0.0347\n",
            "Epoch 9/80\n",
            "20/20 [==============================] - 0s 5ms/step - loss: 0.0062 - val_loss: 0.0418\n",
            "Epoch 10/80\n",
            "20/20 [==============================] - 0s 6ms/step - loss: 0.0071 - val_loss: 0.0322\n",
            "Epoch 11/80\n",
            "20/20 [==============================] - 0s 5ms/step - loss: 0.0067 - val_loss: 0.0522\n",
            "Epoch 12/80\n",
            "20/20 [==============================] - 0s 6ms/step - loss: 0.0065 - val_loss: 0.0357\n",
            "Epoch 13/80\n",
            "20/20 [==============================] - 0s 6ms/step - loss: 0.0060 - val_loss: 0.0409\n",
            "Epoch 14/80\n",
            "20/20 [==============================] - 0s 5ms/step - loss: 0.0075 - val_loss: 0.0460\n",
            "Epoch 15/80\n",
            "20/20 [==============================] - 0s 6ms/step - loss: 0.0076 - val_loss: 0.0382\n",
            "Epoch 16/80\n",
            "20/20 [==============================] - 0s 5ms/step - loss: 0.0063 - val_loss: 0.0379\n",
            "Epoch 17/80\n",
            "20/20 [==============================] - 0s 6ms/step - loss: 0.0075 - val_loss: 0.0607\n",
            "Epoch 18/80\n",
            "20/20 [==============================] - 0s 6ms/step - loss: 0.0060 - val_loss: 0.0373\n",
            "Epoch 19/80\n",
            "20/20 [==============================] - 0s 5ms/step - loss: 0.0053 - val_loss: 0.0344\n",
            "Epoch 20/80\n",
            "20/20 [==============================] - 0s 5ms/step - loss: 0.0057 - val_loss: 0.0354\n",
            "Epoch 21/80\n",
            "20/20 [==============================] - 0s 6ms/step - loss: 0.0064 - val_loss: 0.0319\n",
            "Epoch 22/80\n",
            "20/20 [==============================] - 0s 6ms/step - loss: 0.0065 - val_loss: 0.0688\n",
            "Epoch 23/80\n",
            "20/20 [==============================] - 0s 6ms/step - loss: 0.0061 - val_loss: 0.0298\n",
            "Epoch 24/80\n",
            "20/20 [==============================] - 0s 6ms/step - loss: 0.0062 - val_loss: 0.0325\n",
            "Epoch 25/80\n",
            "20/20 [==============================] - 0s 6ms/step - loss: 0.0063 - val_loss: 0.0296\n",
            "Epoch 26/80\n",
            "20/20 [==============================] - 0s 5ms/step - loss: 0.0061 - val_loss: 0.0404\n",
            "Epoch 27/80\n",
            "20/20 [==============================] - 0s 6ms/step - loss: 0.0060 - val_loss: 0.0291\n",
            "Epoch 28/80\n",
            "20/20 [==============================] - 0s 6ms/step - loss: 0.0056 - val_loss: 0.0311\n",
            "Epoch 29/80\n",
            "20/20 [==============================] - 0s 5ms/step - loss: 0.0059 - val_loss: 0.0371\n",
            "Epoch 30/80\n",
            "20/20 [==============================] - 0s 5ms/step - loss: 0.0056 - val_loss: 0.0371\n",
            "Epoch 31/80\n",
            "20/20 [==============================] - 0s 6ms/step - loss: 0.0082 - val_loss: 0.0390\n",
            "Epoch 32/80\n",
            "20/20 [==============================] - 0s 6ms/step - loss: 0.0063 - val_loss: 0.0331\n",
            "Epoch 33/80\n",
            "20/20 [==============================] - 0s 6ms/step - loss: 0.0058 - val_loss: 0.0304\n",
            "Epoch 34/80\n",
            "20/20 [==============================] - 0s 6ms/step - loss: 0.0068 - val_loss: 0.0281\n",
            "Epoch 35/80\n",
            "20/20 [==============================] - 0s 6ms/step - loss: 0.0053 - val_loss: 0.0286\n",
            "Epoch 36/80\n",
            "20/20 [==============================] - 0s 6ms/step - loss: 0.0053 - val_loss: 0.0265\n",
            "Epoch 37/80\n",
            "20/20 [==============================] - 0s 5ms/step - loss: 0.0076 - val_loss: 0.0286\n",
            "Epoch 38/80\n",
            "20/20 [==============================] - 0s 5ms/step - loss: 0.0071 - val_loss: 0.0273\n",
            "Epoch 39/80\n",
            "20/20 [==============================] - 0s 6ms/step - loss: 0.0069 - val_loss: 0.0257\n",
            "Epoch 40/80\n",
            "20/20 [==============================] - 0s 6ms/step - loss: 0.0067 - val_loss: 0.0274\n",
            "Epoch 41/80\n",
            "20/20 [==============================] - 0s 5ms/step - loss: 0.0064 - val_loss: 0.0333\n",
            "Epoch 42/80\n",
            "20/20 [==============================] - 0s 6ms/step - loss: 0.0063 - val_loss: 0.0216\n",
            "Epoch 43/80\n",
            "20/20 [==============================] - 0s 6ms/step - loss: 0.0054 - val_loss: 0.0254\n",
            "Epoch 44/80\n",
            "20/20 [==============================] - 0s 6ms/step - loss: 0.0058 - val_loss: 0.0223\n",
            "Epoch 45/80\n",
            "20/20 [==============================] - 0s 6ms/step - loss: 0.0055 - val_loss: 0.0263\n",
            "Epoch 46/80\n",
            "20/20 [==============================] - 0s 6ms/step - loss: 0.0059 - val_loss: 0.0546\n",
            "Epoch 47/80\n",
            "20/20 [==============================] - 0s 6ms/step - loss: 0.0089 - val_loss: 0.0472\n",
            "Epoch 48/80\n",
            "20/20 [==============================] - 0s 6ms/step - loss: 0.0074 - val_loss: 0.0256\n",
            "Epoch 49/80\n",
            "20/20 [==============================] - 0s 6ms/step - loss: 0.0085 - val_loss: 0.0299\n",
            "Epoch 50/80\n",
            "20/20 [==============================] - 0s 6ms/step - loss: 0.0063 - val_loss: 0.0346\n",
            "Epoch 51/80\n",
            "20/20 [==============================] - 0s 6ms/step - loss: 0.0070 - val_loss: 0.0250\n",
            "Epoch 52/80\n",
            "20/20 [==============================] - 0s 6ms/step - loss: 0.0057 - val_loss: 0.0321\n",
            "Epoch 53/80\n",
            "20/20 [==============================] - 0s 6ms/step - loss: 0.0055 - val_loss: 0.0301\n",
            "Epoch 54/80\n",
            "20/20 [==============================] - 0s 6ms/step - loss: 0.0054 - val_loss: 0.0467\n",
            "Epoch 55/80\n",
            "20/20 [==============================] - 0s 6ms/step - loss: 0.0060 - val_loss: 0.0229\n",
            "Epoch 56/80\n",
            "20/20 [==============================] - 0s 6ms/step - loss: 0.0069 - val_loss: 0.0269\n",
            "Epoch 57/80\n",
            "20/20 [==============================] - 0s 6ms/step - loss: 0.0059 - val_loss: 0.0237\n",
            "Epoch 58/80\n",
            "20/20 [==============================] - 0s 6ms/step - loss: 0.0056 - val_loss: 0.0222\n",
            "Epoch 59/80\n",
            "20/20 [==============================] - 0s 6ms/step - loss: 0.0065 - val_loss: 0.0253\n",
            "Epoch 60/80\n",
            "20/20 [==============================] - 0s 6ms/step - loss: 0.0078 - val_loss: 0.0309\n",
            "Epoch 61/80\n",
            "20/20 [==============================] - 0s 6ms/step - loss: 0.0066 - val_loss: 0.0233\n",
            "Epoch 62/80\n",
            "20/20 [==============================] - 0s 6ms/step - loss: 0.0057 - val_loss: 0.0238\n",
            "Epoch 63/80\n",
            "20/20 [==============================] - 0s 6ms/step - loss: 0.0055 - val_loss: 0.0213\n",
            "Epoch 64/80\n",
            "20/20 [==============================] - 0s 6ms/step - loss: 0.0053 - val_loss: 0.0214\n",
            "Epoch 65/80\n",
            "20/20 [==============================] - 0s 6ms/step - loss: 0.0073 - val_loss: 0.0766\n",
            "Epoch 66/80\n",
            "20/20 [==============================] - 0s 5ms/step - loss: 0.0067 - val_loss: 0.0294\n",
            "Epoch 67/80\n",
            "20/20 [==============================] - 0s 5ms/step - loss: 0.0068 - val_loss: 0.0502\n",
            "Epoch 68/80\n",
            "20/20 [==============================] - 0s 6ms/step - loss: 0.0060 - val_loss: 0.0194\n",
            "Epoch 69/80\n",
            "20/20 [==============================] - 0s 6ms/step - loss: 0.0057 - val_loss: 0.0214\n",
            "Epoch 70/80\n",
            "20/20 [==============================] - 0s 6ms/step - loss: 0.0053 - val_loss: 0.0197\n",
            "Epoch 71/80\n",
            "20/20 [==============================] - 0s 6ms/step - loss: 0.0061 - val_loss: 0.0224\n",
            "Epoch 72/80\n",
            "20/20 [==============================] - 0s 6ms/step - loss: 0.0061 - val_loss: 0.0231\n",
            "Epoch 73/80\n",
            "20/20 [==============================] - 0s 6ms/step - loss: 0.0060 - val_loss: 0.0220\n",
            "Epoch 74/80\n",
            "20/20 [==============================] - 0s 6ms/step - loss: 0.0060 - val_loss: 0.0207\n",
            "Epoch 75/80\n",
            "20/20 [==============================] - 0s 6ms/step - loss: 0.0073 - val_loss: 0.0209\n",
            "Epoch 76/80\n",
            "20/20 [==============================] - 0s 6ms/step - loss: 0.0058 - val_loss: 0.0273\n",
            "Epoch 77/80\n",
            "20/20 [==============================] - 0s 6ms/step - loss: 0.0060 - val_loss: 0.0285\n",
            "Epoch 78/80\n",
            "20/20 [==============================] - 0s 5ms/step - loss: 0.0075 - val_loss: 0.0178\n",
            "Epoch 79/80\n",
            "20/20 [==============================] - 0s 6ms/step - loss: 0.0063 - val_loss: 0.0223\n",
            "Epoch 80/80\n",
            "20/20 [==============================] - 0s 6ms/step - loss: 0.0059 - val_loss: 0.0287\n"
          ],
          "name": "stdout"
        }
      ]
    },
    {
      "cell_type": "code",
      "metadata": {
        "id": "gNKGakDwP6I8",
        "colab_type": "code",
        "outputId": "19094baf-44e1-4fb4-fca0-8bbd92f0425c",
        "colab": {
          "base_uri": "https://localhost:8080/",
          "height": 282
        }
      },
      "source": [
        "# Plot loss per iteration\n",
        "import matplotlib.pyplot as plt\n",
        "plt.plot(r.history['loss'], label='loss')\n",
        "plt.plot(r.history['val_loss'], label='val_loss')\n",
        "plt.legend()"
      ],
      "execution_count": 11,
      "outputs": [
        {
          "output_type": "execute_result",
          "data": {
            "text/plain": [
              "<matplotlib.legend.Legend at 0x7ff5002139b0>"
            ]
          },
          "metadata": {
            "tags": []
          },
          "execution_count": 11
        },
        {
          "output_type": "display_data",
          "data": {
            "image/png": "[encoded data removed]",
            "text/plain": [
              "<Figure size 432x288 with 1 Axes>"
            ]
          },
          "metadata": {
            "tags": [],
            "needs_background": "light"
          }
        }
      ]
    },
    {
      "cell_type": "code",
      "metadata": {
        "id": "SnonG_CKP-W2",
        "colab_type": "code",
        "outputId": "2ef8aaa2-bc73-41e8-ca36-0279802e3b46",
        "colab": {
          "base_uri": "https://localhost:8080/",
          "height": 282
        }
      },
      "source": [
        "# One-step forecast using true targets\n",
        "outputs = model.predict(X)\n",
        "print(outputs.shape)\n",
        "predictions = outputs[:,0]\n",
        "\n",
        "plt.plot(Y, label='targets')\n",
        "plt.plot(predictions, label='predictions')\n",
        "plt.legend()\n",
        "plt.show()"
      ],
      "execution_count": 12,
      "outputs": [
        {
          "output_type": "stream",
          "text": [
            "(1249, 1)\n"
          ],
          "name": "stdout"
        },
        {
          "output_type": "display_data",
          "data": {
            "image/png": "[encoded data removed]",
            "text/plain": [
              "<Figure size 432x288 with 1 Axes>"
            ]
          },
          "metadata": {
            "tags": [],
            "needs_background": "light"
          }
        }
      ]
    },
    {
      "cell_type": "code",
      "metadata": {
        "id": "_lQrWPlHQJw_",
        "colab_type": "code",
        "outputId": "b10557ef-8102-44a4-d649-2cb28d3fb3d6",
        "colab": {
          "base_uri": "https://localhost:8080/",
          "height": 282
        }
      },
      "source": [
        "# Multi-step forecast\n",
        "validation_target = Y[-N//2:]\n",
        "validation_predictions = []\n",
        "\n",
        "# first validation input\n",
        "last_x = X[-N//2] # 1-D array of length T\n",
        "\n",
        "while len(validation_predictions) < len(validation_target):\n",
        "  p = model.predict(last_x.reshape(1, T, 1))[0,0] # 1x1 array -> scalar\n",
        "  \n",
        "  # update the predictions list\n",
        "  validation_predictions.append(p)\n",
        "  \n",
        "  # make the new input\n",
        "  last_x = np.roll(last_x, -1)\n",
        "  last_x[-1] = p\n",
        "\n",
        "plt.plot(validation_target, label='forecast target')\n",
        "plt.plot(validation_predictions, label='forecast prediction')\n",
        "plt.legend()"
      ],
      "execution_count": 13,
      "outputs": [
        {
          "output_type": "execute_result",
          "data": {
            "text/plain": [
              "<matplotlib.legend.Legend at 0x7ff5000ea128>"
            ]
          },
          "metadata": {
            "tags": []
          },
          "execution_count": 13
        },
        {
          "output_type": "display_data",
          "data": {
            "image/png": "[encoded data removed]",
            "text/plain": [
              "<Figure size 432x288 with 1 Axes>"
            ]
          },
          "metadata": {
            "tags": [],
            "needs_background": "light"
          }
        }
      ]
    },
    {
      "cell_type": "code",
      "metadata": {
        "id": "HyqtntC7OGu0",
        "colab_type": "code",
        "colab": {}
      },
      "source": [
        "# calculate returns by first shifting the data\n",
        "df['PrevClose'] = df['close'].shift(1) # move everything up 1\n",
        "\n",
        "# so now it's like\n",
        "# close / prev close\n",
        "# x[2] x[1]\n",
        "# x[3] x[2]\n",
        "# x[4] x[3]\n",
        "# ...\n",
        "# x[t] x[t-1]"
      ],
      "execution_count": 0,
      "outputs": []
    },
    {
      "cell_type": "code",
      "metadata": {
        "id": "K4HG4nDUOPHK",
        "colab_type": "code",
        "outputId": "6f5c49b6-f4f4-48cb-b865-7d7ee6c26b2f",
        "colab": {
          "base_uri": "https://localhost:8080/",
          "height": 204
        }
      },
      "source": [
        "df.head()"
      ],
      "execution_count": 15,
      "outputs": [
        {
          "output_type": "execute_result",
          "data": {
            "text/html": [
              "<div>\n",
              "<style scoped>\n",
              "    .dataframe tbody tr th:only-of-type {\n",
              "        vertical-align: middle;\n",
              "    }\n",
              "\n",
              "    .dataframe tbody tr th {\n",
              "        vertical-align: top;\n",
              "    }\n",
              "\n",
              "    .dataframe thead th {\n",
              "        text-align: right;\n",
              "    }\n",
              "</style>\n",
              "<table border=\"1\" class=\"dataframe\">\n",
              "  <thead>\n",
              "    <tr style=\"text-align: right;\">\n",
              "      <th></th>\n",
              "      <th>date</th>\n",
              "      <th>open</th>\n",
              "      <th>high</th>\n",
              "      <th>low</th>\n",
              "      <th>close</th>\n",
              "      <th>volume</th>\n",
              "      <th>Name</th>\n",
              "      <th>PrevClose</th>\n",
              "    </tr>\n",
              "  </thead>\n",
              "  <tbody>\n",
              "    <tr>\n",
              "      <th>0</th>\n",
              "      <td>2013-02-08</td>\n",
              "      <td>27.920</td>\n",
              "      <td>28.325</td>\n",
              "      <td>27.920</td>\n",
              "      <td>28.185</td>\n",
              "      <td>7146296</td>\n",
              "      <td>SBUX</td>\n",
              "      <td>NaN</td>\n",
              "    </tr>\n",
              "    <tr>\n",
              "      <th>1</th>\n",
              "      <td>2013-02-11</td>\n",
              "      <td>28.260</td>\n",
              "      <td>28.260</td>\n",
              "      <td>27.930</td>\n",
              "      <td>28.070</td>\n",
              "      <td>5457354</td>\n",
              "      <td>SBUX</td>\n",
              "      <td>28.185</td>\n",
              "    </tr>\n",
              "    <tr>\n",
              "      <th>2</th>\n",
              "      <td>2013-02-12</td>\n",
              "      <td>28.000</td>\n",
              "      <td>28.275</td>\n",
              "      <td>27.975</td>\n",
              "      <td>28.130</td>\n",
              "      <td>8665592</td>\n",
              "      <td>SBUX</td>\n",
              "      <td>28.070</td>\n",
              "    </tr>\n",
              "    <tr>\n",
              "      <th>3</th>\n",
              "      <td>2013-02-13</td>\n",
              "      <td>28.230</td>\n",
              "      <td>28.230</td>\n",
              "      <td>27.750</td>\n",
              "      <td>27.915</td>\n",
              "      <td>7022056</td>\n",
              "      <td>SBUX</td>\n",
              "      <td>28.130</td>\n",
              "    </tr>\n",
              "    <tr>\n",
              "      <th>4</th>\n",
              "      <td>2013-02-14</td>\n",
              "      <td>27.765</td>\n",
              "      <td>27.905</td>\n",
              "      <td>27.675</td>\n",
              "      <td>27.775</td>\n",
              "      <td>8899188</td>\n",
              "      <td>SBUX</td>\n",
              "      <td>27.915</td>\n",
              "    </tr>\n",
              "  </tbody>\n",
              "</table>\n",
              "</div>"
            ],
            "text/plain": [
              "         date    open    high     low   close   volume  Name  PrevClose\n",
              "0  2013-02-08  27.920  28.325  27.920  28.185  7146296  SBUX        NaN\n",
              "1  2013-02-11  28.260  28.260  27.930  28.070  5457354  SBUX     28.185\n",
              "2  2013-02-12  28.000  28.275  27.975  28.130  8665592  SBUX     28.070\n",
              "3  2013-02-13  28.230  28.230  27.750  27.915  7022056  SBUX     28.130\n",
              "4  2013-02-14  27.765  27.905  27.675  27.775  8899188  SBUX     27.915"
            ]
          },
          "metadata": {
            "tags": []
          },
          "execution_count": 15
        }
      ]
    },
    {
      "cell_type": "code",
      "metadata": {
        "id": "8NozObuNORn4",
        "colab_type": "code",
        "colab": {}
      },
      "source": [
        "# then the return is\n",
        "# (x[t] - x[t-1]) / x[t-1]\n",
        "df['Return'] = (df['close'] - df['PrevClose']) / df['PrevClose']"
      ],
      "execution_count": 0,
      "outputs": []
    },
    {
      "cell_type": "code",
      "metadata": {
        "id": "1o0ynO0aOVWu",
        "colab_type": "code",
        "outputId": "da9cf954-fd67-4540-fcc8-58b1c27d082f",
        "colab": {
          "base_uri": "https://localhost:8080/",
          "height": 204
        }
      },
      "source": [
        "df.head()"
      ],
      "execution_count": 17,
      "outputs": [
        {
          "output_type": "execute_result",
          "data": {
            "text/html": [
              "<div>\n",
              "<style scoped>\n",
              "    .dataframe tbody tr th:only-of-type {\n",
              "        vertical-align: middle;\n",
              "    }\n",
              "\n",
              "    .dataframe tbody tr th {\n",
              "        vertical-align: top;\n",
              "    }\n",
              "\n",
              "    .dataframe thead th {\n",
              "        text-align: right;\n",
              "    }\n",
              "</style>\n",
              "<table border=\"1\" class=\"dataframe\">\n",
              "  <thead>\n",
              "    <tr style=\"text-align: right;\">\n",
              "      <th></th>\n",
              "      <th>date</th>\n",
              "      <th>open</th>\n",
              "      <th>high</th>\n",
              "      <th>low</th>\n",
              "      <th>close</th>\n",
              "      <th>volume</th>\n",
              "      <th>Name</th>\n",
              "      <th>PrevClose</th>\n",
              "      <th>Return</th>\n",
              "    </tr>\n",
              "  </thead>\n",
              "  <tbody>\n",
              "    <tr>\n",
              "      <th>0</th>\n",
              "      <td>2013-02-08</td>\n",
              "      <td>27.920</td>\n",
              "      <td>28.325</td>\n",
              "      <td>27.920</td>\n",
              "      <td>28.185</td>\n",
              "      <td>7146296</td>\n",
              "      <td>SBUX</td>\n",
              "      <td>NaN</td>\n",
              "      <td>NaN</td>\n",
              "    </tr>\n",
              "    <tr>\n",
              "      <th>1</th>\n",
              "      <td>2013-02-11</td>\n",
              "      <td>28.260</td>\n",
              "      <td>28.260</td>\n",
              "      <td>27.930</td>\n",
              "      <td>28.070</td>\n",
              "      <td>5457354</td>\n",
              "      <td>SBUX</td>\n",
              "      <td>28.185</td>\n",
              "      <td>-0.004080</td>\n",
              "    </tr>\n",
              "    <tr>\n",
              "      <th>2</th>\n",
              "      <td>2013-02-12</td>\n",
              "      <td>28.000</td>\n",
              "      <td>28.275</td>\n",
              "      <td>27.975</td>\n",
              "      <td>28.130</td>\n",
              "      <td>8665592</td>\n",
              "      <td>SBUX</td>\n",
              "      <td>28.070</td>\n",
              "      <td>0.002138</td>\n",
              "    </tr>\n",
              "    <tr>\n",
              "      <th>3</th>\n",
              "      <td>2013-02-13</td>\n",
              "      <td>28.230</td>\n",
              "      <td>28.230</td>\n",
              "      <td>27.750</td>\n",
              "      <td>27.915</td>\n",
              "      <td>7022056</td>\n",
              "      <td>SBUX</td>\n",
              "      <td>28.130</td>\n",
              "      <td>-0.007643</td>\n",
              "    </tr>\n",
              "    <tr>\n",
              "      <th>4</th>\n",
              "      <td>2013-02-14</td>\n",
              "      <td>27.765</td>\n",
              "      <td>27.905</td>\n",
              "      <td>27.675</td>\n",
              "      <td>27.775</td>\n",
              "      <td>8899188</td>\n",
              "      <td>SBUX</td>\n",
              "      <td>27.915</td>\n",
              "      <td>-0.005015</td>\n",
              "    </tr>\n",
              "  </tbody>\n",
              "</table>\n",
              "</div>"
            ],
            "text/plain": [
              "         date    open    high     low  ...   volume  Name PrevClose    Return\n",
              "0  2013-02-08  27.920  28.325  27.920  ...  7146296  SBUX       NaN       NaN\n",
              "1  2013-02-11  28.260  28.260  27.930  ...  5457354  SBUX    28.185 -0.004080\n",
              "2  2013-02-12  28.000  28.275  27.975  ...  8665592  SBUX    28.070  0.002138\n",
              "3  2013-02-13  28.230  28.230  27.750  ...  7022056  SBUX    28.130 -0.007643\n",
              "4  2013-02-14  27.765  27.905  27.675  ...  8899188  SBUX    27.915 -0.005015\n",
              "\n",
              "[5 rows x 9 columns]"
            ]
          },
          "metadata": {
            "tags": []
          },
          "execution_count": 17
        }
      ]
    },
    {
      "cell_type": "code",
      "metadata": {
        "id": "2caEww0GXddl",
        "colab_type": "code",
        "outputId": "57a1466d-25b8-4982-c195-c94fe8bd840f",
        "colab": {
          "base_uri": "https://localhost:8080/",
          "height": 282
        }
      },
      "source": [
        "# Now let's try an LSTM to predict returns\n",
        "df['Return'].hist()"
      ],
      "execution_count": 18,
      "outputs": [
        {
          "output_type": "execute_result",
          "data": {
            "text/plain": [
              "<matplotlib.axes._subplots.AxesSubplot at 0x7ff51a02a978>"
            ]
          },
          "metadata": {
            "tags": []
          },
          "execution_count": 18
        },
        {
          "output_type": "display_data",
          "data": {
            "image/png": "[encoded data removed]",
            "text/plain": [
              "<Figure size 432x288 with 1 Axes>"
            ]
          },
          "metadata": {
            "tags": [],
            "needs_background": "light"
          }
        }
      ]
    },
    {
      "cell_type": "code",
      "metadata": {
        "id": "t0xUTZvFXoHc",
        "colab_type": "code",
        "colab": {}
      },
      "source": [
        "series = df['Return'].values[1:].reshape(-1, 1)\n",
        "\n",
        "# Normalize the data\n",
        "# Note: I didn't think about where the true boundary is, this is just approx.\n",
        "scaler = StandardScaler()\n",
        "scaler.fit(series[:len(series) // 2])\n",
        "series = scaler.transform(series).flatten()"
      ],
      "execution_count": 0,
      "outputs": []
    },
    {
      "cell_type": "code",
      "metadata": {
        "id": "PLNwOWOWX1m9",
        "colab_type": "code",
        "outputId": "041bc93c-e9af-44b1-e71f-832ad4ffcd8e",
        "colab": {
          "base_uri": "https://localhost:8080/",
          "height": 34
        }
      },
      "source": [
        "### build the dataset\n",
        "# let's see if we can use T past values to predict the next value\n",
        "T = 10\n",
        "D = 1\n",
        "X = []\n",
        "Y = []\n",
        "for t in range(len(series) - T):\n",
        "  x = series[t:t+T]\n",
        "  X.append(x)\n",
        "  y = series[t+T]\n",
        "  Y.append(y)\n",
        "\n",
        "X = np.array(X).reshape(-1, T, 1) # Now the data should be N x T x D\n",
        "Y = np.array(Y)\n",
        "N = len(X)\n",
        "print(\"X.shape\", X.shape, \"Y.shape\", Y.shape)"
      ],
      "execution_count": 20,
      "outputs": [
        {
          "output_type": "stream",
          "text": [
            "X.shape (1248, 10, 1) Y.shape (1248,)\n"
          ],
          "name": "stdout"
        }
      ]
    },
    {
      "cell_type": "code",
      "metadata": {
        "id": "F_fhQMaOYAxR",
        "colab_type": "code",
        "outputId": "47447db4-c504-4948-fdee-659aa08b0dcf",
        "colab": {
          "base_uri": "https://localhost:8080/",
          "height": 1000
        }
      },
      "source": [
        "### try autoregressive RNN model\n",
        "i = Input(shape=(T, 1))\n",
        "x = LSTM(5)(i)\n",
        "x = Dense(1)(x)\n",
        "model = Model(i, x)\n",
        "model.compile(\n",
        "  loss='mse',\n",
        "  optimizer=Adam(lr=0.01),\n",
        ")\n",
        "\n",
        "# train the RNN\n",
        "r = model.fit(\n",
        "  X[:-N//2], Y[:-N//2],\n",
        "  epochs=80,\n",
        "  validation_data=(X[-N//2:], Y[-N//2:]),\n",
        ")"
      ],
      "execution_count": 21,
      "outputs": [
        {
          "output_type": "stream",
          "text": [
            "Epoch 1/80\n",
            "20/20 [==============================] - 0s 20ms/step - loss: 0.9944 - val_loss: 1.1587\n",
            "Epoch 2/80\n",
            "20/20 [==============================] - 0s 6ms/step - loss: 0.9792 - val_loss: 1.1611\n",
            "Epoch 3/80\n",
            "20/20 [==============================] - 0s 6ms/step - loss: 0.9771 - val_loss: 1.1653\n",
            "Epoch 4/80\n",
            "20/20 [==============================] - 0s 6ms/step - loss: 0.9747 - val_loss: 1.1702\n",
            "Epoch 5/80\n",
            "20/20 [==============================] - 0s 6ms/step - loss: 1.0268 - val_loss: 1.1667\n",
            "Epoch 6/80\n",
            "20/20 [==============================] - 0s 6ms/step - loss: 0.9927 - val_loss: 1.1694\n",
            "Epoch 7/80\n",
            "20/20 [==============================] - 0s 6ms/step - loss: 0.9984 - val_loss: 1.1589\n",
            "Epoch 8/80\n",
            "20/20 [==============================] - 0s 6ms/step - loss: 0.9784 - val_loss: 1.1748\n",
            "Epoch 9/80\n",
            "20/20 [==============================] - 0s 6ms/step - loss: 0.9781 - val_loss: 1.1655\n",
            "Epoch 10/80\n",
            "20/20 [==============================] - 0s 6ms/step - loss: 0.9813 - val_loss: 1.1628\n",
            "Epoch 11/80\n",
            "20/20 [==============================] - 0s 6ms/step - loss: 0.9594 - val_loss: 1.1665\n",
            "Epoch 12/80\n",
            "20/20 [==============================] - 0s 6ms/step - loss: 0.9683 - val_loss: 1.1729\n",
            "Epoch 13/80\n",
            "20/20 [==============================] - 0s 6ms/step - loss: 0.9790 - val_loss: 1.1729\n",
            "Epoch 14/80\n",
            "20/20 [==============================] - 0s 6ms/step - loss: 0.9902 - val_loss: 1.1776\n",
            "Epoch 15/80\n",
            "20/20 [==============================] - 0s 6ms/step - loss: 0.9678 - val_loss: 1.1643\n",
            "Epoch 16/80\n",
            "20/20 [==============================] - 0s 5ms/step - loss: 0.9591 - val_loss: 1.1747\n",
            "Epoch 17/80\n",
            "20/20 [==============================] - 0s 6ms/step - loss: 0.9624 - val_loss: 1.1784\n",
            "Epoch 18/80\n",
            "20/20 [==============================] - 0s 6ms/step - loss: 0.9756 - val_loss: 1.1767\n",
            "Epoch 19/80\n",
            "20/20 [==============================] - 0s 6ms/step - loss: 0.9616 - val_loss: 1.1715\n",
            "Epoch 20/80\n",
            "20/20 [==============================] - 0s 6ms/step - loss: 0.9717 - val_loss: 1.1988\n",
            "Epoch 21/80\n",
            "20/20 [==============================] - 0s 6ms/step - loss: 0.9530 - val_loss: 1.1787\n",
            "Epoch 22/80\n",
            "20/20 [==============================] - 0s 6ms/step - loss: 0.9517 - val_loss: 1.1955\n",
            "Epoch 23/80\n",
            "20/20 [==============================] - 0s 6ms/step - loss: 0.9490 - val_loss: 1.2001\n",
            "Epoch 24/80\n",
            "20/20 [==============================] - 0s 6ms/step - loss: 0.9639 - val_loss: 1.2238\n",
            "Epoch 25/80\n",
            "20/20 [==============================] - 0s 5ms/step - loss: 0.9467 - val_loss: 1.2267\n",
            "Epoch 26/80\n",
            "20/20 [==============================] - 0s 6ms/step - loss: 0.9435 - val_loss: 1.2132\n",
            "Epoch 27/80\n",
            "20/20 [==============================] - 0s 6ms/step - loss: 0.9392 - val_loss: 1.2234\n",
            "Epoch 28/80\n",
            "20/20 [==============================] - 0s 6ms/step - loss: 0.9417 - val_loss: 1.2471\n",
            "Epoch 29/80\n",
            "20/20 [==============================] - 0s 6ms/step - loss: 0.9354 - val_loss: 1.2425\n",
            "Epoch 30/80\n",
            "20/20 [==============================] - 0s 6ms/step - loss: 0.9290 - val_loss: 1.2525\n",
            "Epoch 31/80\n",
            "20/20 [==============================] - 0s 6ms/step - loss: 0.9238 - val_loss: 1.2513\n",
            "Epoch 32/80\n",
            "20/20 [==============================] - 0s 5ms/step - loss: 0.9350 - val_loss: 1.2747\n",
            "Epoch 33/80\n",
            "20/20 [==============================] - 0s 6ms/step - loss: 0.9279 - val_loss: 1.2759\n",
            "Epoch 34/80\n",
            "20/20 [==============================] - 0s 6ms/step - loss: 0.9287 - val_loss: 1.2762\n",
            "Epoch 35/80\n",
            "20/20 [==============================] - 0s 6ms/step - loss: 0.9454 - val_loss: 1.2921\n",
            "Epoch 36/80\n",
            "20/20 [==============================] - 0s 6ms/step - loss: 0.9358 - val_loss: 1.2590\n",
            "Epoch 37/80\n",
            "20/20 [==============================] - 0s 6ms/step - loss: 0.9275 - val_loss: 1.2995\n",
            "Epoch 38/80\n",
            "20/20 [==============================] - 0s 6ms/step - loss: 0.9174 - val_loss: 1.2851\n",
            "Epoch 39/80\n",
            "20/20 [==============================] - 0s 6ms/step - loss: 0.9264 - val_loss: 1.2907\n",
            "Epoch 40/80\n",
            "20/20 [==============================] - 0s 5ms/step - loss: 0.9241 - val_loss: 1.2835\n",
            "Epoch 41/80\n",
            "20/20 [==============================] - 0s 5ms/step - loss: 0.9110 - val_loss: 1.2908\n",
            "Epoch 42/80\n",
            "20/20 [==============================] - 0s 5ms/step - loss: 0.9223 - val_loss: 1.3123\n",
            "Epoch 43/80\n",
            "20/20 [==============================] - 0s 6ms/step - loss: 0.9295 - val_loss: 1.2702\n",
            "Epoch 44/80\n",
            "20/20 [==============================] - 0s 5ms/step - loss: 0.9159 - val_loss: 1.3353\n",
            "Epoch 45/80\n",
            "20/20 [==============================] - 0s 5ms/step - loss: 0.9632 - val_loss: 1.3174\n",
            "Epoch 46/80\n",
            "20/20 [==============================] - 0s 6ms/step - loss: 0.9217 - val_loss: 1.3024\n",
            "Epoch 47/80\n",
            "20/20 [==============================] - 0s 6ms/step - loss: 0.9035 - val_loss: 1.3480\n",
            "Epoch 48/80\n",
            "20/20 [==============================] - 0s 6ms/step - loss: 0.9045 - val_loss: 1.3121\n",
            "Epoch 49/80\n",
            "20/20 [==============================] - 0s 6ms/step - loss: 0.9146 - val_loss: 1.3061\n",
            "Epoch 50/80\n",
            "20/20 [==============================] - 0s 6ms/step - loss: 0.9063 - val_loss: 1.3329\n",
            "Epoch 51/80\n",
            "20/20 [==============================] - 0s 6ms/step - loss: 0.8991 - val_loss: 1.3550\n",
            "Epoch 52/80\n",
            "20/20 [==============================] - 0s 6ms/step - loss: 0.8842 - val_loss: 1.3531\n",
            "Epoch 53/80\n",
            "20/20 [==============================] - 0s 6ms/step - loss: 0.8959 - val_loss: 1.3419\n",
            "Epoch 54/80\n",
            "20/20 [==============================] - 0s 6ms/step - loss: 0.8961 - val_loss: 1.3591\n",
            "Epoch 55/80\n",
            "20/20 [==============================] - 0s 6ms/step - loss: 0.9137 - val_loss: 1.3713\n",
            "Epoch 56/80\n",
            "20/20 [==============================] - 0s 6ms/step - loss: 0.8906 - val_loss: 1.3543\n",
            "Epoch 57/80\n",
            "20/20 [==============================] - 0s 6ms/step - loss: 0.9627 - val_loss: 1.3494\n",
            "Epoch 58/80\n",
            "20/20 [==============================] - 0s 6ms/step - loss: 0.8843 - val_loss: 1.3558\n",
            "Epoch 59/80\n",
            "20/20 [==============================] - 0s 6ms/step - loss: 0.9329 - val_loss: 1.3540\n",
            "Epoch 60/80\n",
            "20/20 [==============================] - 0s 6ms/step - loss: 0.8922 - val_loss: 1.4007\n",
            "Epoch 61/80\n",
            "20/20 [==============================] - 0s 6ms/step - loss: 0.8800 - val_loss: 1.3379\n",
            "Epoch 62/80\n",
            "20/20 [==============================] - 0s 6ms/step - loss: 0.9060 - val_loss: 1.4125\n",
            "Epoch 63/80\n",
            "20/20 [==============================] - 0s 6ms/step - loss: 0.8821 - val_loss: 1.3492\n",
            "Epoch 64/80\n",
            "20/20 [==============================] - 0s 6ms/step - loss: 0.8904 - val_loss: 1.3755\n",
            "Epoch 65/80\n",
            "20/20 [==============================] - 0s 6ms/step - loss: 0.9037 - val_loss: 1.4285\n",
            "Epoch 66/80\n",
            "20/20 [==============================] - 0s 5ms/step - loss: 0.9176 - val_loss: 1.3528\n",
            "Epoch 67/80\n",
            "20/20 [==============================] - 0s 6ms/step - loss: 0.8724 - val_loss: 1.4038\n",
            "Epoch 68/80\n",
            "20/20 [==============================] - 0s 6ms/step - loss: 0.8865 - val_loss: 1.3603\n",
            "Epoch 69/80\n",
            "20/20 [==============================] - 0s 5ms/step - loss: 0.8783 - val_loss: 1.4069\n",
            "Epoch 70/80\n",
            "20/20 [==============================] - 0s 5ms/step - loss: 0.8867 - val_loss: 1.4082\n",
            "Epoch 71/80\n",
            "20/20 [==============================] - 0s 6ms/step - loss: 0.8644 - val_loss: 1.4009\n",
            "Epoch 72/80\n",
            "20/20 [==============================] - 0s 6ms/step - loss: 0.8609 - val_loss: 1.4235\n",
            "Epoch 73/80\n",
            "20/20 [==============================] - 0s 6ms/step - loss: 0.8668 - val_loss: 1.4160\n",
            "Epoch 74/80\n",
            "20/20 [==============================] - 0s 6ms/step - loss: 0.8721 - val_loss: 1.4141\n",
            "Epoch 75/80\n",
            "20/20 [==============================] - 0s 6ms/step - loss: 0.8558 - val_loss: 1.4245\n",
            "Epoch 76/80\n",
            "20/20 [==============================] - 0s 6ms/step - loss: 0.8765 - val_loss: 1.4286\n",
            "Epoch 77/80\n",
            "20/20 [==============================] - 0s 5ms/step - loss: 0.8667 - val_loss: 1.4577\n",
            "Epoch 78/80\n",
            "20/20 [==============================] - 0s 6ms/step - loss: 0.8657 - val_loss: 1.3770\n",
            "Epoch 79/80\n",
            "20/20 [==============================] - 0s 7ms/step - loss: 0.8614 - val_loss: 1.4519\n",
            "Epoch 80/80\n",
            "20/20 [==============================] - 0s 6ms/step - loss: 0.8620 - val_loss: 1.4226\n"
          ],
          "name": "stdout"
        }
      ]
    },
    {
      "cell_type": "code",
      "metadata": {
        "id": "-RulDED_YFAQ",
        "colab_type": "code",
        "outputId": "b3fd8f97-f0b6-4070-d68b-47346d59140a",
        "colab": {
          "base_uri": "https://localhost:8080/",
          "height": 282
        }
      },
      "source": [
        "# Plot loss per iteration\n",
        "import matplotlib.pyplot as plt\n",
        "plt.plot(r.history['loss'], label='loss')\n",
        "plt.plot(r.history['val_loss'], label='val_loss')\n",
        "plt.legend()"
      ],
      "execution_count": 22,
      "outputs": [
        {
          "output_type": "execute_result",
          "data": {
            "text/plain": [
              "<matplotlib.legend.Legend at 0x7ff50061a6d8>"
            ]
          },
          "metadata": {
            "tags": []
          },
          "execution_count": 22
        },
        {
          "output_type": "display_data",
          "data": {
            "image/png": "[encoded data removed]",
            "text/plain": [
              "<Figure size 432x288 with 1 Axes>"
            ]
          },
          "metadata": {
            "tags": [],
            "needs_background": "light"
          }
        }
      ]
    },
    {
      "cell_type": "code",
      "metadata": {
        "id": "euWSVgj2YFXA",
        "colab_type": "code",
        "outputId": "c2ca227a-6c4b-47e2-b500-03d9dd959266",
        "colab": {
          "base_uri": "https://localhost:8080/",
          "height": 282
        }
      },
      "source": [
        "# One-step forecast using true targets\n",
        "outputs = model.predict(X)\n",
        "print(outputs.shape)\n",
        "predictions = outputs[:,0]\n",
        "\n",
        "plt.plot(Y, label='targets')\n",
        "plt.plot(predictions, label='predictions')\n",
        "plt.legend()\n",
        "plt.show()"
      ],
      "execution_count": 23,
      "outputs": [
        {
          "output_type": "stream",
          "text": [
            "(1248, 1)\n"
          ],
          "name": "stdout"
        },
        {
          "output_type": "display_data",
          "data": {
            "image/png": "[encoded data removed]",
            "text/plain": [
              "<Figure size 432x288 with 1 Axes>"
            ]
          },
          "metadata": {
            "tags": [],
            "needs_background": "light"
          }
        }
      ]
    },
    {
      "cell_type": "code",
      "metadata": {
        "id": "Vqu6ScQrYIWV",
        "colab_type": "code",
        "outputId": "aabdee96-8001-44c9-f439-62d307a2f55e",
        "colab": {
          "base_uri": "https://localhost:8080/",
          "height": 282
        }
      },
      "source": [
        "# Multi-step forecast\n",
        "validation_target = Y[-N//2:]\n",
        "validation_predictions = []\n",
        "\n",
        "# first validation input\n",
        "last_x = X[-N//2] # 1-D array of length T\n",
        "\n",
        "while len(validation_predictions) < len(validation_target):\n",
        "  p = model.predict(last_x.reshape(1, T, 1))[0,0] # 1x1 array -> scalar\n",
        "  \n",
        "  # update the predictions list\n",
        "  validation_predictions.append(p)\n",
        "  \n",
        "  # make the new input\n",
        "  last_x = np.roll(last_x, -1)\n",
        "  last_x[-1] = p\n",
        "\n",
        "plt.plot(validation_target, label='forecast target')\n",
        "plt.plot(validation_predictions, label='forecast prediction')\n",
        "plt.legend()"
      ],
      "execution_count": 24,
      "outputs": [
        {
          "output_type": "execute_result",
          "data": {
            "text/plain": [
              "<matplotlib.legend.Legend at 0x7ff5044aceb8>"
            ]
          },
          "metadata": {
            "tags": []
          },
          "execution_count": 24
        },
        {
          "output_type": "display_data",
          "data": {
            "image/png": "[encoded data removed]",
            "text/plain": [
              "<Figure size 432x288 with 1 Axes>"
            ]
          },
          "metadata": {
            "tags": [],
            "needs_background": "light"
          }
        }
      ]
    },
    {
      "cell_type": "code",
      "metadata": {
        "id": "VwgGvQsDOZ5T",
        "colab_type": "code",
        "colab": {}
      },
      "source": [
        "# Now turn the full data into numpy arrays\n",
        "\n",
        "# Not yet in the final \"X\" format!\n",
        "input_data = df[['open', 'high', 'low', 'close', 'volume']].values\n",
        "targets = df['Return'].values"
      ],
      "execution_count": 0,
      "outputs": []
    },
    {
      "cell_type": "code",
      "metadata": {
        "id": "-sdYhd7mObwI",
        "colab_type": "code",
        "colab": {}
      },
      "source": [
        "# Now make the actual data which will go into the neural network\n",
        "T = 10 # the number of time steps to look at to make a prediction for the next day\n",
        "D = input_data.shape[1]\n",
        "N = len(input_data) - T # (e.g. if T=10 and you have 11 data points then you'd only have 1 sample)"
      ],
      "execution_count": 0,
      "outputs": []
    },
    {
      "cell_type": "code",
      "metadata": {
        "id": "79CkMlgHOejZ",
        "colab_type": "code",
        "colab": {}
      },
      "source": [
        "# normalize the inputs\n",
        "Ntrain = len(input_data) * 2 // 3\n",
        "scaler = StandardScaler()\n",
        "scaler.fit(input_data[:Ntrain + T - 1])\n",
        "input_data = scaler.transform(input_data)"
      ],
      "execution_count": 0,
      "outputs": []
    },
    {
      "cell_type": "code",
      "metadata": {
        "id": "bfQcj1gpOme2",
        "colab_type": "code",
        "colab": {}
      },
      "source": [
        "# Setup X_train and Y_train\n",
        "X_train = np.zeros((Ntrain, T, D))\n",
        "Y_train = np.zeros(Ntrain)\n",
        "\n",
        "for t in range(Ntrain):\n",
        "  X_train[t, :, :] = input_data[t:t+T]\n",
        "  Y_train[t] = (targets[t+T] > 0)"
      ],
      "execution_count": 0,
      "outputs": []
    },
    {
      "cell_type": "code",
      "metadata": {
        "id": "HhUo6COMOsZi",
        "colab_type": "code",
        "colab": {}
      },
      "source": [
        "# Setup X_test and Y_test\n",
        "X_test = np.zeros((N - Ntrain, T, D))\n",
        "Y_test = np.zeros(N - Ntrain)\n",
        "\n",
        "for u in range(N - Ntrain):\n",
        "  # u counts from 0...(N - Ntrain)\n",
        "  # t counts from Ntrain...N\n",
        "  t = u + Ntrain\n",
        "  X_test[u, :, :] = input_data[t:t+T]\n",
        "  Y_test[u] = (targets[t+T] > 0)"
      ],
      "execution_count": 0,
      "outputs": []
    },
    {
      "cell_type": "code",
      "metadata": {
        "id": "7tBDk_1FRUFt",
        "colab_type": "code",
        "colab": {}
      },
      "source": [
        "i = Input(shape=(T,D))\n",
        "x = LSTM(50)(i)\n",
        "x = Dense(1, activation='sigmoid')(x)\n",
        "model = Model(i, x)\n",
        "model.compile(\n",
        "    loss='binary_crossentropy',\n",
        "    optimizer= Adam(lr=0.01),\n",
        "    metrics=['accuracy']\n",
        ")"
      ],
      "execution_count": 0,
      "outputs": []
    },
    {
      "cell_type": "code",
      "metadata": {
        "id": "IQqNykvGRXGz",
        "colab_type": "code",
        "outputId": "d810d512-198c-4a6c-92f1-6562a2cbf876",
        "colab": {
          "base_uri": "https://localhost:8080/",
          "height": 1000
        }
      },
      "source": [
        "# train the RNN\n",
        "r = model.fit(\n",
        "  X_train, Y_train,\n",
        "  batch_size=32,\n",
        "  epochs=300,\n",
        "  validation_data=(X_test, Y_test),\n",
        ")"
      ],
      "execution_count": 38,
      "outputs": [
        {
          "output_type": "stream",
          "text": [
            "Epoch 1/300\n",
            "27/27 [==============================] - 0s 17ms/step - loss: 0.7208 - accuracy: 0.4756 - val_loss: 0.6978 - val_accuracy: 0.4878\n",
            "Epoch 2/300\n",
            "27/27 [==============================] - 0s 5ms/step - loss: 0.6963 - accuracy: 0.5173 - val_loss: 0.7026 - val_accuracy: 0.4854\n",
            "Epoch 3/300\n",
            "27/27 [==============================] - 0s 5ms/step - loss: 0.6931 - accuracy: 0.5149 - val_loss: 0.6947 - val_accuracy: 0.4902\n",
            "Epoch 4/300\n",
            "27/27 [==============================] - 0s 5ms/step - loss: 0.6903 - accuracy: 0.5244 - val_loss: 0.6914 - val_accuracy: 0.5268\n",
            "Epoch 5/300\n",
            "27/27 [==============================] - 0s 5ms/step - loss: 0.6912 - accuracy: 0.5280 - val_loss: 0.6975 - val_accuracy: 0.4854\n",
            "Epoch 6/300\n",
            "27/27 [==============================] - 0s 5ms/step - loss: 0.6937 - accuracy: 0.5280 - val_loss: 0.6950 - val_accuracy: 0.4829\n",
            "Epoch 7/300\n",
            "27/27 [==============================] - 0s 5ms/step - loss: 0.6909 - accuracy: 0.5304 - val_loss: 0.6918 - val_accuracy: 0.4976\n",
            "Epoch 8/300\n",
            "27/27 [==============================] - 0s 5ms/step - loss: 0.6880 - accuracy: 0.5411 - val_loss: 0.6907 - val_accuracy: 0.5488\n",
            "Epoch 9/300\n",
            "27/27 [==============================] - 0s 5ms/step - loss: 0.6894 - accuracy: 0.5328 - val_loss: 0.6922 - val_accuracy: 0.5122\n",
            "Epoch 10/300\n",
            "27/27 [==============================] - 0s 5ms/step - loss: 0.6853 - accuracy: 0.5435 - val_loss: 0.6919 - val_accuracy: 0.5220\n",
            "Epoch 11/300\n",
            "27/27 [==============================] - 0s 5ms/step - loss: 0.6881 - accuracy: 0.5375 - val_loss: 0.6933 - val_accuracy: 0.4927\n",
            "Epoch 12/300\n",
            "27/27 [==============================] - 0s 5ms/step - loss: 0.6838 - accuracy: 0.5364 - val_loss: 0.7066 - val_accuracy: 0.4878\n",
            "Epoch 13/300\n",
            "27/27 [==============================] - 0s 5ms/step - loss: 0.6839 - accuracy: 0.5781 - val_loss: 0.6997 - val_accuracy: 0.5024\n",
            "Epoch 14/300\n",
            "27/27 [==============================] - 0s 5ms/step - loss: 0.6797 - accuracy: 0.5650 - val_loss: 0.6929 - val_accuracy: 0.4927\n",
            "Epoch 15/300\n",
            "27/27 [==============================] - 0s 5ms/step - loss: 0.6777 - accuracy: 0.5375 - val_loss: 0.6932 - val_accuracy: 0.5098\n",
            "Epoch 16/300\n",
            "27/27 [==============================] - 0s 5ms/step - loss: 0.6755 - accuracy: 0.5781 - val_loss: 0.6996 - val_accuracy: 0.5098\n",
            "Epoch 17/300\n",
            "27/27 [==============================] - 0s 5ms/step - loss: 0.6826 - accuracy: 0.5471 - val_loss: 0.6949 - val_accuracy: 0.5585\n",
            "Epoch 18/300\n",
            "27/27 [==============================] - 0s 5ms/step - loss: 0.6781 - accuracy: 0.5828 - val_loss: 0.6948 - val_accuracy: 0.5220\n",
            "Epoch 19/300\n",
            "27/27 [==============================] - 0s 5ms/step - loss: 0.6746 - accuracy: 0.5471 - val_loss: 0.7046 - val_accuracy: 0.4927\n",
            "Epoch 20/300\n",
            "27/27 [==============================] - 0s 5ms/step - loss: 0.6711 - accuracy: 0.5542 - val_loss: 0.7053 - val_accuracy: 0.5244\n",
            "Epoch 21/300\n",
            "27/27 [==============================] - 0s 5ms/step - loss: 0.6737 - accuracy: 0.5626 - val_loss: 0.6999 - val_accuracy: 0.5390\n",
            "Epoch 22/300\n",
            "27/27 [==============================] - 0s 5ms/step - loss: 0.6619 - accuracy: 0.5948 - val_loss: 0.7063 - val_accuracy: 0.5195\n",
            "Epoch 23/300\n",
            "27/27 [==============================] - 0s 6ms/step - loss: 0.6549 - accuracy: 0.6186 - val_loss: 0.7196 - val_accuracy: 0.4927\n",
            "Epoch 24/300\n",
            "27/27 [==============================] - 0s 5ms/step - loss: 0.6578 - accuracy: 0.6019 - val_loss: 0.7051 - val_accuracy: 0.5146\n",
            "Epoch 25/300\n",
            "27/27 [==============================] - 0s 5ms/step - loss: 0.6524 - accuracy: 0.6138 - val_loss: 0.7208 - val_accuracy: 0.4951\n",
            "Epoch 26/300\n",
            "27/27 [==============================] - 0s 5ms/step - loss: 0.6476 - accuracy: 0.5995 - val_loss: 0.7373 - val_accuracy: 0.5024\n",
            "Epoch 27/300\n",
            "27/27 [==============================] - 0s 5ms/step - loss: 0.6437 - accuracy: 0.5983 - val_loss: 0.7224 - val_accuracy: 0.5146\n",
            "Epoch 28/300\n",
            "27/27 [==============================] - 0s 5ms/step - loss: 0.6252 - accuracy: 0.6186 - val_loss: 0.7198 - val_accuracy: 0.5146\n",
            "Epoch 29/300\n",
            "27/27 [==============================] - 0s 5ms/step - loss: 0.6186 - accuracy: 0.6329 - val_loss: 0.7395 - val_accuracy: 0.4756\n",
            "Epoch 30/300\n",
            "27/27 [==============================] - 0s 5ms/step - loss: 0.6225 - accuracy: 0.6293 - val_loss: 0.7371 - val_accuracy: 0.5244\n",
            "Epoch 31/300\n",
            "27/27 [==============================] - 0s 5ms/step - loss: 0.6230 - accuracy: 0.6448 - val_loss: 0.7422 - val_accuracy: 0.4805\n",
            "Epoch 32/300\n",
            "27/27 [==============================] - 0s 5ms/step - loss: 0.6028 - accuracy: 0.6520 - val_loss: 0.7475 - val_accuracy: 0.5024\n",
            "Epoch 33/300\n",
            "27/27 [==============================] - 0s 5ms/step - loss: 0.5943 - accuracy: 0.6603 - val_loss: 0.7295 - val_accuracy: 0.5146\n",
            "Epoch 34/300\n",
            "27/27 [==============================] - 0s 5ms/step - loss: 0.5953 - accuracy: 0.6424 - val_loss: 0.7680 - val_accuracy: 0.4927\n",
            "Epoch 35/300\n",
            "27/27 [==============================] - 0s 5ms/step - loss: 0.5926 - accuracy: 0.6615 - val_loss: 0.7520 - val_accuracy: 0.5244\n",
            "Epoch 36/300\n",
            "27/27 [==============================] - 0s 5ms/step - loss: 0.5793 - accuracy: 0.6865 - val_loss: 0.8343 - val_accuracy: 0.4561\n",
            "Epoch 37/300\n",
            "27/27 [==============================] - 0s 5ms/step - loss: 0.5426 - accuracy: 0.7092 - val_loss: 0.7765 - val_accuracy: 0.5268\n",
            "Epoch 38/300\n",
            "27/27 [==============================] - 0s 5ms/step - loss: 0.5610 - accuracy: 0.6687 - val_loss: 0.8581 - val_accuracy: 0.4829\n",
            "Epoch 39/300\n",
            "27/27 [==============================] - 0s 5ms/step - loss: 0.5486 - accuracy: 0.7056 - val_loss: 0.8567 - val_accuracy: 0.5220\n",
            "Epoch 40/300\n",
            "27/27 [==============================] - 0s 5ms/step - loss: 0.5405 - accuracy: 0.7068 - val_loss: 0.8956 - val_accuracy: 0.5073\n",
            "Epoch 41/300\n",
            "27/27 [==============================] - 0s 5ms/step - loss: 0.5602 - accuracy: 0.7032 - val_loss: 0.8646 - val_accuracy: 0.4634\n",
            "Epoch 42/300\n",
            "27/27 [==============================] - 0s 5ms/step - loss: 0.5305 - accuracy: 0.7032 - val_loss: 0.8055 - val_accuracy: 0.5146\n",
            "Epoch 43/300\n",
            "27/27 [==============================] - 0s 5ms/step - loss: 0.4858 - accuracy: 0.7342 - val_loss: 0.9794 - val_accuracy: 0.4976\n",
            "Epoch 44/300\n",
            "27/27 [==============================] - 0s 5ms/step - loss: 0.4802 - accuracy: 0.7545 - val_loss: 1.0660 - val_accuracy: 0.4780\n",
            "Epoch 45/300\n",
            "27/27 [==============================] - 0s 5ms/step - loss: 0.4729 - accuracy: 0.7521 - val_loss: 0.9007 - val_accuracy: 0.5000\n",
            "Epoch 46/300\n",
            "27/27 [==============================] - 0s 5ms/step - loss: 0.4510 - accuracy: 0.7712 - val_loss: 0.9784 - val_accuracy: 0.4659\n",
            "Epoch 47/300\n",
            "27/27 [==============================] - 0s 5ms/step - loss: 0.4618 - accuracy: 0.7580 - val_loss: 0.9881 - val_accuracy: 0.4878\n",
            "Epoch 48/300\n",
            "27/27 [==============================] - 0s 5ms/step - loss: 0.4848 - accuracy: 0.7402 - val_loss: 0.9939 - val_accuracy: 0.4878\n",
            "Epoch 49/300\n",
            "27/27 [==============================] - 0s 5ms/step - loss: 0.4673 - accuracy: 0.7497 - val_loss: 0.9150 - val_accuracy: 0.4829\n",
            "Epoch 50/300\n",
            "27/27 [==============================] - 0s 5ms/step - loss: 0.4569 - accuracy: 0.7557 - val_loss: 0.9803 - val_accuracy: 0.4976\n",
            "Epoch 51/300\n",
            "27/27 [==============================] - 0s 5ms/step - loss: 0.4761 - accuracy: 0.7509 - val_loss: 1.0348 - val_accuracy: 0.5000\n",
            "Epoch 52/300\n",
            "27/27 [==============================] - 0s 5ms/step - loss: 0.4120 - accuracy: 0.8010 - val_loss: 1.0504 - val_accuracy: 0.5024\n",
            "Epoch 53/300\n",
            "27/27 [==============================] - 0s 5ms/step - loss: 0.4473 - accuracy: 0.7855 - val_loss: 1.0528 - val_accuracy: 0.5000\n",
            "Epoch 54/300\n",
            "27/27 [==============================] - 0s 5ms/step - loss: 0.4229 - accuracy: 0.7855 - val_loss: 1.0355 - val_accuracy: 0.4610\n",
            "Epoch 55/300\n",
            "27/27 [==============================] - 0s 5ms/step - loss: 0.3801 - accuracy: 0.8153 - val_loss: 1.1484 - val_accuracy: 0.4878\n",
            "Epoch 56/300\n",
            "27/27 [==============================] - 0s 5ms/step - loss: 0.3502 - accuracy: 0.8367 - val_loss: 1.1424 - val_accuracy: 0.5049\n",
            "Epoch 57/300\n",
            "27/27 [==============================] - 0s 5ms/step - loss: 0.3403 - accuracy: 0.8510 - val_loss: 1.1843 - val_accuracy: 0.4951\n",
            "Epoch 58/300\n",
            "27/27 [==============================] - 0s 5ms/step - loss: 0.3160 - accuracy: 0.8570 - val_loss: 1.2826 - val_accuracy: 0.4756\n",
            "Epoch 59/300\n",
            "27/27 [==============================] - 0s 5ms/step - loss: 0.3189 - accuracy: 0.8558 - val_loss: 1.0779 - val_accuracy: 0.4780\n",
            "Epoch 60/300\n",
            "27/27 [==============================] - 0s 5ms/step - loss: 0.2981 - accuracy: 0.8629 - val_loss: 1.0993 - val_accuracy: 0.4976\n",
            "Epoch 61/300\n",
            "27/27 [==============================] - 0s 5ms/step - loss: 0.2418 - accuracy: 0.9070 - val_loss: 1.2462 - val_accuracy: 0.4878\n",
            "Epoch 62/300\n",
            "27/27 [==============================] - 0s 5ms/step - loss: 0.2020 - accuracy: 0.9225 - val_loss: 1.3074 - val_accuracy: 0.4829\n",
            "Epoch 63/300\n",
            "27/27 [==============================] - 0s 5ms/step - loss: 0.1816 - accuracy: 0.9392 - val_loss: 1.3767 - val_accuracy: 0.4756\n",
            "Epoch 64/300\n",
            "27/27 [==============================] - 0s 5ms/step - loss: 0.2394 - accuracy: 0.8999 - val_loss: 1.2029 - val_accuracy: 0.4927\n",
            "Epoch 65/300\n",
            "27/27 [==============================] - 0s 5ms/step - loss: 0.2456 - accuracy: 0.8999 - val_loss: 1.4391 - val_accuracy: 0.5098\n",
            "Epoch 66/300\n",
            "27/27 [==============================] - 0s 6ms/step - loss: 0.2720 - accuracy: 0.9023 - val_loss: 1.4400 - val_accuracy: 0.4780\n",
            "Epoch 67/300\n",
            "27/27 [==============================] - 0s 5ms/step - loss: 0.3541 - accuracy: 0.8391 - val_loss: 1.5377 - val_accuracy: 0.4878\n",
            "Epoch 68/300\n",
            "27/27 [==============================] - 0s 5ms/step - loss: 0.2984 - accuracy: 0.8677 - val_loss: 1.5151 - val_accuracy: 0.5024\n",
            "Epoch 69/300\n",
            "27/27 [==============================] - 0s 5ms/step - loss: 0.2123 - accuracy: 0.9142 - val_loss: 1.5594 - val_accuracy: 0.4732\n",
            "Epoch 70/300\n",
            "27/27 [==============================] - 0s 5ms/step - loss: 0.1584 - accuracy: 0.9464 - val_loss: 1.6010 - val_accuracy: 0.5024\n",
            "Epoch 71/300\n",
            "27/27 [==============================] - 0s 5ms/step - loss: 0.1340 - accuracy: 0.9607 - val_loss: 1.6850 - val_accuracy: 0.4902\n",
            "Epoch 72/300\n",
            "27/27 [==============================] - 0s 6ms/step - loss: 0.1037 - accuracy: 0.9762 - val_loss: 1.7678 - val_accuracy: 0.4878\n",
            "Epoch 73/300\n",
            "27/27 [==============================] - 0s 5ms/step - loss: 0.0960 - accuracy: 0.9869 - val_loss: 1.7548 - val_accuracy: 0.5049\n",
            "Epoch 74/300\n",
            "27/27 [==============================] - 0s 5ms/step - loss: 0.1196 - accuracy: 0.9690 - val_loss: 1.7810 - val_accuracy: 0.4634\n",
            "Epoch 75/300\n",
            "27/27 [==============================] - 0s 6ms/step - loss: 0.1259 - accuracy: 0.9619 - val_loss: 2.0305 - val_accuracy: 0.4805\n",
            "Epoch 76/300\n",
            "27/27 [==============================] - 0s 5ms/step - loss: 0.2239 - accuracy: 0.9249 - val_loss: 1.5929 - val_accuracy: 0.4732\n",
            "Epoch 77/300\n",
            "27/27 [==============================] - 0s 5ms/step - loss: 0.3268 - accuracy: 0.8796 - val_loss: 1.6494 - val_accuracy: 0.4756\n",
            "Epoch 78/300\n",
            "27/27 [==============================] - 0s 5ms/step - loss: 0.3725 - accuracy: 0.8510 - val_loss: 1.2557 - val_accuracy: 0.5195\n",
            "Epoch 79/300\n",
            "27/27 [==============================] - 0s 5ms/step - loss: 0.4271 - accuracy: 0.8164 - val_loss: 1.3019 - val_accuracy: 0.4683\n",
            "Epoch 80/300\n",
            "27/27 [==============================] - 0s 5ms/step - loss: 0.2767 - accuracy: 0.8796 - val_loss: 1.4541 - val_accuracy: 0.4707\n",
            "Epoch 81/300\n",
            "27/27 [==============================] - 0s 5ms/step - loss: 0.1793 - accuracy: 0.9464 - val_loss: 1.5272 - val_accuracy: 0.4780\n",
            "Epoch 82/300\n",
            "27/27 [==============================] - 0s 5ms/step - loss: 0.1279 - accuracy: 0.9738 - val_loss: 1.6237 - val_accuracy: 0.4878\n",
            "Epoch 83/300\n",
            "27/27 [==============================] - 0s 5ms/step - loss: 0.1123 - accuracy: 0.9666 - val_loss: 1.7866 - val_accuracy: 0.4829\n",
            "Epoch 84/300\n",
            "27/27 [==============================] - 0s 5ms/step - loss: 0.0777 - accuracy: 0.9845 - val_loss: 1.8729 - val_accuracy: 0.4537\n",
            "Epoch 85/300\n",
            "27/27 [==============================] - 0s 5ms/step - loss: 0.0568 - accuracy: 0.9917 - val_loss: 1.9974 - val_accuracy: 0.4829\n",
            "Epoch 86/300\n",
            "27/27 [==============================] - 0s 5ms/step - loss: 0.0479 - accuracy: 0.9976 - val_loss: 1.9042 - val_accuracy: 0.4634\n",
            "Epoch 87/300\n",
            "27/27 [==============================] - 0s 5ms/step - loss: 0.0348 - accuracy: 1.0000 - val_loss: 2.0318 - val_accuracy: 0.4683\n",
            "Epoch 88/300\n",
            "27/27 [==============================] - 0s 5ms/step - loss: 0.0234 - accuracy: 1.0000 - val_loss: 2.0933 - val_accuracy: 0.4561\n",
            "Epoch 89/300\n",
            "27/27 [==============================] - 0s 5ms/step - loss: 0.0215 - accuracy: 0.9988 - val_loss: 2.2147 - val_accuracy: 0.4390\n",
            "Epoch 90/300\n",
            "27/27 [==============================] - 0s 5ms/step - loss: 0.0171 - accuracy: 0.9988 - val_loss: 2.2592 - val_accuracy: 0.4537\n",
            "Epoch 91/300\n",
            "27/27 [==============================] - 0s 5ms/step - loss: 0.0148 - accuracy: 1.0000 - val_loss: 2.2863 - val_accuracy: 0.4366\n",
            "Epoch 92/300\n",
            "27/27 [==============================] - 0s 5ms/step - loss: 0.0113 - accuracy: 1.0000 - val_loss: 2.3417 - val_accuracy: 0.4268\n",
            "Epoch 93/300\n",
            "27/27 [==============================] - 0s 5ms/step - loss: 0.0122 - accuracy: 1.0000 - val_loss: 2.4000 - val_accuracy: 0.4488\n",
            "Epoch 94/300\n",
            "27/27 [==============================] - 0s 5ms/step - loss: 0.0122 - accuracy: 0.9988 - val_loss: 2.3988 - val_accuracy: 0.4488\n",
            "Epoch 95/300\n",
            "27/27 [==============================] - 0s 5ms/step - loss: 0.0089 - accuracy: 1.0000 - val_loss: 2.4365 - val_accuracy: 0.4463\n",
            "Epoch 96/300\n",
            "27/27 [==============================] - 0s 5ms/step - loss: 0.0078 - accuracy: 1.0000 - val_loss: 2.4800 - val_accuracy: 0.4366\n",
            "Epoch 97/300\n",
            "27/27 [==============================] - 0s 5ms/step - loss: 0.0070 - accuracy: 1.0000 - val_loss: 2.4954 - val_accuracy: 0.4415\n",
            "Epoch 98/300\n",
            "27/27 [==============================] - 0s 5ms/step - loss: 0.0061 - accuracy: 1.0000 - val_loss: 2.5229 - val_accuracy: 0.4415\n",
            "Epoch 99/300\n",
            "27/27 [==============================] - 0s 5ms/step - loss: 0.0056 - accuracy: 1.0000 - val_loss: 2.5466 - val_accuracy: 0.4390\n",
            "Epoch 100/300\n",
            "27/27 [==============================] - 0s 5ms/step - loss: 0.0049 - accuracy: 1.0000 - val_loss: 2.5719 - val_accuracy: 0.4415\n",
            "Epoch 101/300\n",
            "27/27 [==============================] - 0s 5ms/step - loss: 0.0045 - accuracy: 1.0000 - val_loss: 2.5914 - val_accuracy: 0.4439\n",
            "Epoch 102/300\n",
            "27/27 [==============================] - 0s 5ms/step - loss: 0.0043 - accuracy: 1.0000 - val_loss: 2.6173 - val_accuracy: 0.4488\n",
            "Epoch 103/300\n",
            "27/27 [==============================] - 0s 5ms/step - loss: 0.0040 - accuracy: 1.0000 - val_loss: 2.6357 - val_accuracy: 0.4512\n",
            "Epoch 104/300\n",
            "27/27 [==============================] - 0s 5ms/step - loss: 0.0036 - accuracy: 1.0000 - val_loss: 2.6610 - val_accuracy: 0.4439\n",
            "Epoch 105/300\n",
            "27/27 [==============================] - 0s 5ms/step - loss: 0.0035 - accuracy: 1.0000 - val_loss: 2.6715 - val_accuracy: 0.4439\n",
            "Epoch 106/300\n",
            "27/27 [==============================] - 0s 5ms/step - loss: 0.0032 - accuracy: 1.0000 - val_loss: 2.6908 - val_accuracy: 0.4463\n",
            "Epoch 107/300\n",
            "27/27 [==============================] - 0s 5ms/step - loss: 0.0032 - accuracy: 1.0000 - val_loss: 2.7070 - val_accuracy: 0.4463\n",
            "Epoch 108/300\n",
            "27/27 [==============================] - 0s 5ms/step - loss: 0.0029 - accuracy: 1.0000 - val_loss: 2.7148 - val_accuracy: 0.4463\n",
            "Epoch 109/300\n",
            "27/27 [==============================] - 0s 5ms/step - loss: 0.0028 - accuracy: 1.0000 - val_loss: 2.7310 - val_accuracy: 0.4463\n",
            "Epoch 110/300\n",
            "27/27 [==============================] - 0s 5ms/step - loss: 0.0026 - accuracy: 1.0000 - val_loss: 2.7445 - val_accuracy: 0.4439\n",
            "Epoch 111/300\n",
            "27/27 [==============================] - 0s 5ms/step - loss: 0.0025 - accuracy: 1.0000 - val_loss: 2.7600 - val_accuracy: 0.4488\n",
            "Epoch 112/300\n",
            "27/27 [==============================] - 0s 5ms/step - loss: 0.0024 - accuracy: 1.0000 - val_loss: 2.7777 - val_accuracy: 0.4463\n",
            "Epoch 113/300\n",
            "27/27 [==============================] - 0s 5ms/step - loss: 0.0024 - accuracy: 1.0000 - val_loss: 2.7829 - val_accuracy: 0.4463\n",
            "Epoch 114/300\n",
            "27/27 [==============================] - 0s 5ms/step - loss: 0.0022 - accuracy: 1.0000 - val_loss: 2.7967 - val_accuracy: 0.4439\n",
            "Epoch 115/300\n",
            "27/27 [==============================] - 0s 5ms/step - loss: 0.0022 - accuracy: 1.0000 - val_loss: 2.8110 - val_accuracy: 0.4463\n",
            "Epoch 116/300\n",
            "27/27 [==============================] - 0s 5ms/step - loss: 0.0020 - accuracy: 1.0000 - val_loss: 2.8260 - val_accuracy: 0.4463\n",
            "Epoch 117/300\n",
            "27/27 [==============================] - 0s 5ms/step - loss: 0.0019 - accuracy: 1.0000 - val_loss: 2.8365 - val_accuracy: 0.4463\n",
            "Epoch 118/300\n",
            "27/27 [==============================] - 0s 5ms/step - loss: 0.0019 - accuracy: 1.0000 - val_loss: 2.8498 - val_accuracy: 0.4463\n",
            "Epoch 119/300\n",
            "27/27 [==============================] - 0s 5ms/step - loss: 0.0018 - accuracy: 1.0000 - val_loss: 2.8572 - val_accuracy: 0.4463\n",
            "Epoch 120/300\n",
            "27/27 [==============================] - 0s 5ms/step - loss: 0.0017 - accuracy: 1.0000 - val_loss: 2.8704 - val_accuracy: 0.4463\n",
            "Epoch 121/300\n",
            "27/27 [==============================] - 0s 5ms/step - loss: 0.0017 - accuracy: 1.0000 - val_loss: 2.8845 - val_accuracy: 0.4463\n",
            "Epoch 122/300\n",
            "27/27 [==============================] - 0s 5ms/step - loss: 0.0015 - accuracy: 1.0000 - val_loss: 2.8962 - val_accuracy: 0.4463\n",
            "Epoch 123/300\n",
            "27/27 [==============================] - 0s 5ms/step - loss: 0.0015 - accuracy: 1.0000 - val_loss: 2.9021 - val_accuracy: 0.4463\n",
            "Epoch 124/300\n",
            "27/27 [==============================] - 0s 5ms/step - loss: 0.0015 - accuracy: 1.0000 - val_loss: 2.9125 - val_accuracy: 0.4512\n",
            "Epoch 125/300\n",
            "27/27 [==============================] - 0s 5ms/step - loss: 0.0014 - accuracy: 1.0000 - val_loss: 2.9290 - val_accuracy: 0.4512\n",
            "Epoch 126/300\n",
            "27/27 [==============================] - 0s 5ms/step - loss: 0.0014 - accuracy: 1.0000 - val_loss: 2.9303 - val_accuracy: 0.4512\n",
            "Epoch 127/300\n",
            "27/27 [==============================] - 0s 5ms/step - loss: 0.0013 - accuracy: 1.0000 - val_loss: 2.9488 - val_accuracy: 0.4488\n",
            "Epoch 128/300\n",
            "27/27 [==============================] - 0s 6ms/step - loss: 0.0013 - accuracy: 1.0000 - val_loss: 2.9614 - val_accuracy: 0.4512\n",
            "Epoch 129/300\n",
            "27/27 [==============================] - 0s 5ms/step - loss: 0.0012 - accuracy: 1.0000 - val_loss: 2.9716 - val_accuracy: 0.4512\n",
            "Epoch 130/300\n",
            "27/27 [==============================] - 0s 5ms/step - loss: 0.0013 - accuracy: 1.0000 - val_loss: 2.9817 - val_accuracy: 0.4537\n",
            "Epoch 131/300\n",
            "27/27 [==============================] - 0s 5ms/step - loss: 0.0011 - accuracy: 1.0000 - val_loss: 2.9844 - val_accuracy: 0.4463\n",
            "Epoch 132/300\n",
            "27/27 [==============================] - 0s 5ms/step - loss: 0.0011 - accuracy: 1.0000 - val_loss: 3.0013 - val_accuracy: 0.4537\n",
            "Epoch 133/300\n",
            "27/27 [==============================] - 0s 5ms/step - loss: 0.0011 - accuracy: 1.0000 - val_loss: 3.0105 - val_accuracy: 0.4512\n",
            "Epoch 134/300\n",
            "27/27 [==============================] - 0s 5ms/step - loss: 0.0010 - accuracy: 1.0000 - val_loss: 3.0239 - val_accuracy: 0.4512\n",
            "Epoch 135/300\n",
            "27/27 [==============================] - 0s 5ms/step - loss: 9.8485e-04 - accuracy: 1.0000 - val_loss: 3.0301 - val_accuracy: 0.4537\n",
            "Epoch 136/300\n",
            "27/27 [==============================] - 0s 5ms/step - loss: 9.8801e-04 - accuracy: 1.0000 - val_loss: 3.0414 - val_accuracy: 0.4561\n",
            "Epoch 137/300\n",
            "27/27 [==============================] - 0s 5ms/step - loss: 9.4515e-04 - accuracy: 1.0000 - val_loss: 3.0502 - val_accuracy: 0.4537\n",
            "Epoch 138/300\n",
            "27/27 [==============================] - 0s 5ms/step - loss: 9.0595e-04 - accuracy: 1.0000 - val_loss: 3.0570 - val_accuracy: 0.4512\n",
            "Epoch 139/300\n",
            "27/27 [==============================] - 0s 5ms/step - loss: 9.0812e-04 - accuracy: 1.0000 - val_loss: 3.0672 - val_accuracy: 0.4537\n",
            "Epoch 140/300\n",
            "27/27 [==============================] - 0s 5ms/step - loss: 8.4124e-04 - accuracy: 1.0000 - val_loss: 3.0802 - val_accuracy: 0.4537\n",
            "Epoch 141/300\n",
            "27/27 [==============================] - 0s 5ms/step - loss: 8.4098e-04 - accuracy: 1.0000 - val_loss: 3.0870 - val_accuracy: 0.4537\n",
            "Epoch 142/300\n",
            "27/27 [==============================] - 0s 5ms/step - loss: 8.1255e-04 - accuracy: 1.0000 - val_loss: 3.0946 - val_accuracy: 0.4561\n",
            "Epoch 143/300\n",
            "27/27 [==============================] - 0s 6ms/step - loss: 7.7694e-04 - accuracy: 1.0000 - val_loss: 3.0994 - val_accuracy: 0.4561\n",
            "Epoch 144/300\n",
            "27/27 [==============================] - 0s 5ms/step - loss: 7.6334e-04 - accuracy: 1.0000 - val_loss: 3.1111 - val_accuracy: 0.4537\n",
            "Epoch 145/300\n",
            "27/27 [==============================] - 0s 5ms/step - loss: 7.5259e-04 - accuracy: 1.0000 - val_loss: 3.1224 - val_accuracy: 0.4512\n",
            "Epoch 146/300\n",
            "27/27 [==============================] - 0s 5ms/step - loss: 7.1895e-04 - accuracy: 1.0000 - val_loss: 3.1263 - val_accuracy: 0.4512\n",
            "Epoch 147/300\n",
            "27/27 [==============================] - 0s 5ms/step - loss: 7.0173e-04 - accuracy: 1.0000 - val_loss: 3.1379 - val_accuracy: 0.4512\n",
            "Epoch 148/300\n",
            "27/27 [==============================] - 0s 6ms/step - loss: 6.7468e-04 - accuracy: 1.0000 - val_loss: 3.1477 - val_accuracy: 0.4537\n",
            "Epoch 149/300\n",
            "27/27 [==============================] - 0s 5ms/step - loss: 6.8227e-04 - accuracy: 1.0000 - val_loss: 3.1529 - val_accuracy: 0.4537\n",
            "Epoch 150/300\n",
            "27/27 [==============================] - 0s 5ms/step - loss: 6.4256e-04 - accuracy: 1.0000 - val_loss: 3.1623 - val_accuracy: 0.4537\n",
            "Epoch 151/300\n",
            "27/27 [==============================] - 0s 5ms/step - loss: 6.2478e-04 - accuracy: 1.0000 - val_loss: 3.1724 - val_accuracy: 0.4537\n",
            "Epoch 152/300\n",
            "27/27 [==============================] - 0s 5ms/step - loss: 6.1200e-04 - accuracy: 1.0000 - val_loss: 3.1809 - val_accuracy: 0.4537\n",
            "Epoch 153/300\n",
            "27/27 [==============================] - 0s 5ms/step - loss: 5.9560e-04 - accuracy: 1.0000 - val_loss: 3.1892 - val_accuracy: 0.4537\n",
            "Epoch 154/300\n",
            "27/27 [==============================] - 0s 5ms/step - loss: 5.7852e-04 - accuracy: 1.0000 - val_loss: 3.1956 - val_accuracy: 0.4537\n",
            "Epoch 155/300\n",
            "27/27 [==============================] - 0s 5ms/step - loss: 5.6600e-04 - accuracy: 1.0000 - val_loss: 3.2015 - val_accuracy: 0.4537\n",
            "Epoch 156/300\n",
            "27/27 [==============================] - 0s 5ms/step - loss: 5.6038e-04 - accuracy: 1.0000 - val_loss: 3.2129 - val_accuracy: 0.4561\n",
            "Epoch 157/300\n",
            "27/27 [==============================] - 0s 5ms/step - loss: 5.3459e-04 - accuracy: 1.0000 - val_loss: 3.2171 - val_accuracy: 0.4537\n",
            "Epoch 158/300\n",
            "27/27 [==============================] - 0s 5ms/step - loss: 5.2955e-04 - accuracy: 1.0000 - val_loss: 3.2269 - val_accuracy: 0.4537\n",
            "Epoch 159/300\n",
            "27/27 [==============================] - 0s 5ms/step - loss: 5.1296e-04 - accuracy: 1.0000 - val_loss: 3.2337 - val_accuracy: 0.4537\n",
            "Epoch 160/300\n",
            "27/27 [==============================] - 0s 5ms/step - loss: 5.0755e-04 - accuracy: 1.0000 - val_loss: 3.2401 - val_accuracy: 0.4537\n",
            "Epoch 161/300\n",
            "27/27 [==============================] - 0s 5ms/step - loss: 4.8991e-04 - accuracy: 1.0000 - val_loss: 3.2496 - val_accuracy: 0.4537\n",
            "Epoch 162/300\n",
            "27/27 [==============================] - 0s 5ms/step - loss: 4.8941e-04 - accuracy: 1.0000 - val_loss: 3.2563 - val_accuracy: 0.4537\n",
            "Epoch 163/300\n",
            "27/27 [==============================] - 0s 5ms/step - loss: 4.7311e-04 - accuracy: 1.0000 - val_loss: 3.2616 - val_accuracy: 0.4512\n",
            "Epoch 164/300\n",
            "27/27 [==============================] - 0s 5ms/step - loss: 4.6562e-04 - accuracy: 1.0000 - val_loss: 3.2701 - val_accuracy: 0.4512\n",
            "Epoch 165/300\n",
            "27/27 [==============================] - 0s 5ms/step - loss: 4.4249e-04 - accuracy: 1.0000 - val_loss: 3.2784 - val_accuracy: 0.4537\n",
            "Epoch 166/300\n",
            "27/27 [==============================] - 0s 6ms/step - loss: 4.4172e-04 - accuracy: 1.0000 - val_loss: 3.2871 - val_accuracy: 0.4512\n",
            "Epoch 167/300\n",
            "27/27 [==============================] - 0s 5ms/step - loss: 4.6784e-04 - accuracy: 1.0000 - val_loss: 3.2933 - val_accuracy: 0.4512\n",
            "Epoch 168/300\n",
            "27/27 [==============================] - 0s 5ms/step - loss: 4.1713e-04 - accuracy: 1.0000 - val_loss: 3.2963 - val_accuracy: 0.4537\n",
            "Epoch 169/300\n",
            "27/27 [==============================] - 0s 5ms/step - loss: 4.0293e-04 - accuracy: 1.0000 - val_loss: 3.3064 - val_accuracy: 0.4512\n",
            "Epoch 170/300\n",
            "27/27 [==============================] - 0s 5ms/step - loss: 4.3100e-04 - accuracy: 1.0000 - val_loss: 3.3115 - val_accuracy: 0.4537\n",
            "Epoch 171/300\n",
            "27/27 [==============================] - 0s 5ms/step - loss: 3.8751e-04 - accuracy: 1.0000 - val_loss: 3.3197 - val_accuracy: 0.4537\n",
            "Epoch 172/300\n",
            "27/27 [==============================] - 0s 5ms/step - loss: 3.7816e-04 - accuracy: 1.0000 - val_loss: 3.3270 - val_accuracy: 0.4512\n",
            "Epoch 173/300\n",
            "27/27 [==============================] - 0s 5ms/step - loss: 3.6711e-04 - accuracy: 1.0000 - val_loss: 3.3335 - val_accuracy: 0.4537\n",
            "Epoch 174/300\n",
            "27/27 [==============================] - 0s 5ms/step - loss: 3.5990e-04 - accuracy: 1.0000 - val_loss: 3.3402 - val_accuracy: 0.4537\n",
            "Epoch 175/300\n",
            "27/27 [==============================] - 0s 5ms/step - loss: 3.5943e-04 - accuracy: 1.0000 - val_loss: 3.3453 - val_accuracy: 0.4488\n",
            "Epoch 176/300\n",
            "27/27 [==============================] - 0s 5ms/step - loss: 3.4925e-04 - accuracy: 1.0000 - val_loss: 3.3532 - val_accuracy: 0.4537\n",
            "Epoch 177/300\n",
            "27/27 [==============================] - 0s 5ms/step - loss: 3.4135e-04 - accuracy: 1.0000 - val_loss: 3.3608 - val_accuracy: 0.4512\n",
            "Epoch 178/300\n",
            "27/27 [==============================] - 0s 6ms/step - loss: 3.2777e-04 - accuracy: 1.0000 - val_loss: 3.3668 - val_accuracy: 0.4512\n",
            "Epoch 179/300\n",
            "27/27 [==============================] - 0s 5ms/step - loss: 3.2770e-04 - accuracy: 1.0000 - val_loss: 3.3729 - val_accuracy: 0.4512\n",
            "Epoch 180/300\n",
            "27/27 [==============================] - 0s 5ms/step - loss: 3.1737e-04 - accuracy: 1.0000 - val_loss: 3.3811 - val_accuracy: 0.4512\n",
            "Epoch 181/300\n",
            "27/27 [==============================] - 0s 5ms/step - loss: 3.1223e-04 - accuracy: 1.0000 - val_loss: 3.3867 - val_accuracy: 0.4512\n",
            "Epoch 182/300\n",
            "27/27 [==============================] - 0s 5ms/step - loss: 3.0485e-04 - accuracy: 1.0000 - val_loss: 3.3927 - val_accuracy: 0.4512\n",
            "Epoch 183/300\n",
            "27/27 [==============================] - 0s 5ms/step - loss: 2.9880e-04 - accuracy: 1.0000 - val_loss: 3.3986 - val_accuracy: 0.4512\n",
            "Epoch 184/300\n",
            "27/27 [==============================] - 0s 5ms/step - loss: 3.1049e-04 - accuracy: 1.0000 - val_loss: 3.4043 - val_accuracy: 0.4512\n",
            "Epoch 185/300\n",
            "27/27 [==============================] - 0s 6ms/step - loss: 2.8832e-04 - accuracy: 1.0000 - val_loss: 3.4116 - val_accuracy: 0.4512\n",
            "Epoch 186/300\n",
            "27/27 [==============================] - 0s 5ms/step - loss: 2.8261e-04 - accuracy: 1.0000 - val_loss: 3.4139 - val_accuracy: 0.4512\n",
            "Epoch 187/300\n",
            "27/27 [==============================] - 0s 5ms/step - loss: 2.7708e-04 - accuracy: 1.0000 - val_loss: 3.4223 - val_accuracy: 0.4537\n",
            "Epoch 188/300\n",
            "27/27 [==============================] - 0s 5ms/step - loss: 2.7725e-04 - accuracy: 1.0000 - val_loss: 3.4318 - val_accuracy: 0.4512\n",
            "Epoch 189/300\n",
            "27/27 [==============================] - 0s 5ms/step - loss: 2.6420e-04 - accuracy: 1.0000 - val_loss: 3.4363 - val_accuracy: 0.4537\n",
            "Epoch 190/300\n",
            "27/27 [==============================] - 0s 5ms/step - loss: 2.5832e-04 - accuracy: 1.0000 - val_loss: 3.4373 - val_accuracy: 0.4537\n",
            "Epoch 191/300\n",
            "27/27 [==============================] - 0s 5ms/step - loss: 2.5281e-04 - accuracy: 1.0000 - val_loss: 3.4452 - val_accuracy: 0.4537\n",
            "Epoch 192/300\n",
            "27/27 [==============================] - 0s 5ms/step - loss: 2.4767e-04 - accuracy: 1.0000 - val_loss: 3.4528 - val_accuracy: 0.4537\n",
            "Epoch 193/300\n",
            "27/27 [==============================] - 0s 5ms/step - loss: 2.4657e-04 - accuracy: 1.0000 - val_loss: 3.4576 - val_accuracy: 0.4512\n",
            "Epoch 194/300\n",
            "27/27 [==============================] - 0s 5ms/step - loss: 2.4640e-04 - accuracy: 1.0000 - val_loss: 3.4644 - val_accuracy: 0.4512\n",
            "Epoch 195/300\n",
            "27/27 [==============================] - 0s 5ms/step - loss: 2.4243e-04 - accuracy: 1.0000 - val_loss: 3.4718 - val_accuracy: 0.4512\n",
            "Epoch 196/300\n",
            "27/27 [==============================] - 0s 5ms/step - loss: 2.4133e-04 - accuracy: 1.0000 - val_loss: 3.4786 - val_accuracy: 0.4512\n",
            "Epoch 197/300\n",
            "27/27 [==============================] - 0s 5ms/step - loss: 2.2266e-04 - accuracy: 1.0000 - val_loss: 3.4813 - val_accuracy: 0.4512\n",
            "Epoch 198/300\n",
            "27/27 [==============================] - 0s 5ms/step - loss: 2.2257e-04 - accuracy: 1.0000 - val_loss: 3.4867 - val_accuracy: 0.4512\n",
            "Epoch 199/300\n",
            "27/27 [==============================] - 0s 5ms/step - loss: 2.1717e-04 - accuracy: 1.0000 - val_loss: 3.4929 - val_accuracy: 0.4561\n",
            "Epoch 200/300\n",
            "27/27 [==============================] - 0s 5ms/step - loss: 2.1188e-04 - accuracy: 1.0000 - val_loss: 3.5019 - val_accuracy: 0.4537\n",
            "Epoch 201/300\n",
            "27/27 [==============================] - 0s 5ms/step - loss: 2.0907e-04 - accuracy: 1.0000 - val_loss: 3.5075 - val_accuracy: 0.4537\n",
            "Epoch 202/300\n",
            "27/27 [==============================] - 0s 5ms/step - loss: 2.0291e-04 - accuracy: 1.0000 - val_loss: 3.5121 - val_accuracy: 0.4537\n",
            "Epoch 203/300\n",
            "27/27 [==============================] - 0s 5ms/step - loss: 2.0098e-04 - accuracy: 1.0000 - val_loss: 3.5167 - val_accuracy: 0.4537\n",
            "Epoch 204/300\n",
            "27/27 [==============================] - 0s 5ms/step - loss: 1.9491e-04 - accuracy: 1.0000 - val_loss: 3.5230 - val_accuracy: 0.4537\n",
            "Epoch 205/300\n",
            "27/27 [==============================] - 0s 5ms/step - loss: 1.9027e-04 - accuracy: 1.0000 - val_loss: 3.5283 - val_accuracy: 0.4537\n",
            "Epoch 206/300\n",
            "27/27 [==============================] - 0s 5ms/step - loss: 1.8892e-04 - accuracy: 1.0000 - val_loss: 3.5354 - val_accuracy: 0.4537\n",
            "Epoch 207/300\n",
            "27/27 [==============================] - 0s 5ms/step - loss: 1.8574e-04 - accuracy: 1.0000 - val_loss: 3.5387 - val_accuracy: 0.4537\n",
            "Epoch 208/300\n",
            "27/27 [==============================] - 0s 5ms/step - loss: 1.8176e-04 - accuracy: 1.0000 - val_loss: 3.5454 - val_accuracy: 0.4561\n",
            "Epoch 209/300\n",
            "27/27 [==============================] - 0s 5ms/step - loss: 1.7758e-04 - accuracy: 1.0000 - val_loss: 3.5509 - val_accuracy: 0.4561\n",
            "Epoch 210/300\n",
            "27/27 [==============================] - 0s 5ms/step - loss: 1.7145e-04 - accuracy: 1.0000 - val_loss: 3.5569 - val_accuracy: 0.4561\n",
            "Epoch 211/300\n",
            "27/27 [==============================] - 0s 5ms/step - loss: 1.7280e-04 - accuracy: 1.0000 - val_loss: 3.5621 - val_accuracy: 0.4561\n",
            "Epoch 212/300\n",
            "27/27 [==============================] - 0s 5ms/step - loss: 1.6815e-04 - accuracy: 1.0000 - val_loss: 3.5674 - val_accuracy: 0.4561\n",
            "Epoch 213/300\n",
            "27/27 [==============================] - 0s 5ms/step - loss: 1.6748e-04 - accuracy: 1.0000 - val_loss: 3.5710 - val_accuracy: 0.4561\n",
            "Epoch 214/300\n",
            "27/27 [==============================] - 0s 5ms/step - loss: 1.6173e-04 - accuracy: 1.0000 - val_loss: 3.5781 - val_accuracy: 0.4561\n",
            "Epoch 215/300\n",
            "27/27 [==============================] - 0s 5ms/step - loss: 1.5733e-04 - accuracy: 1.0000 - val_loss: 3.5829 - val_accuracy: 0.4561\n",
            "Epoch 216/300\n",
            "27/27 [==============================] - 0s 5ms/step - loss: 1.5422e-04 - accuracy: 1.0000 - val_loss: 3.5899 - val_accuracy: 0.4561\n",
            "Epoch 217/300\n",
            "27/27 [==============================] - 0s 5ms/step - loss: 1.5084e-04 - accuracy: 1.0000 - val_loss: 3.5954 - val_accuracy: 0.4561\n",
            "Epoch 218/300\n",
            "27/27 [==============================] - 0s 5ms/step - loss: 1.4793e-04 - accuracy: 1.0000 - val_loss: 3.6005 - val_accuracy: 0.4561\n",
            "Epoch 219/300\n",
            "27/27 [==============================] - 0s 5ms/step - loss: 1.4980e-04 - accuracy: 1.0000 - val_loss: 3.6041 - val_accuracy: 0.4561\n",
            "Epoch 220/300\n",
            "27/27 [==============================] - 0s 5ms/step - loss: 1.4613e-04 - accuracy: 1.0000 - val_loss: 3.6115 - val_accuracy: 0.4561\n",
            "Epoch 221/300\n",
            "27/27 [==============================] - 0s 6ms/step - loss: 1.4144e-04 - accuracy: 1.0000 - val_loss: 3.6196 - val_accuracy: 0.4561\n",
            "Epoch 222/300\n",
            "27/27 [==============================] - 0s 6ms/step - loss: 1.4025e-04 - accuracy: 1.0000 - val_loss: 3.6240 - val_accuracy: 0.4561\n",
            "Epoch 223/300\n",
            "27/27 [==============================] - 0s 5ms/step - loss: 1.3625e-04 - accuracy: 1.0000 - val_loss: 3.6317 - val_accuracy: 0.4537\n",
            "Epoch 224/300\n",
            "27/27 [==============================] - 0s 5ms/step - loss: 1.3624e-04 - accuracy: 1.0000 - val_loss: 3.6360 - val_accuracy: 0.4561\n",
            "Epoch 225/300\n",
            "27/27 [==============================] - 0s 5ms/step - loss: 1.3058e-04 - accuracy: 1.0000 - val_loss: 3.6401 - val_accuracy: 0.4561\n",
            "Epoch 226/300\n",
            "27/27 [==============================] - 0s 5ms/step - loss: 1.2897e-04 - accuracy: 1.0000 - val_loss: 3.6445 - val_accuracy: 0.4561\n",
            "Epoch 227/300\n",
            "27/27 [==============================] - 0s 5ms/step - loss: 1.2638e-04 - accuracy: 1.0000 - val_loss: 3.6504 - val_accuracy: 0.4561\n",
            "Epoch 228/300\n",
            "27/27 [==============================] - 0s 5ms/step - loss: 1.2490e-04 - accuracy: 1.0000 - val_loss: 3.6554 - val_accuracy: 0.4561\n",
            "Epoch 229/300\n",
            "27/27 [==============================] - 0s 5ms/step - loss: 1.2443e-04 - accuracy: 1.0000 - val_loss: 3.6603 - val_accuracy: 0.4561\n",
            "Epoch 230/300\n",
            "27/27 [==============================] - 0s 5ms/step - loss: 1.2185e-04 - accuracy: 1.0000 - val_loss: 3.6649 - val_accuracy: 0.4561\n",
            "Epoch 231/300\n",
            "27/27 [==============================] - 0s 5ms/step - loss: 1.1910e-04 - accuracy: 1.0000 - val_loss: 3.6681 - val_accuracy: 0.4561\n",
            "Epoch 232/300\n",
            "27/27 [==============================] - 0s 5ms/step - loss: 1.1811e-04 - accuracy: 1.0000 - val_loss: 3.6737 - val_accuracy: 0.4537\n",
            "Epoch 233/300\n",
            "27/27 [==============================] - 0s 5ms/step - loss: 1.1258e-04 - accuracy: 1.0000 - val_loss: 3.6782 - val_accuracy: 0.4537\n",
            "Epoch 234/300\n",
            "27/27 [==============================] - 0s 5ms/step - loss: 1.1461e-04 - accuracy: 1.0000 - val_loss: 3.6844 - val_accuracy: 0.4561\n",
            "Epoch 235/300\n",
            "27/27 [==============================] - 0s 5ms/step - loss: 1.1093e-04 - accuracy: 1.0000 - val_loss: 3.6923 - val_accuracy: 0.4585\n",
            "Epoch 236/300\n",
            "27/27 [==============================] - 0s 5ms/step - loss: 1.0655e-04 - accuracy: 1.0000 - val_loss: 3.6950 - val_accuracy: 0.4585\n",
            "Epoch 237/300\n",
            "27/27 [==============================] - 0s 5ms/step - loss: 1.0514e-04 - accuracy: 1.0000 - val_loss: 3.7010 - val_accuracy: 0.4585\n",
            "Epoch 238/300\n",
            "27/27 [==============================] - 0s 5ms/step - loss: 1.0522e-04 - accuracy: 1.0000 - val_loss: 3.7078 - val_accuracy: 0.4610\n",
            "Epoch 239/300\n",
            "27/27 [==============================] - 0s 5ms/step - loss: 1.0237e-04 - accuracy: 1.0000 - val_loss: 3.7123 - val_accuracy: 0.4634\n",
            "Epoch 240/300\n",
            "27/27 [==============================] - 0s 5ms/step - loss: 1.0394e-04 - accuracy: 1.0000 - val_loss: 3.7168 - val_accuracy: 0.4561\n",
            "Epoch 241/300\n",
            "27/27 [==============================] - 0s 5ms/step - loss: 1.0020e-04 - accuracy: 1.0000 - val_loss: 3.7220 - val_accuracy: 0.4610\n",
            "Epoch 242/300\n",
            "27/27 [==============================] - 0s 6ms/step - loss: 9.7603e-05 - accuracy: 1.0000 - val_loss: 3.7280 - val_accuracy: 0.4634\n",
            "Epoch 243/300\n",
            "27/27 [==============================] - 0s 5ms/step - loss: 9.5167e-05 - accuracy: 1.0000 - val_loss: 3.7324 - val_accuracy: 0.4610\n",
            "Epoch 244/300\n",
            "27/27 [==============================] - 0s 5ms/step - loss: 9.4880e-05 - accuracy: 1.0000 - val_loss: 3.7370 - val_accuracy: 0.4634\n",
            "Epoch 245/300\n",
            "27/27 [==============================] - 0s 5ms/step - loss: 9.2814e-05 - accuracy: 1.0000 - val_loss: 3.7454 - val_accuracy: 0.4585\n",
            "Epoch 246/300\n",
            "27/27 [==============================] - 0s 5ms/step - loss: 8.9879e-05 - accuracy: 1.0000 - val_loss: 3.7520 - val_accuracy: 0.4585\n",
            "Epoch 247/300\n",
            "27/27 [==============================] - 0s 5ms/step - loss: 8.8435e-05 - accuracy: 1.0000 - val_loss: 3.7544 - val_accuracy: 0.4585\n",
            "Epoch 248/300\n",
            "27/27 [==============================] - 0s 5ms/step - loss: 8.6350e-05 - accuracy: 1.0000 - val_loss: 3.7581 - val_accuracy: 0.4610\n",
            "Epoch 249/300\n",
            "27/27 [==============================] - 0s 5ms/step - loss: 8.4636e-05 - accuracy: 1.0000 - val_loss: 3.7635 - val_accuracy: 0.4610\n",
            "Epoch 250/300\n",
            "27/27 [==============================] - 0s 5ms/step - loss: 8.4593e-05 - accuracy: 1.0000 - val_loss: 3.7694 - val_accuracy: 0.4634\n",
            "Epoch 251/300\n",
            "27/27 [==============================] - 0s 5ms/step - loss: 8.4253e-05 - accuracy: 1.0000 - val_loss: 3.7734 - val_accuracy: 0.4634\n",
            "Epoch 252/300\n",
            "27/27 [==============================] - 0s 5ms/step - loss: 8.0149e-05 - accuracy: 1.0000 - val_loss: 3.7804 - val_accuracy: 0.4610\n",
            "Epoch 253/300\n",
            "27/27 [==============================] - 0s 5ms/step - loss: 8.0870e-05 - accuracy: 1.0000 - val_loss: 3.7857 - val_accuracy: 0.4634\n",
            "Epoch 254/300\n",
            "27/27 [==============================] - 0s 5ms/step - loss: 7.7531e-05 - accuracy: 1.0000 - val_loss: 3.7897 - val_accuracy: 0.4634\n",
            "Epoch 255/300\n",
            "27/27 [==============================] - 0s 5ms/step - loss: 7.8386e-05 - accuracy: 1.0000 - val_loss: 3.7953 - val_accuracy: 0.4610\n",
            "Epoch 256/300\n",
            "27/27 [==============================] - 0s 5ms/step - loss: 7.4954e-05 - accuracy: 1.0000 - val_loss: 3.8007 - val_accuracy: 0.4634\n",
            "Epoch 257/300\n",
            "27/27 [==============================] - 0s 5ms/step - loss: 7.4028e-05 - accuracy: 1.0000 - val_loss: 3.8053 - val_accuracy: 0.4610\n",
            "Epoch 258/300\n",
            "27/27 [==============================] - 0s 5ms/step - loss: 7.2722e-05 - accuracy: 1.0000 - val_loss: 3.8119 - val_accuracy: 0.4610\n",
            "Epoch 259/300\n",
            "27/27 [==============================] - 0s 5ms/step - loss: 7.3248e-05 - accuracy: 1.0000 - val_loss: 3.8157 - val_accuracy: 0.4610\n",
            "Epoch 260/300\n",
            "27/27 [==============================] - 0s 5ms/step - loss: 7.2273e-05 - accuracy: 1.0000 - val_loss: 3.8228 - val_accuracy: 0.4585\n",
            "Epoch 261/300\n",
            "27/27 [==============================] - 0s 5ms/step - loss: 7.5130e-05 - accuracy: 1.0000 - val_loss: 3.8236 - val_accuracy: 0.4610\n",
            "Epoch 262/300\n",
            "27/27 [==============================] - 0s 5ms/step - loss: 6.7708e-05 - accuracy: 1.0000 - val_loss: 3.8289 - val_accuracy: 0.4585\n",
            "Epoch 263/300\n",
            "27/27 [==============================] - 0s 6ms/step - loss: 6.8338e-05 - accuracy: 1.0000 - val_loss: 3.8360 - val_accuracy: 0.4585\n",
            "Epoch 264/300\n",
            "27/27 [==============================] - 0s 5ms/step - loss: 6.4594e-05 - accuracy: 1.0000 - val_loss: 3.8417 - val_accuracy: 0.4585\n",
            "Epoch 265/300\n",
            "27/27 [==============================] - 0s 5ms/step - loss: 6.5569e-05 - accuracy: 1.0000 - val_loss: 3.8480 - val_accuracy: 0.4585\n",
            "Epoch 266/300\n",
            "27/27 [==============================] - 0s 5ms/step - loss: 6.6782e-05 - accuracy: 1.0000 - val_loss: 3.8518 - val_accuracy: 0.4610\n",
            "Epoch 267/300\n",
            "27/27 [==============================] - 0s 5ms/step - loss: 6.3194e-05 - accuracy: 1.0000 - val_loss: 3.8557 - val_accuracy: 0.4610\n",
            "Epoch 268/300\n",
            "27/27 [==============================] - 0s 5ms/step - loss: 6.1046e-05 - accuracy: 1.0000 - val_loss: 3.8602 - val_accuracy: 0.4610\n",
            "Epoch 269/300\n",
            "27/27 [==============================] - 0s 5ms/step - loss: 6.0192e-05 - accuracy: 1.0000 - val_loss: 3.8657 - val_accuracy: 0.4610\n",
            "Epoch 270/300\n",
            "27/27 [==============================] - 0s 6ms/step - loss: 6.0063e-05 - accuracy: 1.0000 - val_loss: 3.8713 - val_accuracy: 0.4610\n",
            "Epoch 271/300\n",
            "27/27 [==============================] - 0s 5ms/step - loss: 6.0272e-05 - accuracy: 1.0000 - val_loss: 3.8760 - val_accuracy: 0.4610\n",
            "Epoch 272/300\n",
            "27/27 [==============================] - 0s 5ms/step - loss: 5.8795e-05 - accuracy: 1.0000 - val_loss: 3.8783 - val_accuracy: 0.4585\n",
            "Epoch 273/300\n",
            "27/27 [==============================] - 0s 5ms/step - loss: 5.9177e-05 - accuracy: 1.0000 - val_loss: 3.8831 - val_accuracy: 0.4610\n",
            "Epoch 274/300\n",
            "27/27 [==============================] - 0s 5ms/step - loss: 5.5440e-05 - accuracy: 1.0000 - val_loss: 3.8900 - val_accuracy: 0.4610\n",
            "Epoch 275/300\n",
            "27/27 [==============================] - 0s 5ms/step - loss: 5.4753e-05 - accuracy: 1.0000 - val_loss: 3.8945 - val_accuracy: 0.4610\n",
            "Epoch 276/300\n",
            "27/27 [==============================] - 0s 5ms/step - loss: 5.4017e-05 - accuracy: 1.0000 - val_loss: 3.8995 - val_accuracy: 0.4610\n",
            "Epoch 277/300\n",
            "27/27 [==============================] - 0s 5ms/step - loss: 5.3628e-05 - accuracy: 1.0000 - val_loss: 3.9059 - val_accuracy: 0.4610\n",
            "Epoch 278/300\n",
            "27/27 [==============================] - 0s 5ms/step - loss: 5.1878e-05 - accuracy: 1.0000 - val_loss: 3.9068 - val_accuracy: 0.4610\n",
            "Epoch 279/300\n",
            "27/27 [==============================] - 0s 5ms/step - loss: 5.0898e-05 - accuracy: 1.0000 - val_loss: 3.9149 - val_accuracy: 0.4610\n",
            "Epoch 280/300\n",
            "27/27 [==============================] - 0s 5ms/step - loss: 5.0784e-05 - accuracy: 1.0000 - val_loss: 3.9204 - val_accuracy: 0.4610\n",
            "Epoch 281/300\n",
            "27/27 [==============================] - 0s 5ms/step - loss: 4.8714e-05 - accuracy: 1.0000 - val_loss: 3.9259 - val_accuracy: 0.4585\n",
            "Epoch 282/300\n",
            "27/27 [==============================] - 0s 5ms/step - loss: 4.8285e-05 - accuracy: 1.0000 - val_loss: 3.9298 - val_accuracy: 0.4585\n",
            "Epoch 283/300\n",
            "27/27 [==============================] - 0s 5ms/step - loss: 4.7169e-05 - accuracy: 1.0000 - val_loss: 3.9347 - val_accuracy: 0.4585\n",
            "Epoch 284/300\n",
            "27/27 [==============================] - 0s 5ms/step - loss: 4.6238e-05 - accuracy: 1.0000 - val_loss: 3.9404 - val_accuracy: 0.4585\n",
            "Epoch 285/300\n",
            "27/27 [==============================] - 0s 5ms/step - loss: 4.6044e-05 - accuracy: 1.0000 - val_loss: 3.9448 - val_accuracy: 0.4585\n",
            "Epoch 286/300\n",
            "27/27 [==============================] - 0s 5ms/step - loss: 4.5637e-05 - accuracy: 1.0000 - val_loss: 3.9506 - val_accuracy: 0.4585\n",
            "Epoch 287/300\n",
            "27/27 [==============================] - 0s 5ms/step - loss: 4.3729e-05 - accuracy: 1.0000 - val_loss: 3.9560 - val_accuracy: 0.4585\n",
            "Epoch 288/300\n",
            "27/27 [==============================] - 0s 5ms/step - loss: 4.5698e-05 - accuracy: 1.0000 - val_loss: 3.9592 - val_accuracy: 0.4585\n",
            "Epoch 289/300\n",
            "27/27 [==============================] - 0s 5ms/step - loss: 4.2919e-05 - accuracy: 1.0000 - val_loss: 3.9644 - val_accuracy: 0.4585\n",
            "Epoch 290/300\n",
            "27/27 [==============================] - 0s 5ms/step - loss: 4.2460e-05 - accuracy: 1.0000 - val_loss: 3.9696 - val_accuracy: 0.4585\n",
            "Epoch 291/300\n",
            "27/27 [==============================] - 0s 5ms/step - loss: 4.2243e-05 - accuracy: 1.0000 - val_loss: 3.9741 - val_accuracy: 0.4610\n",
            "Epoch 292/300\n",
            "27/27 [==============================] - 0s 5ms/step - loss: 4.3248e-05 - accuracy: 1.0000 - val_loss: 3.9776 - val_accuracy: 0.4585\n",
            "Epoch 293/300\n",
            "27/27 [==============================] - 0s 5ms/step - loss: 4.0226e-05 - accuracy: 1.0000 - val_loss: 3.9818 - val_accuracy: 0.4610\n",
            "Epoch 294/300\n",
            "27/27 [==============================] - 0s 5ms/step - loss: 4.0213e-05 - accuracy: 1.0000 - val_loss: 3.9887 - val_accuracy: 0.4610\n",
            "Epoch 295/300\n",
            "27/27 [==============================] - 0s 6ms/step - loss: 3.9897e-05 - accuracy: 1.0000 - val_loss: 3.9920 - val_accuracy: 0.4585\n",
            "Epoch 296/300\n",
            "27/27 [==============================] - 0s 5ms/step - loss: 3.8270e-05 - accuracy: 1.0000 - val_loss: 3.9978 - val_accuracy: 0.4610\n",
            "Epoch 297/300\n",
            "27/27 [==============================] - 0s 5ms/step - loss: 3.7330e-05 - accuracy: 1.0000 - val_loss: 4.0034 - val_accuracy: 0.4585\n",
            "Epoch 298/300\n",
            "27/27 [==============================] - 0s 5ms/step - loss: 3.9136e-05 - accuracy: 1.0000 - val_loss: 4.0077 - val_accuracy: 0.4585\n",
            "Epoch 299/300\n",
            "27/27 [==============================] - 0s 5ms/step - loss: 3.6263e-05 - accuracy: 1.0000 - val_loss: 4.0126 - val_accuracy: 0.4610\n",
            "Epoch 300/300\n",
            "27/27 [==============================] - 0s 5ms/step - loss: 3.5914e-05 - accuracy: 1.0000 - val_loss: 4.0164 - val_accuracy: 0.4610\n"
          ],
          "name": "stdout"
        }
      ]
    },
    {
      "cell_type": "code",
      "metadata": {
        "id": "erq--mqRRgfR",
        "colab_type": "code",
        "outputId": "a8bf6302-d16b-47f3-d8a7-977da43b5123",
        "colab": {
          "base_uri": "https://localhost:8080/",
          "height": 265
        }
      },
      "source": [
        "# plot the loss\n",
        "plt.plot(r.history['loss'], label='loss')\n",
        "plt.plot(r.history['val_loss'], label='val_loss')\n",
        "plt.legend()\n",
        "plt.show()"
      ],
      "execution_count": 39,
      "outputs": [
        {
          "output_type": "display_data",
          "data": {
            "image/png": "[encoded data removed]",
            "text/plain": [
              "<Figure size 432x288 with 1 Axes>"
            ]
          },
          "metadata": {
            "tags": [],
            "needs_background": "light"
          }
        }
      ]
    },
    {
      "cell_type": "code",
      "metadata": {
        "id": "D9ZzosDMRjBU",
        "colab_type": "code",
        "outputId": "4c8b089e-34f3-467a-f3a9-7f5ca159a246",
        "colab": {
          "base_uri": "https://localhost:8080/",
          "height": 265
        }
      },
      "source": [
        "# Plot accuracy per iteration\n",
        "plt.plot(r.history['accuracy'], label='accuracy')\n",
        "plt.plot(r.history['val_accuracy'], label='val_accuracy')\n",
        "plt.legend()\n",
        "plt.show()"
      ],
      "execution_count": 40,
      "outputs": [
        {
          "output_type": "display_data",
          "data": {
            "image/png": "[encoded data removed]",
            "text/plain": [
              "<Figure size 432x288 with 1 Axes>"
            ]
          },
          "metadata": {
            "tags": [],
            "needs_background": "light"
          }
        }
      ]
    }
  ]
}